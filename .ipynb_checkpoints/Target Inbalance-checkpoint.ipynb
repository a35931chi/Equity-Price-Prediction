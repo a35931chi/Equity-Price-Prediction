{
 "cells": [
  {
   "cell_type": "markdown",
   "metadata": {},
   "source": [
    "Lets's look at the inbalance issues of the classification exercises"
   ]
  },
  {
   "cell_type": "code",
   "execution_count": 1,
   "metadata": {},
   "outputs": [],
   "source": [
    "from Extract_Data import extract_data"
   ]
  },
  {
   "cell_type": "code",
   "execution_count": 2,
   "metadata": {},
   "outputs": [
    {
     "name": "stderr",
     "output_type": "stream",
     "text": [
      "c:\\users\\inves\\appdata\\local\\programs\\python\\python35\\lib\\site-packages\\sklearn\\preprocessing\\data.py:586: DeprecationWarning: Passing 1d arrays as data is deprecated in 0.17 and will raise ValueError in 0.19. Reshape your data either using X.reshape(-1, 1) if your data has a single feature or X.reshape(1, -1) if it contains a single sample.\n",
      "  warnings.warn(DEPRECATION_MSG_1D, DeprecationWarning)\n",
      "c:\\users\\inves\\appdata\\local\\programs\\python\\python35\\lib\\site-packages\\sklearn\\preprocessing\\data.py:649: DeprecationWarning: Passing 1d arrays as data is deprecated in 0.17 and will raise ValueError in 0.19. Reshape your data either using X.reshape(-1, 1) if your data has a single feature or X.reshape(1, -1) if it contains a single sample.\n",
      "  warnings.warn(DEPRECATION_MSG_1D, DeprecationWarning)\n",
      "c:\\users\\inves\\appdata\\local\\programs\\python\\python35\\lib\\site-packages\\sklearn\\preprocessing\\data.py:321: DeprecationWarning: Passing 1d arrays as data is deprecated in 0.17 and will raise ValueError in 0.19. Reshape your data either using X.reshape(-1, 1) if your data has a single feature or X.reshape(1, -1) if it contains a single sample.\n",
      "  warnings.warn(DEPRECATION_MSG_1D, DeprecationWarning)\n",
      "c:\\users\\inves\\appdata\\local\\programs\\python\\python35\\lib\\site-packages\\sklearn\\preprocessing\\data.py:356: DeprecationWarning: Passing 1d arrays as data is deprecated in 0.17 and will raise ValueError in 0.19. Reshape your data either using X.reshape(-1, 1) if your data has a single feature or X.reshape(1, -1) if it contains a single sample.\n",
      "  warnings.warn(DEPRECATION_MSG_1D, DeprecationWarning)\n"
     ]
    }
   ],
   "source": [
    "_, HD_PCA_df, HD_df = extract_data('HD', None)"
   ]
  },
  {
   "cell_type": "code",
   "execution_count": 3,
   "metadata": {},
   "outputs": [
    {
     "name": "stderr",
     "output_type": "stream",
     "text": [
      "c:\\users\\inves\\appdata\\local\\programs\\python\\python35\\lib\\site-packages\\sklearn\\preprocessing\\data.py:586: DeprecationWarning: Passing 1d arrays as data is deprecated in 0.17 and will raise ValueError in 0.19. Reshape your data either using X.reshape(-1, 1) if your data has a single feature or X.reshape(1, -1) if it contains a single sample.\n",
      "  warnings.warn(DEPRECATION_MSG_1D, DeprecationWarning)\n",
      "c:\\users\\inves\\appdata\\local\\programs\\python\\python35\\lib\\site-packages\\sklearn\\preprocessing\\data.py:649: DeprecationWarning: Passing 1d arrays as data is deprecated in 0.17 and will raise ValueError in 0.19. Reshape your data either using X.reshape(-1, 1) if your data has a single feature or X.reshape(1, -1) if it contains a single sample.\n",
      "  warnings.warn(DEPRECATION_MSG_1D, DeprecationWarning)\n",
      "c:\\users\\inves\\appdata\\local\\programs\\python\\python35\\lib\\site-packages\\sklearn\\preprocessing\\data.py:321: DeprecationWarning: Passing 1d arrays as data is deprecated in 0.17 and will raise ValueError in 0.19. Reshape your data either using X.reshape(-1, 1) if your data has a single feature or X.reshape(1, -1) if it contains a single sample.\n",
      "  warnings.warn(DEPRECATION_MSG_1D, DeprecationWarning)\n",
      "c:\\users\\inves\\appdata\\local\\programs\\python\\python35\\lib\\site-packages\\sklearn\\preprocessing\\data.py:356: DeprecationWarning: Passing 1d arrays as data is deprecated in 0.17 and will raise ValueError in 0.19. Reshape your data either using X.reshape(-1, 1) if your data has a single feature or X.reshape(1, -1) if it contains a single sample.\n",
      "  warnings.warn(DEPRECATION_MSG_1D, DeprecationWarning)\n"
     ]
    }
   ],
   "source": [
    "_, SPY_PCA_df, SPY_df = extract_data('SPY', None)"
   ]
  },
  {
   "cell_type": "code",
   "execution_count": 4,
   "metadata": {},
   "outputs": [
    {
     "name": "stderr",
     "output_type": "stream",
     "text": [
      "c:\\users\\inves\\appdata\\local\\programs\\python\\python35\\lib\\site-packages\\sklearn\\preprocessing\\data.py:586: DeprecationWarning: Passing 1d arrays as data is deprecated in 0.17 and will raise ValueError in 0.19. Reshape your data either using X.reshape(-1, 1) if your data has a single feature or X.reshape(1, -1) if it contains a single sample.\n",
      "  warnings.warn(DEPRECATION_MSG_1D, DeprecationWarning)\n",
      "c:\\users\\inves\\appdata\\local\\programs\\python\\python35\\lib\\site-packages\\sklearn\\preprocessing\\data.py:649: DeprecationWarning: Passing 1d arrays as data is deprecated in 0.17 and will raise ValueError in 0.19. Reshape your data either using X.reshape(-1, 1) if your data has a single feature or X.reshape(1, -1) if it contains a single sample.\n",
      "  warnings.warn(DEPRECATION_MSG_1D, DeprecationWarning)\n",
      "c:\\users\\inves\\appdata\\local\\programs\\python\\python35\\lib\\site-packages\\sklearn\\preprocessing\\data.py:321: DeprecationWarning: Passing 1d arrays as data is deprecated in 0.17 and will raise ValueError in 0.19. Reshape your data either using X.reshape(-1, 1) if your data has a single feature or X.reshape(1, -1) if it contains a single sample.\n",
      "  warnings.warn(DEPRECATION_MSG_1D, DeprecationWarning)\n",
      "c:\\users\\inves\\appdata\\local\\programs\\python\\python35\\lib\\site-packages\\sklearn\\preprocessing\\data.py:356: DeprecationWarning: Passing 1d arrays as data is deprecated in 0.17 and will raise ValueError in 0.19. Reshape your data either using X.reshape(-1, 1) if your data has a single feature or X.reshape(1, -1) if it contains a single sample.\n",
      "  warnings.warn(DEPRECATION_MSG_1D, DeprecationWarning)\n"
     ]
    }
   ],
   "source": [
    "_, AAPL_PCA_df, AAPL_df = extract_data('AAPL', None)"
   ]
  },
  {
   "cell_type": "code",
   "execution_count": 5,
   "metadata": {},
   "outputs": [
    {
     "name": "stderr",
     "output_type": "stream",
     "text": [
      "c:\\users\\inves\\appdata\\local\\programs\\python\\python35\\lib\\site-packages\\sklearn\\preprocessing\\data.py:586: DeprecationWarning: Passing 1d arrays as data is deprecated in 0.17 and will raise ValueError in 0.19. Reshape your data either using X.reshape(-1, 1) if your data has a single feature or X.reshape(1, -1) if it contains a single sample.\n",
      "  warnings.warn(DEPRECATION_MSG_1D, DeprecationWarning)\n",
      "c:\\users\\inves\\appdata\\local\\programs\\python\\python35\\lib\\site-packages\\sklearn\\preprocessing\\data.py:649: DeprecationWarning: Passing 1d arrays as data is deprecated in 0.17 and will raise ValueError in 0.19. Reshape your data either using X.reshape(-1, 1) if your data has a single feature or X.reshape(1, -1) if it contains a single sample.\n",
      "  warnings.warn(DEPRECATION_MSG_1D, DeprecationWarning)\n",
      "c:\\users\\inves\\appdata\\local\\programs\\python\\python35\\lib\\site-packages\\sklearn\\preprocessing\\data.py:321: DeprecationWarning: Passing 1d arrays as data is deprecated in 0.17 and will raise ValueError in 0.19. Reshape your data either using X.reshape(-1, 1) if your data has a single feature or X.reshape(1, -1) if it contains a single sample.\n",
      "  warnings.warn(DEPRECATION_MSG_1D, DeprecationWarning)\n",
      "c:\\users\\inves\\appdata\\local\\programs\\python\\python35\\lib\\site-packages\\sklearn\\preprocessing\\data.py:356: DeprecationWarning: Passing 1d arrays as data is deprecated in 0.17 and will raise ValueError in 0.19. Reshape your data either using X.reshape(-1, 1) if your data has a single feature or X.reshape(1, -1) if it contains a single sample.\n",
      "  warnings.warn(DEPRECATION_MSG_1D, DeprecationWarning)\n"
     ]
    }
   ],
   "source": [
    "_, AAPL2_PCA_df, AAPL2_df = extract_data('AAPL2', None)"
   ]
  },
  {
   "cell_type": "code",
   "execution_count": 6,
   "metadata": {},
   "outputs": [
    {
     "name": "stderr",
     "output_type": "stream",
     "text": [
      "c:\\users\\inves\\appdata\\local\\programs\\python\\python35\\lib\\site-packages\\sklearn\\preprocessing\\data.py:586: DeprecationWarning: Passing 1d arrays as data is deprecated in 0.17 and will raise ValueError in 0.19. Reshape your data either using X.reshape(-1, 1) if your data has a single feature or X.reshape(1, -1) if it contains a single sample.\n",
      "  warnings.warn(DEPRECATION_MSG_1D, DeprecationWarning)\n",
      "c:\\users\\inves\\appdata\\local\\programs\\python\\python35\\lib\\site-packages\\sklearn\\preprocessing\\data.py:649: DeprecationWarning: Passing 1d arrays as data is deprecated in 0.17 and will raise ValueError in 0.19. Reshape your data either using X.reshape(-1, 1) if your data has a single feature or X.reshape(1, -1) if it contains a single sample.\n",
      "  warnings.warn(DEPRECATION_MSG_1D, DeprecationWarning)\n",
      "c:\\users\\inves\\appdata\\local\\programs\\python\\python35\\lib\\site-packages\\sklearn\\preprocessing\\data.py:321: DeprecationWarning: Passing 1d arrays as data is deprecated in 0.17 and will raise ValueError in 0.19. Reshape your data either using X.reshape(-1, 1) if your data has a single feature or X.reshape(1, -1) if it contains a single sample.\n",
      "  warnings.warn(DEPRECATION_MSG_1D, DeprecationWarning)\n",
      "c:\\users\\inves\\appdata\\local\\programs\\python\\python35\\lib\\site-packages\\sklearn\\preprocessing\\data.py:356: DeprecationWarning: Passing 1d arrays as data is deprecated in 0.17 and will raise ValueError in 0.19. Reshape your data either using X.reshape(-1, 1) if your data has a single feature or X.reshape(1, -1) if it contains a single sample.\n",
      "  warnings.warn(DEPRECATION_MSG_1D, DeprecationWarning)\n"
     ]
    }
   ],
   "source": [
    "_, FB_PCA_df, FB_df = extract_data('FB', None)"
   ]
  },
  {
   "cell_type": "code",
   "execution_count": 7,
   "metadata": {},
   "outputs": [
    {
     "name": "stderr",
     "output_type": "stream",
     "text": [
      "c:\\users\\inves\\appdata\\local\\programs\\python\\python35\\lib\\site-packages\\sklearn\\preprocessing\\data.py:586: DeprecationWarning: Passing 1d arrays as data is deprecated in 0.17 and will raise ValueError in 0.19. Reshape your data either using X.reshape(-1, 1) if your data has a single feature or X.reshape(1, -1) if it contains a single sample.\n",
      "  warnings.warn(DEPRECATION_MSG_1D, DeprecationWarning)\n",
      "c:\\users\\inves\\appdata\\local\\programs\\python\\python35\\lib\\site-packages\\sklearn\\preprocessing\\data.py:649: DeprecationWarning: Passing 1d arrays as data is deprecated in 0.17 and will raise ValueError in 0.19. Reshape your data either using X.reshape(-1, 1) if your data has a single feature or X.reshape(1, -1) if it contains a single sample.\n",
      "  warnings.warn(DEPRECATION_MSG_1D, DeprecationWarning)\n",
      "c:\\users\\inves\\appdata\\local\\programs\\python\\python35\\lib\\site-packages\\sklearn\\preprocessing\\data.py:321: DeprecationWarning: Passing 1d arrays as data is deprecated in 0.17 and will raise ValueError in 0.19. Reshape your data either using X.reshape(-1, 1) if your data has a single feature or X.reshape(1, -1) if it contains a single sample.\n",
      "  warnings.warn(DEPRECATION_MSG_1D, DeprecationWarning)\n",
      "c:\\users\\inves\\appdata\\local\\programs\\python\\python35\\lib\\site-packages\\sklearn\\preprocessing\\data.py:356: DeprecationWarning: Passing 1d arrays as data is deprecated in 0.17 and will raise ValueError in 0.19. Reshape your data either using X.reshape(-1, 1) if your data has a single feature or X.reshape(1, -1) if it contains a single sample.\n",
      "  warnings.warn(DEPRECATION_MSG_1D, DeprecationWarning)\n"
     ]
    }
   ],
   "source": [
    "_, AMZN_PCA_df, AMZN_df = extract_data('AMZN', None)"
   ]
  },
  {
   "cell_type": "code",
   "execution_count": 10,
   "metadata": {},
   "outputs": [
    {
     "data": {
      "text/html": [
       "<div>\n",
       "<table border=\"1\" class=\"dataframe\">\n",
       "  <thead>\n",
       "    <tr style=\"text-align: right;\">\n",
       "      <th></th>\n",
       "      <th>Open</th>\n",
       "      <th>High</th>\n",
       "      <th>Low</th>\n",
       "      <th>Close</th>\n",
       "      <th>Adj Close</th>\n",
       "      <th>Volume</th>\n",
       "      <th>Range</th>\n",
       "      <th>MA5 Adj Close</th>\n",
       "      <th>MA5 Volume</th>\n",
       "      <th>MA5 Adj Close pct_change</th>\n",
       "      <th>MA5 Volume pct_change</th>\n",
       "      <th>Adj Close 1day</th>\n",
       "      <th>Adj Close 5day</th>\n",
       "      <th>Adj Close 1day pct_change</th>\n",
       "      <th>Adj Close 5day pct_change</th>\n",
       "      <th>Adj Close 1day pct_change cls</th>\n",
       "      <th>Adj Close 5day pct_change cls</th>\n",
       "    </tr>\n",
       "    <tr>\n",
       "      <th>Date</th>\n",
       "      <th></th>\n",
       "      <th></th>\n",
       "      <th></th>\n",
       "      <th></th>\n",
       "      <th></th>\n",
       "      <th></th>\n",
       "      <th></th>\n",
       "      <th></th>\n",
       "      <th></th>\n",
       "      <th></th>\n",
       "      <th></th>\n",
       "      <th></th>\n",
       "      <th></th>\n",
       "      <th></th>\n",
       "      <th></th>\n",
       "      <th></th>\n",
       "      <th></th>\n",
       "    </tr>\n",
       "  </thead>\n",
       "  <tbody>\n",
       "    <tr>\n",
       "      <th>1990-01-09</th>\n",
       "      <td>0.000000</td>\n",
       "      <td>-2.857415</td>\n",
       "      <td>-0.026846</td>\n",
       "      <td>1.790123</td>\n",
       "      <td>0.733761</td>\n",
       "      <td>14.443439</td>\n",
       "      <td>-3.613928</td>\n",
       "      <td>0.754696</td>\n",
       "      <td>15.173154</td>\n",
       "      <td>-0.039099</td>\n",
       "      <td>-3.590294</td>\n",
       "      <td>0.737340</td>\n",
       "      <td>0.722945</td>\n",
       "      <td>0.006897</td>\n",
       "      <td>-0.020690</td>\n",
       "      <td>1</td>\n",
       "      <td>0</td>\n",
       "    </tr>\n",
       "    <tr>\n",
       "      <th>1990-01-10</th>\n",
       "      <td>0.000000</td>\n",
       "      <td>-0.508729</td>\n",
       "      <td>-0.013793</td>\n",
       "      <td>1.802469</td>\n",
       "      <td>0.737340</td>\n",
       "      <td>14.462695</td>\n",
       "      <td>-3.873301</td>\n",
       "      <td>0.750473</td>\n",
       "      <td>14.916014</td>\n",
       "      <td>-0.024716</td>\n",
       "      <td>-3.207646</td>\n",
       "      <td>0.740906</td>\n",
       "      <td>0.737340</td>\n",
       "      <td>0.006849</td>\n",
       "      <td>0.000000</td>\n",
       "      <td>1</td>\n",
       "      <td>1</td>\n",
       "    </tr>\n",
       "    <tr>\n",
       "      <th>1990-01-11</th>\n",
       "      <td>0.013698</td>\n",
       "      <td>-1.127533</td>\n",
       "      <td>-0.010135</td>\n",
       "      <td>1.814815</td>\n",
       "      <td>0.740906</td>\n",
       "      <td>13.918953</td>\n",
       "      <td>-4.296706</td>\n",
       "      <td>0.746587</td>\n",
       "      <td>14.629395</td>\n",
       "      <td>-0.010768</td>\n",
       "      <td>-3.562248</td>\n",
       "      <td>0.721131</td>\n",
       "      <td>0.755047</td>\n",
       "      <td>-0.037415</td>\n",
       "      <td>0.027211</td>\n",
       "      <td>0</td>\n",
       "      <td>1</td>\n",
       "    </tr>\n",
       "    <tr>\n",
       "      <th>1990-01-12</th>\n",
       "      <td>-0.010204</td>\n",
       "      <td>-0.511842</td>\n",
       "      <td>-0.041237</td>\n",
       "      <td>1.746914</td>\n",
       "      <td>0.721131</td>\n",
       "      <td>14.691838</td>\n",
       "      <td>-3.032187</td>\n",
       "      <td>0.742685</td>\n",
       "      <td>14.422417</td>\n",
       "      <td>-0.040678</td>\n",
       "      <td>-2.334406</td>\n",
       "      <td>0.715669</td>\n",
       "      <td>0.763784</td>\n",
       "      <td>-0.010601</td>\n",
       "      <td>0.084806</td>\n",
       "      <td>0</td>\n",
       "      <td>1</td>\n",
       "    </tr>\n",
       "    <tr>\n",
       "      <th>1990-01-15</th>\n",
       "      <td>-0.003534</td>\n",
       "      <td>-1.087504</td>\n",
       "      <td>-0.021277</td>\n",
       "      <td>1.728395</td>\n",
       "      <td>0.715669</td>\n",
       "      <td>14.914578</td>\n",
       "      <td>-3.691974</td>\n",
       "      <td>0.736267</td>\n",
       "      <td>14.376716</td>\n",
       "      <td>-0.039122</td>\n",
       "      <td>-2.035582</td>\n",
       "      <td>0.722945</td>\n",
       "      <td>0.751530</td>\n",
       "      <td>0.014286</td>\n",
       "      <td>0.071429</td>\n",
       "      <td>1</td>\n",
       "      <td>1</td>\n",
       "    </tr>\n",
       "  </tbody>\n",
       "</table>\n",
       "</div>"
      ],
      "text/plain": [
       "                Open      High       Low     Close  Adj Close     Volume  \\\n",
       "Date                                                                       \n",
       "1990-01-09  0.000000 -2.857415 -0.026846  1.790123   0.733761  14.443439   \n",
       "1990-01-10  0.000000 -0.508729 -0.013793  1.802469   0.737340  14.462695   \n",
       "1990-01-11  0.013698 -1.127533 -0.010135  1.814815   0.740906  13.918953   \n",
       "1990-01-12 -0.010204 -0.511842 -0.041237  1.746914   0.721131  14.691838   \n",
       "1990-01-15 -0.003534 -1.087504 -0.021277  1.728395   0.715669  14.914578   \n",
       "\n",
       "               Range  MA5 Adj Close  MA5 Volume  MA5 Adj Close pct_change  \\\n",
       "Date                                                                        \n",
       "1990-01-09 -3.613928       0.754696   15.173154                 -0.039099   \n",
       "1990-01-10 -3.873301       0.750473   14.916014                 -0.024716   \n",
       "1990-01-11 -4.296706       0.746587   14.629395                 -0.010768   \n",
       "1990-01-12 -3.032187       0.742685   14.422417                 -0.040678   \n",
       "1990-01-15 -3.691974       0.736267   14.376716                 -0.039122   \n",
       "\n",
       "            MA5 Volume pct_change  Adj Close 1day  Adj Close 5day  \\\n",
       "Date                                                                \n",
       "1990-01-09              -3.590294        0.737340        0.722945   \n",
       "1990-01-10              -3.207646        0.740906        0.737340   \n",
       "1990-01-11              -3.562248        0.721131        0.755047   \n",
       "1990-01-12              -2.334406        0.715669        0.763784   \n",
       "1990-01-15              -2.035582        0.722945        0.751530   \n",
       "\n",
       "            Adj Close 1day pct_change  Adj Close 5day pct_change  \\\n",
       "Date                                                               \n",
       "1990-01-09                   0.006897                  -0.020690   \n",
       "1990-01-10                   0.006849                   0.000000   \n",
       "1990-01-11                  -0.037415                   0.027211   \n",
       "1990-01-12                  -0.010601                   0.084806   \n",
       "1990-01-15                   0.014286                   0.071429   \n",
       "\n",
       "            Adj Close 1day pct_change cls  Adj Close 5day pct_change cls  \n",
       "Date                                                                      \n",
       "1990-01-09                              1                              0  \n",
       "1990-01-10                              1                              1  \n",
       "1990-01-11                              0                              1  \n",
       "1990-01-12                              0                              1  \n",
       "1990-01-15                              1                              1  "
      ]
     },
     "execution_count": 10,
     "metadata": {},
     "output_type": "execute_result"
    }
   ],
   "source": [
    "HD_df.head()"
   ]
  },
  {
   "cell_type": "code",
   "execution_count": 22,
   "metadata": {},
   "outputs": [
    {
     "name": "stdout",
     "output_type": "stream",
     "text": [
      "Adj Close 1day pct_change cls\n",
      "0    0.470262\n",
      "1    0.529738\n",
      "Name: Adj Close 1day pct_change cls, dtype: float64\n",
      "Adj Close 5day pct_change cls\n",
      "0    0.442396\n",
      "1    0.557604\n",
      "Name: Adj Close 5day pct_change cls, dtype: float64\n"
     ]
    }
   ],
   "source": [
    "print(HD_df.groupby('Adj Close 1day pct_change cls')['Adj Close 1day pct_change cls'].count()/HD_df['Adj Close 1day pct_change cls'].count())\n",
    "print(HD_df.groupby('Adj Close 5day pct_change cls')['Adj Close 5day pct_change cls'].count()/HD_df['Adj Close 5day pct_change cls'].count())"
   ]
  },
  {
   "cell_type": "code",
   "execution_count": 23,
   "metadata": {},
   "outputs": [
    {
     "name": "stdout",
     "output_type": "stream",
     "text": [
      "Adj Close 1day pct_change cls\n",
      "0    0.453373\n",
      "1    0.546627\n",
      "Name: Adj Close 1day pct_change cls, dtype: float64\n",
      "Adj Close 5day pct_change cls\n",
      "0    0.416226\n",
      "1    0.583774\n",
      "Name: Adj Close 5day pct_change cls, dtype: float64\n"
     ]
    }
   ],
   "source": [
    "print(SPY_df.groupby('Adj Close 1day pct_change cls')['Adj Close 1day pct_change cls'].count()/SPY_df['Adj Close 1day pct_change cls'].count())\n",
    "print(SPY_df.groupby('Adj Close 5day pct_change cls')['Adj Close 5day pct_change cls'].count()/SPY_df['Adj Close 5day pct_change cls'].count())"
   ]
  },
  {
   "cell_type": "code",
   "execution_count": 24,
   "metadata": {},
   "outputs": [
    {
     "name": "stdout",
     "output_type": "stream",
     "text": [
      "Adj Close 1day pct_change cls\n",
      "0    0.472203\n",
      "1    0.527797\n",
      "Name: Adj Close 1day pct_change cls, dtype: float64\n",
      "Adj Close 5day pct_change cls\n",
      "0    0.441564\n",
      "1    0.558436\n",
      "Name: Adj Close 5day pct_change cls, dtype: float64\n"
     ]
    }
   ],
   "source": [
    "print(AAPL_df.groupby('Adj Close 1day pct_change cls')['Adj Close 1day pct_change cls'].count()/AAPL_df['Adj Close 1day pct_change cls'].count())\n",
    "print(AAPL_df.groupby('Adj Close 5day pct_change cls')['Adj Close 5day pct_change cls'].count()/AAPL_df['Adj Close 5day pct_change cls'].count())"
   ]
  },
  {
   "cell_type": "code",
   "execution_count": 25,
   "metadata": {},
   "outputs": [
    {
     "name": "stdout",
     "output_type": "stream",
     "text": [
      "Adj Close 1day pct_change cls\n",
      "0    0.471745\n",
      "1    0.528255\n",
      "Name: Adj Close 1day pct_change cls, dtype: float64\n",
      "Adj Close 5day pct_change cls\n",
      "0    0.441413\n",
      "1    0.558587\n",
      "Name: Adj Close 5day pct_change cls, dtype: float64\n"
     ]
    }
   ],
   "source": [
    "print(AAPL2_df.groupby('Adj Close 1day pct_change cls')['Adj Close 1day pct_change cls'].count()/AAPL2_df['Adj Close 1day pct_change cls'].count())\n",
    "print(AAPL2_df.groupby('Adj Close 5day pct_change cls')['Adj Close 5day pct_change cls'].count()/AAPL2_df['Adj Close 5day pct_change cls'].count())"
   ]
  },
  {
   "cell_type": "code",
   "execution_count": 26,
   "metadata": {},
   "outputs": [
    {
     "name": "stdout",
     "output_type": "stream",
     "text": [
      "Adj Close 1day pct_change cls\n",
      "0    0.466582\n",
      "1    0.533418\n",
      "Name: Adj Close 1day pct_change cls, dtype: float64\n",
      "Adj Close 5day pct_change cls\n",
      "0    0.430936\n",
      "1    0.569064\n",
      "Name: Adj Close 5day pct_change cls, dtype: float64\n"
     ]
    }
   ],
   "source": [
    "print(FB_df.groupby('Adj Close 1day pct_change cls')['Adj Close 1day pct_change cls'].count()/FB_df['Adj Close 1day pct_change cls'].count())\n",
    "print(FB_df.groupby('Adj Close 5day pct_change cls')['Adj Close 5day pct_change cls'].count()/FB_df['Adj Close 5day pct_change cls'].count())"
   ]
  },
  {
   "cell_type": "code",
   "execution_count": 27,
   "metadata": {},
   "outputs": [
    {
     "name": "stdout",
     "output_type": "stream",
     "text": [
      "Adj Close 1day pct_change cls\n",
      "0    0.487194\n",
      "1    0.512806\n",
      "Name: Adj Close 1day pct_change cls, dtype: float64\n",
      "Adj Close 5day pct_change cls\n",
      "0    0.452608\n",
      "1    0.547392\n",
      "Name: Adj Close 5day pct_change cls, dtype: float64\n"
     ]
    }
   ],
   "source": [
    "print(AMZN_df.groupby('Adj Close 1day pct_change cls')['Adj Close 1day pct_change cls'].count()/AMZN_df['Adj Close 1day pct_change cls'].count())\n",
    "print(AMZN_df.groupby('Adj Close 5day pct_change cls')['Adj Close 5day pct_change cls'].count()/AMZN_df['Adj Close 5day pct_change cls'].count())"
   ]
  },
  {
   "cell_type": "code",
   "execution_count": null,
   "metadata": {},
   "outputs": [],
   "source": []
  }
 ],
 "metadata": {
  "kernelspec": {
   "display_name": "Python 3",
   "language": "python",
   "name": "python3"
  },
  "language_info": {
   "codemirror_mode": {
    "name": "ipython",
    "version": 3
   },
   "file_extension": ".py",
   "mimetype": "text/x-python",
   "name": "python",
   "nbconvert_exporter": "python",
   "pygments_lexer": "ipython3",
   "version": "3.5.3"
  }
 },
 "nbformat": 4,
 "nbformat_minor": 2
}
