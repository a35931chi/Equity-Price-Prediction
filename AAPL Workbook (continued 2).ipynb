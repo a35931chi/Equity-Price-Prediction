{
 "cells": [
  {
   "cell_type": "markdown",
   "metadata": {},
   "source": [
    "The goal of this notebook is to summarize the best models from each algo, and save to evalute other datasets"
   ]
  },
  {
   "cell_type": "code",
   "execution_count": 1,
   "metadata": {},
   "outputs": [
    {
     "name": "stderr",
     "output_type": "stream",
     "text": [
      "c:\\users\\inves\\appdata\\local\\programs\\python\\python35\\lib\\site-packages\\sklearn\\cross_validation.py:44: DeprecationWarning: This module was deprecated in version 0.18 in favor of the model_selection module into which all the refactored classes and functions are moved. Also note that the interface of the new CV iterators are different from that of this module. This module will be removed in 0.20.\n",
      "  \"This module will be removed in 0.20.\", DeprecationWarning)\n",
      "c:\\users\\inves\\appdata\\local\\programs\\python\\python35\\lib\\site-packages\\h5py\\__init__.py:36: FutureWarning: Conversion of the second argument of issubdtype from `float` to `np.floating` is deprecated. In future, it will be treated as `np.float64 == np.dtype(float).type`.\n",
      "  from ._conv import register_converters as _register_converters\n",
      "Using TensorFlow backend.\n"
     ]
    }
   ],
   "source": [
    "import numpy as np\n",
    "import pandas as pd\n",
    "from time import gmtime, strftime, time\n",
    "import pickle\n",
    "\n",
    "from sklearn.utils import shuffle\n",
    "from sklearn.model_selection import train_test_split, ShuffleSplit, GridSearchCV\n",
    "from sklearn.pipeline import make_pipeline\n",
    "from sklearn.preprocessing import RobustScaler\n",
    "\n",
    "\n",
    "from sklearn.metrics import make_scorer, mean_squared_error, accuracy_score \n",
    "\n",
    "from sklearn.linear_model import Lasso\n",
    "from sklearn.ensemble import RandomForestRegressor\n",
    "import xgboost as xgb\n",
    "\n",
    "import keras\n",
    "from keras import models\n",
    "from keras.utils.np_utils import to_categorical\n",
    "from keras.models import Sequential\n",
    "from keras.layers import Dense\n",
    "from keras.layers import LSTM\n",
    "from keras.layers import Activation\n",
    "from keras.wrappers.scikit_learn import KerasRegressor\n",
    "\n",
    "import matplotlib.pyplot as plt\n",
    "import seaborn as sns\n",
    "\n",
    "from Extract_Data import extract_data"
   ]
  },
  {
   "cell_type": "markdown",
   "metadata": {},
   "source": [
    "Before running the extract_data function, don't forget to update the data with the latest at finance.yahoo.com"
   ]
  },
  {
   "cell_type": "code",
   "execution_count": 21,
   "metadata": {},
   "outputs": [
    {
     "name": "stderr",
     "output_type": "stream",
     "text": [
      "c:\\users\\inves\\appdata\\local\\programs\\python\\python35\\lib\\site-packages\\sklearn\\preprocessing\\data.py:586: DeprecationWarning: Passing 1d arrays as data is deprecated in 0.17 and will raise ValueError in 0.19. Reshape your data either using X.reshape(-1, 1) if your data has a single feature or X.reshape(1, -1) if it contains a single sample.\n",
      "  warnings.warn(DEPRECATION_MSG_1D, DeprecationWarning)\n",
      "c:\\users\\inves\\appdata\\local\\programs\\python\\python35\\lib\\site-packages\\sklearn\\preprocessing\\data.py:649: DeprecationWarning: Passing 1d arrays as data is deprecated in 0.17 and will raise ValueError in 0.19. Reshape your data either using X.reshape(-1, 1) if your data has a single feature or X.reshape(1, -1) if it contains a single sample.\n",
      "  warnings.warn(DEPRECATION_MSG_1D, DeprecationWarning)\n",
      "c:\\users\\inves\\appdata\\local\\programs\\python\\python35\\lib\\site-packages\\sklearn\\preprocessing\\data.py:321: DeprecationWarning: Passing 1d arrays as data is deprecated in 0.17 and will raise ValueError in 0.19. Reshape your data either using X.reshape(-1, 1) if your data has a single feature or X.reshape(1, -1) if it contains a single sample.\n",
      "  warnings.warn(DEPRECATION_MSG_1D, DeprecationWarning)\n",
      "c:\\users\\inves\\appdata\\local\\programs\\python\\python35\\lib\\site-packages\\sklearn\\preprocessing\\data.py:356: DeprecationWarning: Passing 1d arrays as data is deprecated in 0.17 and will raise ValueError in 0.19. Reshape your data either using X.reshape(-1, 1) if your data has a single feature or X.reshape(1, -1) if it contains a single sample.\n",
      "  warnings.warn(DEPRECATION_MSG_1D, DeprecationWarning)\n"
     ]
    }
   ],
   "source": [
    "aapl_pca, PCA_df, df = extract_data('AAPL', None)\n",
    "PCA_df_rand = shuffle(PCA_df, random_state = 0)\n",
    "df_rand = shuffle(df, random_state = 0)"
   ]
  },
  {
   "cell_type": "markdown",
   "metadata": {},
   "source": [
    "Getting the datasets ready, separating out the features and labels. Please note that we have 4 datasets:\n",
    "1. PCA\n",
    "2. PCA with random order\n",
    "3. regular dataframe\n",
    "4. regular dataframe with random order"
   ]
  },
  {
   "cell_type": "code",
   "execution_count": 22,
   "metadata": {},
   "outputs": [],
   "source": [
    "PCA_rand_X = PCA_df_rand[['Dimension 1', 'Dimension 2', 'Dimension 3', 'Dimension 4',\n",
    "                          'Dimension 5', 'Dimension 6', 'Dimension 7']]\n",
    "PCA_rand_y = PCA_df_rand[['Adj Close 1day', 'Adj Close 5day',\n",
    "                          'Adj Close 1day pct_change', 'Adj Close 5day pct_change',\n",
    "                          'Adj Close 1day pct_change cls', 'Adj Close 5day pct_change cls']]\n",
    "\n",
    "PCA_X = PCA_df[['Dimension 1', 'Dimension 2', 'Dimension 3', 'Dimension 4',\n",
    "                'Dimension 5', 'Dimension 6', 'Dimension 7']]\n",
    "PCA_y = PCA_df[['Adj Close 1day', 'Adj Close 5day',\n",
    "                'Adj Close 1day pct_change', 'Adj Close 5day pct_change',\n",
    "                'Adj Close 1day pct_change cls', 'Adj Close 5day pct_change cls']]\n",
    "\n",
    "df_rand_X = df_rand[['Open', 'High', 'Low', 'Adj Close', 'Volume', 'Range', 'MA5 Adj Close', 'MA5 Volume',\n",
    "                     'MA5 Adj Close pct_change', 'MA5 Volume pct_change']]\n",
    "df_rand_y = df_rand[['Adj Close 1day', 'Adj Close 5day', 'Adj Close 1day pct_change',\n",
    "                     'Adj Close 5day pct_change', 'Adj Close 1day pct_change cls',\n",
    "                     'Adj Close 5day pct_change cls']]\n",
    "\n",
    "df_X = df[['Open', 'High', 'Low', 'Adj Close', 'Volume', 'Range', 'MA5 Adj Close', 'MA5 Volume',\n",
    "           'MA5 Adj Close pct_change', 'MA5 Volume pct_change']]\n",
    "df_y = df[['Adj Close 1day', 'Adj Close 5day', 'Adj Close 1day pct_change',\n",
    "           'Adj Close 5day pct_change', 'Adj Close 1day pct_change cls',\n",
    "           'Adj Close 5day pct_change cls']]"
   ]
  },
  {
   "cell_type": "markdown",
   "metadata": {},
   "source": [
    "Let's take a quick look of the datasets"
   ]
  },
  {
   "cell_type": "code",
   "execution_count": 23,
   "metadata": {},
   "outputs": [],
   "source": [
    "#split into train, test, validation sets\n",
    "PCA_rand_Xtrain, PCA_rand_Xtest, PCA_rand_ytrain, PCA_rand_ytest = train_test_split(PCA_rand_X, PCA_rand_y, test_size = 0.2)\n",
    "\n",
    "n_split = int(len(df_y) * 0.8)\n",
    "PCA_Xtrain, PCA_ytrain = np.array(PCA_X)[:n_split, :], np.array(PCA_y)[:n_split] \n",
    "PCA_Xtest, PCA_ytest = np.array(PCA_X)[n_split:, :], np.array(PCA_y)[n_split:]\n",
    "\n",
    "df_rand_Xtrain, df_rand_Xtest, df_rand_ytrain, df_rand_ytest = train_test_split(df_rand_X, df_rand_y, test_size = 0.2)\n",
    "\n",
    "df_Xtrain, df_ytrain = np.array(df_X)[:n_split, :], np.array(df_y)[:n_split] \n",
    "df_Xtest, df_ytest = np.array(df_X)[n_split:, :], np.array(df_y)[n_split:]"
   ]
  },
  {
   "cell_type": "code",
   "execution_count": 24,
   "metadata": {},
   "outputs": [
    {
     "name": "stdout",
     "output_type": "stream",
     "text": [
      "(5770, 7) (1443, 7) (5770, 6) (1443, 6)\n",
      "(5770, 7) (1443, 7) (5770, 6) (1443, 6)\n",
      "(5770, 10) (1443, 10) (5770, 6) (1443, 6)\n",
      "(5770, 10) (1443, 10) (5770, 6) (1443, 6)\n"
     ]
    }
   ],
   "source": [
    "print(PCA_rand_Xtrain.shape, PCA_rand_Xtest.shape, PCA_rand_ytrain.shape, PCA_rand_ytest.shape)\n",
    "print(PCA_Xtrain.shape, PCA_Xtest.shape, PCA_ytrain.shape, PCA_ytest.shape)\n",
    "\n",
    "print(df_rand_Xtrain.shape, df_rand_Xtest.shape, df_rand_ytrain.shape, df_rand_ytest.shape)\n",
    "print(df_Xtrain.shape, df_Xtest.shape, df_ytrain.shape, df_ytest.shape)"
   ]
  },
  {
   "cell_type": "markdown",
   "metadata": {},
   "source": [
    "My target variables:\n",
    "- 0: 'Adj Close 1day'\n",
    "- 1: 'Adj Close 5day'\n",
    "- 2: 'Adj Close 1day pct_change'\n",
    "- 3: 'Adj Close 5day pct_change'\n",
    "- 4: 'Adj Close 1day pct_change cls'\n",
    "- 5: 'Adj Close 5day pct_change cls'"
   ]
  },
  {
   "cell_type": "markdown",
   "metadata": {},
   "source": [
    "### Best performing:\n",
    "#### Adj Close 1day: RandomForestRegressor Default with Original Randomized\n",
    "\n",
    "#### Adj Close 5day: RandomForestRegressor Default with Original Randomized\n",
    "\n",
    "#### Adj Close 1day pct_change: LSTM Optimized with Original\n",
    "layer1 = 512, layer2 = 1024, epochs = 100, batch_size = 500\n",
    "\n",
    "#### Adj Close 5day pct_change: RandomForestRegressor Default with PCA Randomized\n",
    "\n",
    "#### Adj Close 1day pct_change cls: XGBoost Optimized with PCA Randomized\n",
    "XGBClassifier(base_score=0.5, colsample_bylevel=1, colsample_bytree=1,\n",
    "        gamma=0, learning_rate=0.001, max_delta_step=0, max_depth=3,\n",
    "        min_child_weight=1, missing=None, n_estimators=700, nthread=-1,\n",
    "        objective='binary:logistic', reg_alpha=0.1, reg_lambda=1,\n",
    "        scale_pos_weight=1, seed=0, silent=True, subsample=1)\n",
    "\n",
    "#### Adj Close 5day pct_change cls: XGBoost Optimized with Original\n",
    "XGBClassifier(base_score=0.5, colsample_bylevel=1, colsample_bytree=1,\n",
    "        gamma=0, learning_rate=0.1, max_delta_step=0, max_depth=8,\n",
    "        min_child_weight=1, missing=None, n_estimators=600, nthread=-1,\n",
    "        objective='binary:logistic', reg_alpha=0.01, reg_lambda=1,\n",
    "        scale_pos_weight=1, seed=0, silent=True, subsample=1)"
   ]
  },
  {
   "cell_type": "markdown",
   "metadata": {},
   "source": [
    "Train Model and Save\n",
    "#### Adj Close 1day: RandomForestRegressor Default with Original Randomized"
   ]
  },
  {
   "cell_type": "code",
   "execution_count": 26,
   "metadata": {},
   "outputs": [],
   "source": [
    "original_perf = dict()"
   ]
  },
  {
   "cell_type": "code",
   "execution_count": 27,
   "metadata": {},
   "outputs": [
    {
     "name": "stdout",
     "output_type": "stream",
     "text": [
      "Train error: 0.003739574414007908% of mean\n",
      "Test error: 0.019565380072076866% of mean\n"
     ]
    }
   ],
   "source": [
    "aapl_0_model = RandomForestRegressor()\n",
    "aapl_0_model.fit(df_rand_Xtrain, df_rand_ytrain['Adj Close 1day'])\n",
    "\n",
    "train_error = mean_squared_error(aapl_0_model.predict(df_rand_Xtrain), df_rand_ytrain['Adj Close 1day'])/ np.mean(df_rand_ytest['Adj Close 1day'])\n",
    "test_error = mean_squared_error(aapl_0_model.predict(df_rand_Xtest), df_rand_ytest['Adj Close 1day'])/ np.mean(df_rand_ytest['Adj Close 1day'])\n",
    "\n",
    "print('Train error: {}% of mean'.format(train_error * 100))\n",
    "print('Test error: {}% of mean'.format(test_error * 100))\n",
    "\n",
    "original_perf['Adj Close 1day'] = [train_error, test_error]"
   ]
  },
  {
   "cell_type": "code",
   "execution_count": 20,
   "metadata": {},
   "outputs": [],
   "source": [
    "aapl_0_model_pkl_filename = 'Models/aapl_0_model.pkl'\n",
    "with open(aapl_0_model_pkl_filename, 'wb') as file:  \n",
    "    pickle.dump(aapl_0_model, file)"
   ]
  },
  {
   "cell_type": "markdown",
   "metadata": {},
   "source": [
    "#### Adj Close 5day: RandomForestRegressor Default with Original Randomized"
   ]
  },
  {
   "cell_type": "code",
   "execution_count": 28,
   "metadata": {},
   "outputs": [
    {
     "name": "stdout",
     "output_type": "stream",
     "text": [
      "Train error: 0.01251256137710871% of mean\n",
      "Test error: 0.075513349941878% of mean\n"
     ]
    }
   ],
   "source": [
    "aapl_1_model = RandomForestRegressor()\n",
    "aapl_1_model.fit(df_rand_Xtrain, df_rand_ytrain['Adj Close 5day'])\n",
    "\n",
    "train_error = mean_squared_error(aapl_1_model.predict(df_rand_Xtrain), df_rand_ytrain['Adj Close 5day']) / np.mean(df_rand_ytrain['Adj Close 5day'])\n",
    "test_error = mean_squared_error(aapl_1_model.predict(df_rand_Xtest), df_rand_ytest['Adj Close 5day']) / np.mean(df_rand_ytest['Adj Close 5day'])\n",
    "\n",
    "print('Train error: {}% of mean'.format(train_error * 100))\n",
    "print('Test error: {}% of mean'.format(test_error * 100))\n",
    "\n",
    "original_perf['Adj Close 5day'] = [train_error, test_error]"
   ]
  },
  {
   "cell_type": "code",
   "execution_count": 22,
   "metadata": {},
   "outputs": [],
   "source": [
    "aapl_1_model_pkl_filename = 'Models/aapl_1_model.pkl'\n",
    "with open(aapl_1_model_pkl_filename, 'wb') as file:  \n",
    "    pickle.dump(aapl_1_model, file)"
   ]
  },
  {
   "cell_type": "markdown",
   "metadata": {},
   "source": [
    "#### Adj Close 1day pct_change: LSTM Optimized with Original\n",
    "layer1 = 512, layer2 = 1024, epochs = 100, batch_size = 500"
   ]
  },
  {
   "cell_type": "code",
   "execution_count": 35,
   "metadata": {},
   "outputs": [],
   "source": [
    "def window_transform_series(X, y, window_size):\n",
    "    # containers for input/output pairs\n",
    "    X_result = []\n",
    "    y_result = []\n",
    "    #print(series)\n",
    "    #print(window_size)\n",
    "    for i in range(len(y) - window_size):\n",
    "        X_result.append(X[i: i + window_size])\n",
    "        y_result.append(y[i + window_size])\n",
    "        #print(i)\n",
    "        #print(series[i: i + window_size])\n",
    "        #print(series[i + window_size])\n",
    "    # reshape each\n",
    "\n",
    "    print(X_result[:3])\n",
    "    print(np.asarray(X_result)[:3])\n",
    "    wait = input('wait')\n",
    "\n",
    "    X_result = np.asarray(X_result)\n",
    "    X_result.shape = (np.shape(X_result)[0:3])\n",
    "\n",
    "    y_result = np.asarray(y_result)\n",
    "    y_result.shape = (len(y_result), 1)\n",
    "\n",
    "    return X_result, y_result"
   ]
  },
  {
   "cell_type": "code",
   "execution_count": 24,
   "metadata": {
    "scrolled": true
   },
   "outputs": [
    {
     "name": "stdout",
     "output_type": "stream",
     "text": [
      "WARNING:tensorflow:From c:\\users\\inves\\appdata\\local\\programs\\python\\python35\\lib\\site-packages\\keras\\backend\\tensorflow_backend.py:1188: calling reduce_sum (from tensorflow.python.ops.math_ops) with keep_dims is deprecated and will be removed in a future version.\n",
      "Instructions for updating:\n",
      "keep_dims is deprecated, use keepdims instead\n",
      "WARNING:tensorflow:From c:\\users\\inves\\appdata\\local\\programs\\python\\python35\\lib\\site-packages\\keras\\backend\\tensorflow_backend.py:1290: calling reduce_mean (from tensorflow.python.ops.math_ops) with keep_dims is deprecated and will be removed in a future version.\n",
      "Instructions for updating:\n",
      "keep_dims is deprecated, use keepdims instead\n",
      "Epoch 1/100\n",
      "5500/5500 [==============================] - 22s - loss: 4.8511    \n",
      "Epoch 2/100\n",
      "5500/5500 [==============================] - 19s - loss: 0.0706    \n",
      "Epoch 3/100\n",
      "5500/5500 [==============================] - 19s - loss: 0.0172    \n",
      "Epoch 4/100\n",
      "5500/5500 [==============================] - 19s - loss: 0.0060    \n",
      "Epoch 5/100\n",
      "5500/5500 [==============================] - 19s - loss: 0.0030    \n",
      "Epoch 6/100\n",
      "5500/5500 [==============================] - 19s - loss: 0.0016    \n",
      "Epoch 7/100\n",
      "5500/5500 [==============================] - 19s - loss: 0.0011    \n",
      "Epoch 8/100\n",
      "5500/5500 [==============================] - 19s - loss: 0.0012    \n",
      "Epoch 9/100\n",
      "5500/5500 [==============================] - 19s - loss: 0.0011    \n",
      "Epoch 10/100\n",
      "5500/5500 [==============================] - 19s - loss: 0.0011    \n",
      "Epoch 11/100\n",
      "5500/5500 [==============================] - 19s - loss: 0.0010    \n",
      "Epoch 12/100\n",
      "5500/5500 [==============================] - 19s - loss: 0.0010    \n",
      "Epoch 13/100\n",
      "5500/5500 [==============================] - 20s - loss: 0.0010    \n",
      "Epoch 14/100\n",
      "5500/5500 [==============================] - 22s - loss: 0.0010    \n",
      "Epoch 15/100\n",
      "5500/5500 [==============================] - 23s - loss: 0.0010    \n",
      "Epoch 16/100\n",
      "5500/5500 [==============================] - 24s - loss: 0.0010    \n",
      "Epoch 17/100\n",
      "5500/5500 [==============================] - 22s - loss: 0.0010    \n",
      "Epoch 18/100\n",
      "5500/5500 [==============================] - 20s - loss: 0.0010    \n",
      "Epoch 19/100\n",
      "5500/5500 [==============================] - 18s - loss: 0.0010    \n",
      "Epoch 20/100\n",
      "5500/5500 [==============================] - 18s - loss: 0.0010    \n",
      "Epoch 21/100\n",
      "5500/5500 [==============================] - 17s - loss: 0.0010    \n",
      "Epoch 22/100\n",
      "5500/5500 [==============================] - 19s - loss: 0.0010    \n",
      "Epoch 23/100\n",
      "5500/5500 [==============================] - 21s - loss: 0.0010    \n",
      "Epoch 24/100\n",
      "5500/5500 [==============================] - 21s - loss: 0.0010    \n",
      "Epoch 25/100\n",
      "5500/5500 [==============================] - 21s - loss: 0.0010    \n",
      "Epoch 26/100\n",
      "5500/5500 [==============================] - 21s - loss: 0.0010    \n",
      "Epoch 27/100\n",
      "5500/5500 [==============================] - 21s - loss: 0.0010    \n",
      "Epoch 28/100\n",
      "5500/5500 [==============================] - 21s - loss: 0.0010    \n",
      "Epoch 29/100\n",
      "5500/5500 [==============================] - 21s - loss: 0.0010    \n",
      "Epoch 30/100\n",
      "5500/5500 [==============================] - 20s - loss: 0.0010    \n",
      "Epoch 31/100\n",
      "5500/5500 [==============================] - 20s - loss: 0.0010    \n",
      "Epoch 32/100\n",
      "5500/5500 [==============================] - 21s - loss: 0.0010    \n",
      "Epoch 33/100\n",
      "5500/5500 [==============================] - 20s - loss: 0.0010    \n",
      "Epoch 34/100\n",
      "5500/5500 [==============================] - 20s - loss: 0.0010    \n",
      "Epoch 35/100\n",
      "5500/5500 [==============================] - 20s - loss: 0.0010    \n",
      "Epoch 36/100\n",
      "5500/5500 [==============================] - 21s - loss: 0.0010    \n",
      "Epoch 37/100\n",
      "5500/5500 [==============================] - 21s - loss: 0.0010    \n",
      "Epoch 38/100\n",
      "5500/5500 [==============================] - 21s - loss: 0.0010    \n",
      "Epoch 39/100\n",
      "5500/5500 [==============================] - 20s - loss: 0.0010    \n",
      "Epoch 40/100\n",
      "5500/5500 [==============================] - 20s - loss: 0.0010    \n",
      "Epoch 41/100\n",
      "5500/5500 [==============================] - 21s - loss: 9.9911e-04\n",
      "Epoch 42/100\n",
      "5500/5500 [==============================] - 21s - loss: 9.9806e-04\n",
      "Epoch 43/100\n",
      "5500/5500 [==============================] - 20s - loss: 9.9703e-04\n",
      "Epoch 44/100\n",
      "5500/5500 [==============================] - 20s - loss: 9.9602e-04\n",
      "Epoch 45/100\n",
      "5500/5500 [==============================] - 20s - loss: 9.9504e-04\n",
      "Epoch 46/100\n",
      "5500/5500 [==============================] - 21s - loss: 9.9407e-04\n",
      "Epoch 47/100\n",
      "5500/5500 [==============================] - 20s - loss: 9.9313e-04\n",
      "Epoch 48/100\n",
      "5500/5500 [==============================] - 21s - loss: 9.9221e-04\n",
      "Epoch 49/100\n",
      "5500/5500 [==============================] - 21s - loss: 9.9132e-04\n",
      "Epoch 50/100\n",
      "5500/5500 [==============================] - 20s - loss: 9.9044e-04\n",
      "Epoch 51/100\n",
      "5500/5500 [==============================] - 21s - loss: 9.8958e-04\n",
      "Epoch 52/100\n",
      "5500/5500 [==============================] - 21s - loss: 9.8875e-04\n",
      "Epoch 53/100\n",
      "5500/5500 [==============================] - 19s - loss: 9.8793e-04\n",
      "Epoch 54/100\n",
      "5500/5500 [==============================] - 23s - loss: 9.8713e-04\n",
      "Epoch 55/100\n",
      "5500/5500 [==============================] - 20s - loss: 9.8635e-04\n",
      "Epoch 56/100\n",
      "5500/5500 [==============================] - 19s - loss: 9.8557e-04\n",
      "Epoch 57/100\n",
      "5500/5500 [==============================] - 19s - loss: 9.8481e-04\n",
      "Epoch 58/100\n",
      "5500/5500 [==============================] - 19s - loss: 9.8407e-04\n",
      "Epoch 59/100\n",
      "5500/5500 [==============================] - 19s - loss: 9.8334e-04\n",
      "Epoch 60/100\n",
      "5500/5500 [==============================] - 21s - loss: 9.8261e-04\n",
      "Epoch 61/100\n",
      "5500/5500 [==============================] - 20s - loss: 9.8191e-04\n",
      "Epoch 62/100\n",
      "5500/5500 [==============================] - 19s - loss: 9.8121e-04\n",
      "Epoch 63/100\n",
      "5500/5500 [==============================] - 19s - loss: 9.8054e-04\n",
      "Epoch 64/100\n",
      "5500/5500 [==============================] - 19s - loss: 9.7988e-04\n",
      "Epoch 65/100\n",
      "5500/5500 [==============================] - 19s - loss: 9.7922e-04\n",
      "Epoch 66/100\n",
      "5500/5500 [==============================] - 19s - loss: 9.7857e-04\n",
      "Epoch 67/100\n",
      "5500/5500 [==============================] - 20s - loss: 9.7792e-04\n",
      "Epoch 68/100\n",
      "5500/5500 [==============================] - 19s - loss: 9.7727e-04\n",
      "Epoch 69/100\n",
      "5500/5500 [==============================] - 19s - loss: 9.7665e-04\n",
      "Epoch 70/100\n",
      "5500/5500 [==============================] - 19s - loss: 9.7606e-04\n",
      "Epoch 71/100\n",
      "5500/5500 [==============================] - 19s - loss: 9.7548e-04\n",
      "Epoch 72/100\n",
      "5500/5500 [==============================] - 19s - loss: 9.7491e-04\n",
      "Epoch 73/100\n",
      "5500/5500 [==============================] - 19s - loss: 9.7432e-04\n",
      "Epoch 74/100\n",
      "5500/5500 [==============================] - 19s - loss: 9.7376e-04\n",
      "Epoch 75/100\n",
      "5500/5500 [==============================] - 19s - loss: 9.7324e-04\n",
      "Epoch 76/100\n",
      "5500/5500 [==============================] - 19s - loss: 9.7279e-04\n",
      "Epoch 77/100\n",
      "5500/5500 [==============================] - 20s - loss: 9.7241e-04\n",
      "Epoch 78/100\n",
      "5500/5500 [==============================] - 19s - loss: 9.7208e-04\n",
      "Epoch 79/100\n",
      "5500/5500 [==============================] - 18s - loss: 9.7175e-04\n",
      "Epoch 80/100\n",
      "5500/5500 [==============================] - 20s - loss: 9.7140e-04\n",
      "Epoch 81/100\n",
      "5500/5500 [==============================] - 20s - loss: 9.7104e-04\n",
      "Epoch 82/100\n",
      "5500/5500 [==============================] - 19s - loss: 9.7069e-04\n",
      "Epoch 83/100\n",
      "5500/5500 [==============================] - 19s - loss: 9.7039e-04\n",
      "Epoch 84/100\n",
      "5500/5500 [==============================] - 19s - loss: 9.7013e-04\n",
      "Epoch 85/100\n",
      "5500/5500 [==============================] - 18s - loss: 9.6992e-04\n",
      "Epoch 86/100\n",
      "5500/5500 [==============================] - 20s - loss: 9.6975e-04\n",
      "Epoch 87/100\n",
      "5500/5500 [==============================] - 20s - loss: 9.6960e-04\n",
      "Epoch 88/100\n",
      "5500/5500 [==============================] - 19s - loss: 9.6946e-04\n",
      "Epoch 89/100\n",
      "5500/5500 [==============================] - 19s - loss: 9.6930e-04\n",
      "Epoch 90/100\n",
      "5500/5500 [==============================] - 19s - loss: 9.6910e-04\n",
      "Epoch 91/100\n",
      "5500/5500 [==============================] - 19s - loss: 9.6883e-04\n",
      "Epoch 92/100\n",
      "5500/5500 [==============================] - 19s - loss: 9.6849e-04\n",
      "Epoch 93/100\n",
      "5500/5500 [==============================] - 19s - loss: 9.6809e-04\n",
      "Epoch 94/100\n",
      "5500/5500 [==============================] - 19s - loss: 9.6768e-04\n",
      "Epoch 95/100\n",
      "5500/5500 [==============================] - 20s - loss: 9.6732e-04\n",
      "Epoch 96/100\n",
      "5500/5500 [==============================] - 19s - loss: 9.6702e-04\n",
      "Epoch 97/100\n",
      "5500/5500 [==============================] - 19s - loss: 9.6684e-04\n",
      "Epoch 98/100\n",
      "5500/5500 [==============================] - 19s - loss: 9.6686e-04\n",
      "Epoch 99/100\n",
      "5500/5500 [==============================] - 18s - loss: 9.6708e-04\n",
      "Epoch 100/100\n",
      "5500/5500 [==============================] - 19s - loss: 9.6736e-04\n"
     ]
    },
    {
     "data": {
      "text/plain": [
       "<keras.callbacks.History at 0x1e61f31e2e8>"
      ]
     },
     "execution_count": 24,
     "metadata": {},
     "output_type": "execute_result"
    }
   ],
   "source": [
    "target_variable = 2\n",
    "window_size = 5\n",
    "batch_size = 500\n",
    "\n",
    "Xtrain_LSTM, ytrain_LSTM = window_transform_series(df_Xtrain, df_ytrain[:, target_variable], window_size = window_size)\n",
    "Xtest_LSTM, ytest_LSTM = window_transform_series(df_Xtest, df_ytest[:, target_variable], window_size = window_size)\n",
    "\n",
    "\n",
    "good_size_train = Xtrain_LSTM.shape[0] - Xtrain_LSTM.shape[0] % batch_size\n",
    "Xtrain_LSTM = Xtrain_LSTM[-good_size_train:]\n",
    "ytrain_LSTM = ytrain_LSTM[-good_size_train:]\n",
    "\n",
    "good_size_test = Xtest_LSTM.shape[0] - Xtest_LSTM.shape[0] % batch_size\n",
    "Xtest_LSTM = Xtest_LSTM[-good_size_test:]\n",
    "ytest_LSTM  = ytest_LSTM [-good_size_test:]\n",
    "\n",
    "\n",
    "aapl_2_model = Sequential()\n",
    "aapl_2_model.add(LSTM(512, batch_input_shape = (batch_size, Xtrain_LSTM.shape[1], Xtrain_LSTM.shape[2]),\n",
    "               stateful = True, return_sequences = True))\n",
    "aapl_2_model.add(LSTM(1024))\n",
    "aapl_2_model.add(Dense(1))\n",
    "aapl_2_model.compile(loss = 'mean_squared_error', optimizer = 'adam')\n",
    "aapl_2_model.fit(Xtrain_LSTM, ytrain_LSTM, epochs = 100, batch_size = batch_size, verbose = 1, shuffle = False)"
   ]
  },
  {
   "cell_type": "code",
   "execution_count": 29,
   "metadata": {},
   "outputs": [
    {
     "name": "stdout",
     "output_type": "stream",
     "text": [
      "Train error: 65.4766642018951% of mean\n",
      "Test error: 22.135985109734282% of mean\n"
     ]
    }
   ],
   "source": [
    "train_error = mean_squared_error(aapl_2_model.predict(Xtrain_LSTM, batch_size = batch_size), ytrain_LSTM) / np.mean(ytrain_LSTM)\n",
    "test_error = mean_squared_error(aapl_2_model.predict(Xtest_LSTM, batch_size = batch_size), ytest_LSTM) / np.mean(ytest_LSTM)\n",
    "\n",
    "print('Train error: {}% of mean'.format(train_error * 100))\n",
    "print('Test error: {}% of mean'.format(test_error * 100))\n",
    "\n",
    "original_perf['Adj Close 1day pct_change'] = [train_error, test_error]"
   ]
  },
  {
   "cell_type": "code",
   "execution_count": 29,
   "metadata": {},
   "outputs": [],
   "source": [
    "aapl_2_model_pkl_filename = 'Models/aapl_2_model.h5'\n",
    "aapl_2_model.save(aapl_2_model_pkl_filename)"
   ]
  },
  {
   "cell_type": "markdown",
   "metadata": {},
   "source": [
    "#### Adj Close 5day pct_change: RandomForestRegressor Default with PCA Randomized"
   ]
  },
  {
   "cell_type": "code",
   "execution_count": 30,
   "metadata": {},
   "outputs": [
    {
     "name": "stdout",
     "output_type": "stream",
     "text": [
      "Train error: 11.03879180212689% of mean\n",
      "Test error: 59.489124947324015% of mean\n"
     ]
    }
   ],
   "source": [
    "aapl_3_model = RandomForestRegressor()\n",
    "aapl_3_model.fit(PCA_rand_Xtrain, PCA_rand_ytrain['Adj Close 5day pct_change'])\n",
    "\n",
    "train_error = mean_squared_error(aapl_3_model.predict(PCA_rand_Xtrain), PCA_rand_ytrain['Adj Close 5day pct_change']) / np.mean(PCA_rand_ytrain['Adj Close 5day pct_change'])\n",
    "test_error = mean_squared_error(aapl_3_model.predict(PCA_rand_Xtest), PCA_rand_ytest['Adj Close 5day pct_change']) / np.mean(PCA_rand_ytest['Adj Close 5day pct_change'])\n",
    "\n",
    "print('Train error: {}% of mean'.format(train_error * 100))\n",
    "print('Test error: {}% of mean'.format(test_error * 100))\n",
    "\n",
    "original_perf['Adj Close 5day pct_change'] = [train_error, test_error]"
   ]
  },
  {
   "cell_type": "code",
   "execution_count": 35,
   "metadata": {},
   "outputs": [],
   "source": [
    "aapl_3_model_pkl_filename = 'Models/aapl_3_model.pkl'\n",
    "with open(aapl_3_model_pkl_filename, 'wb') as file:  \n",
    "    pickle.dump(aapl_3_model, file)"
   ]
  },
  {
   "cell_type": "markdown",
   "metadata": {},
   "source": [
    "#### Adj Close 1day pct_change cls: XGBoost Optimized with PCA Randomized\n",
    "XGBClassifier(base_score=0.5, colsample_bylevel=1, colsample_bytree=1,\n",
    "        gamma=0, learning_rate=0.001, max_delta_step=0, max_depth=3,\n",
    "        min_child_weight=1, missing=None, n_estimators=700, nthread=-1,\n",
    "        objective='binary:logistic', reg_alpha=0.1, reg_lambda=1,\n",
    "        scale_pos_weight=1, seed=0, silent=True, subsample=1)"
   ]
  },
  {
   "cell_type": "code",
   "execution_count": 31,
   "metadata": {},
   "outputs": [
    {
     "name": "stdout",
     "output_type": "stream",
     "text": [
      "Train accuracy: 54.523396880415945%\n",
      "Test accuracy: 52.18295218295218%\n"
     ]
    },
    {
     "name": "stderr",
     "output_type": "stream",
     "text": [
      "c:\\users\\inves\\appdata\\local\\programs\\python\\python35\\lib\\site-packages\\sklearn\\preprocessing\\label.py:171: DeprecationWarning: The truth value of an empty array is ambiguous. Returning False, but in future this will result in an error. Use `array.size > 0` to check that an array is not empty.\n",
      "  if diff:\n",
      "c:\\users\\inves\\appdata\\local\\programs\\python\\python35\\lib\\site-packages\\sklearn\\preprocessing\\label.py:171: DeprecationWarning: The truth value of an empty array is ambiguous. Returning False, but in future this will result in an error. Use `array.size > 0` to check that an array is not empty.\n",
      "  if diff:\n"
     ]
    }
   ],
   "source": [
    "aapl_4_model = xgb.XGBClassifier(base_score=0.5, colsample_bylevel=1, colsample_bytree=1,\n",
    "                                 gamma=0, learning_rate=0.001, max_delta_step=0, max_depth=3,\n",
    "                                 min_child_weight=1, missing=None, n_estimators=700, nthread=-1,\n",
    "                                 objective='binary:logistic', reg_alpha=0.1, reg_lambda=1,\n",
    "                                 scale_pos_weight=1, seed=0, silent=True, subsample=1)\n",
    "aapl_4_model.fit(PCA_rand_Xtrain, PCA_rand_ytrain['Adj Close 1day pct_change cls'])\n",
    "\n",
    "train_error = accuracy_score(aapl_4_model.predict(PCA_rand_Xtrain), PCA_rand_ytrain['Adj Close 1day pct_change cls'])\n",
    "test_error = accuracy_score(aapl_4_model.predict(PCA_rand_Xtest), PCA_rand_ytest['Adj Close 1day pct_change cls'])\n",
    "\n",
    "print('Train accuracy: {}%'.format(train_error * 100))\n",
    "print('Test accuracy: {}%'.format(test_error * 100))\n",
    "\n",
    "original_perf['Adj Close 1day pct_change cls'] = [train_error, test_error]"
   ]
  },
  {
   "cell_type": "code",
   "execution_count": 32,
   "metadata": {},
   "outputs": [],
   "source": [
    "aapl_4_model_pkl_filename = 'Models/aapl_4_model.pkl'\n",
    "with open(aapl_4_model_pkl_filename, 'wb') as file:  \n",
    "    pickle.dump(aapl_4_model, file)"
   ]
  },
  {
   "cell_type": "markdown",
   "metadata": {},
   "source": [
    "#### Adj Close 5day pct_change cls: XGBoost Optimized with Original\n",
    "XGBClassifier(base_score=0.5, colsample_bylevel=1, colsample_bytree=1,\n",
    "        gamma=0, learning_rate=0.1, max_delta_step=0, max_depth=8,\n",
    "        min_child_weight=1, missing=None, n_estimators=600, nthread=-1,\n",
    "        objective='binary:logistic', reg_alpha=0.01, reg_lambda=1,\n",
    "        scale_pos_weight=1, seed=0, silent=True, subsample=1)"
   ]
  },
  {
   "cell_type": "code",
   "execution_count": 33,
   "metadata": {},
   "outputs": [
    {
     "name": "stdout",
     "output_type": "stream",
     "text": [
      "Train accuracy: 100.0%\n",
      "Test accuracy: 54.19265419265419%\n"
     ]
    },
    {
     "name": "stderr",
     "output_type": "stream",
     "text": [
      "c:\\users\\inves\\appdata\\local\\programs\\python\\python35\\lib\\site-packages\\sklearn\\preprocessing\\label.py:171: DeprecationWarning: The truth value of an empty array is ambiguous. Returning False, but in future this will result in an error. Use `array.size > 0` to check that an array is not empty.\n",
      "  if diff:\n",
      "c:\\users\\inves\\appdata\\local\\programs\\python\\python35\\lib\\site-packages\\sklearn\\preprocessing\\label.py:171: DeprecationWarning: The truth value of an empty array is ambiguous. Returning False, but in future this will result in an error. Use `array.size > 0` to check that an array is not empty.\n",
      "  if diff:\n"
     ]
    }
   ],
   "source": [
    "target_variable = 5\n",
    "\n",
    "aapl_5_model = xgb.XGBClassifier(base_score=0.5, colsample_bylevel=1, colsample_bytree=1,\n",
    "                                 gamma=0, learning_rate=0.1, max_delta_step=0, max_depth=8,\n",
    "                                 min_child_weight=1, missing=None, n_estimators=600, nthread=-1,\n",
    "                                 objective='binary:logistic', reg_alpha=0.01, reg_lambda=1,\n",
    "                                 scale_pos_weight=1, seed=0, silent=True, subsample=1)\n",
    "aapl_5_model.fit(df_Xtrain, df_ytrain[:, target_variable])\n",
    "\n",
    "train_error = accuracy_score(aapl_5_model.predict(df_Xtrain), df_ytrain[:, target_variable])\n",
    "test_error = accuracy_score(aapl_5_model.predict(df_Xtest), df_ytest[:, target_variable])\n",
    "\n",
    "print('Train accuracy: {}%'.format(train_error * 100))\n",
    "print('Test accuracy: {}%'.format(test_error * 100))\n",
    "\n",
    "original_perf['Adj Close 5day pct_change cls'] = [train_error, test_error]"
   ]
  },
  {
   "cell_type": "code",
   "execution_count": 34,
   "metadata": {},
   "outputs": [],
   "source": [
    "aapl_5_model_pkl_filename = 'Models/aapl_5_model.pkl'\n",
    "with open(aapl_5_model_pkl_filename, 'wb') as file:  \n",
    "    pickle.dump(aapl_5_model, file)"
   ]
  },
  {
   "cell_type": "code",
   "execution_count": 35,
   "metadata": {},
   "outputs": [],
   "source": [
    "aapl_PCA_model_pkl_filename = 'Models/aapl_PCA_model.pkl'\n",
    "with open(aapl_PCA_model_pkl_filename, 'wb') as file:  \n",
    "    pickle.dump(pca, file)"
   ]
  },
  {
   "cell_type": "code",
   "execution_count": 40,
   "metadata": {},
   "outputs": [
    {
     "data": {
      "text/html": [
       "<div>\n",
       "<table border=\"1\" class=\"dataframe\">\n",
       "  <thead>\n",
       "    <tr style=\"text-align: right;\">\n",
       "      <th></th>\n",
       "      <th>Adj Close 1day</th>\n",
       "      <th>Adj Close 5day</th>\n",
       "      <th>Adj Close 1day pct_change</th>\n",
       "      <th>Adj Close 5day pct_change</th>\n",
       "      <th>Adj Close 1day pct_change cls</th>\n",
       "      <th>Adj Close 5day pct_change cls</th>\n",
       "    </tr>\n",
       "  </thead>\n",
       "  <tbody>\n",
       "    <tr>\n",
       "      <th>0</th>\n",
       "      <td>0.000037</td>\n",
       "      <td>0.000125</td>\n",
       "      <td>0.654767</td>\n",
       "      <td>0.110388</td>\n",
       "      <td>0.545234</td>\n",
       "      <td>1.000000</td>\n",
       "    </tr>\n",
       "    <tr>\n",
       "      <th>1</th>\n",
       "      <td>0.000196</td>\n",
       "      <td>0.000755</td>\n",
       "      <td>0.221360</td>\n",
       "      <td>0.594891</td>\n",
       "      <td>0.521830</td>\n",
       "      <td>0.541927</td>\n",
       "    </tr>\n",
       "  </tbody>\n",
       "</table>\n",
       "</div>"
      ],
      "text/plain": [
       "   Adj Close 1day  Adj Close 5day  Adj Close 1day pct_change  \\\n",
       "0        0.000037        0.000125                   0.654767   \n",
       "1        0.000196        0.000755                   0.221360   \n",
       "\n",
       "   Adj Close 5day pct_change  Adj Close 1day pct_change cls  \\\n",
       "0                   0.110388                       0.545234   \n",
       "1                   0.594891                       0.521830   \n",
       "\n",
       "   Adj Close 5day pct_change cls  \n",
       "0                       1.000000  \n",
       "1                       0.541927  "
      ]
     },
     "execution_count": 40,
     "metadata": {},
     "output_type": "execute_result"
    }
   ],
   "source": [
    "pd.DataFrame(original_perf)[['Adj Close 1day','Adj Close 5day','Adj Close 1day pct_change','Adj Close 5day pct_change',\n",
    "                             'Adj Close 1day pct_change cls','Adj Close 5day pct_change cls']]"
   ]
  },
  {
   "cell_type": "markdown",
   "metadata": {},
   "source": [
    "I'm going to try to test my model in two directions:\n",
    "1. Vertical - This involves in testing the model of the same equity, but with more recent data. Using the original PCA\n",
    "2. Horizontal - This involves in testing the model of different equity. Using the original PCA."
   ]
  },
  {
   "cell_type": "markdown",
   "metadata": {},
   "source": [
    "### Vertical Testing with Updated Data"
   ]
  },
  {
   "cell_type": "code",
   "execution_count": 125,
   "metadata": {},
   "outputs": [],
   "source": [
    "#loading PCA\n",
    "aapl_PCA_model_pkl_filename = 'Models/aapl_PCA_model.pkl'\n",
    "with open(aapl_PCA_model_pkl_filename, 'rb') as file:\n",
    "    aapl_PCA_model = pickle.load(file)\n",
    "    \n",
    "aapl_0_model_pkl_filename = 'Models/aapl_0_model.pkl'\n",
    "with open(aapl_0_model_pkl_filename, 'rb') as file:  \n",
    "    aapl_0_model = pickle.load(file)\n",
    "    \n",
    "aapl_1_model_pkl_filename = 'Models/aapl_1_model.pkl'\n",
    "with open(aapl_1_model_pkl_filename, 'rb') as file:  \n",
    "    aapl_1_model = pickle.load(file)\n",
    "    \n",
    "aapl_2_model_pkl_filename = 'Models/aapl_2_model.h5'\n",
    "aapl_2_model = models.load_model(aapl_2_model_pkl_filename)\n",
    "\n",
    "aapl_3_model_pkl_filename = 'Models/aapl_3_model.pkl'\n",
    "with open(aapl_3_model_pkl_filename, 'rb') as file:  \n",
    "    aapl_3_model = pickle.load(file)\n",
    "    \n",
    "aapl_4_model_pkl_filename = 'Models/aapl_4_model.pkl'\n",
    "with open(aapl_4_model_pkl_filename, 'rb') as file:  \n",
    "    aapl_4_model = pickle.load(file)\n",
    "    \n",
    "aapl_5_model_pkl_filename = 'Models/aapl_5_model.pkl'\n",
    "with open(aapl_5_model_pkl_filename, 'rb') as file:  \n",
    "    aapl_5_model = pickle.load(file)"
   ]
  },
  {
   "cell_type": "code",
   "execution_count": 131,
   "metadata": {},
   "outputs": [
    {
     "name": "stderr",
     "output_type": "stream",
     "text": [
      "c:\\users\\inves\\appdata\\local\\programs\\python\\python35\\lib\\site-packages\\sklearn\\preprocessing\\data.py:586: DeprecationWarning: Passing 1d arrays as data is deprecated in 0.17 and will raise ValueError in 0.19. Reshape your data either using X.reshape(-1, 1) if your data has a single feature or X.reshape(1, -1) if it contains a single sample.\n",
      "  warnings.warn(DEPRECATION_MSG_1D, DeprecationWarning)\n",
      "c:\\users\\inves\\appdata\\local\\programs\\python\\python35\\lib\\site-packages\\sklearn\\preprocessing\\data.py:649: DeprecationWarning: Passing 1d arrays as data is deprecated in 0.17 and will raise ValueError in 0.19. Reshape your data either using X.reshape(-1, 1) if your data has a single feature or X.reshape(1, -1) if it contains a single sample.\n",
      "  warnings.warn(DEPRECATION_MSG_1D, DeprecationWarning)\n",
      "c:\\users\\inves\\appdata\\local\\programs\\python\\python35\\lib\\site-packages\\sklearn\\preprocessing\\data.py:321: DeprecationWarning: Passing 1d arrays as data is deprecated in 0.17 and will raise ValueError in 0.19. Reshape your data either using X.reshape(-1, 1) if your data has a single feature or X.reshape(1, -1) if it contains a single sample.\n",
      "  warnings.warn(DEPRECATION_MSG_1D, DeprecationWarning)\n",
      "c:\\users\\inves\\appdata\\local\\programs\\python\\python35\\lib\\site-packages\\sklearn\\preprocessing\\data.py:356: DeprecationWarning: Passing 1d arrays as data is deprecated in 0.17 and will raise ValueError in 0.19. Reshape your data either using X.reshape(-1, 1) if your data has a single feature or X.reshape(1, -1) if it contains a single sample.\n",
      "  warnings.warn(DEPRECATION_MSG_1D, DeprecationWarning)\n"
     ]
    }
   ],
   "source": [
    "_, AAPL2_PCA_df, AAPL2_df = extract_data('AAPL2', aapl_PCA_model)\n",
    "AAPL2_PCA_df_rand = shuffle(AAPL2_PCA_df, random_state = 0)\n",
    "AAPL2_df_rand = shuffle(AAPL2_df, random_state = 0)"
   ]
  },
  {
   "cell_type": "code",
   "execution_count": 179,
   "metadata": {},
   "outputs": [],
   "source": [
    "AAPL2_PCA_rand_X = AAPL2_PCA_df_rand[['Dimension 1', 'Dimension 2', 'Dimension 3', 'Dimension 4',\n",
    "                                      'Dimension 5', 'Dimension 6', 'Dimension 7']]\n",
    "AAPL2_PCA_rand_y = AAPL2_PCA_df_rand[['Adj Close 1day', 'Adj Close 5day',\n",
    "                                      'Adj Close 1day pct_change', 'Adj Close 5day pct_change',\n",
    "                                      'Adj Close 1day pct_change cls', 'Adj Close 5day pct_change cls']]\n",
    "\n",
    "AAPL2_PCA_X = AAPL2_PCA_df[['Dimension 1', 'Dimension 2', 'Dimension 3', 'Dimension 4',\n",
    "                            'Dimension 5', 'Dimension 6', 'Dimension 7']]\n",
    "AAPL2_PCA_y = AAPL2_PCA_df[['Adj Close 1day', 'Adj Close 5day',\n",
    "                            'Adj Close 1day pct_change', 'Adj Close 5day pct_change',\n",
    "                            'Adj Close 1day pct_change cls', 'Adj Close 5day pct_change cls']]\n",
    "\n",
    "AAPL2_df_rand_X = AAPL2_df_rand[['Open', 'High', 'Low', 'Adj Close', 'Volume', 'Range', 'MA5 Adj Close', 'MA5 Volume',\n",
    "                                 'MA5 Adj Close pct_change', 'MA5 Volume pct_change']]\n",
    "AAPL2_df_rand_y = AAPL2_df_rand[['Adj Close 1day', 'Adj Close 5day', 'Adj Close 1day pct_change',\n",
    "                                 'Adj Close 5day pct_change', 'Adj Close 1day pct_change cls',\n",
    "                                 'Adj Close 5day pct_change cls']]\n",
    "\n",
    "AAPL2_df_X = AAPL2_df[['Open', 'High', 'Low', 'Adj Close', 'Volume', 'Range', 'MA5 Adj Close', 'MA5 Volume',\n",
    "                       'MA5 Adj Close pct_change', 'MA5 Volume pct_change']]\n",
    "AAPL2_df_y = AAPL2_df[['Adj Close 1day', 'Adj Close 5day', 'Adj Close 1day pct_change',\n",
    "                       'Adj Close 5day pct_change', 'Adj Close 1day pct_change cls',\n",
    "                       'Adj Close 5day pct_change cls']]"
   ]
  },
  {
   "cell_type": "code",
   "execution_count": 180,
   "metadata": {},
   "outputs": [
    {
     "name": "stdout",
     "output_type": "stream",
     "text": [
      "(7220, 7) (7220, 6)\n",
      "(7220, 7) (7220, 6)\n",
      "(7220, 10) (7220, 6)\n",
      "(7220, 10) (7220, 6)\n"
     ]
    }
   ],
   "source": [
    "print(AAPL2_PCA_rand_X.shape, AAPL2_PCA_rand_y.shape)\n",
    "print(AAPL2_PCA_X.shape, AAPL2_PCA_y.shape)\n",
    "\n",
    "print(AAPL2_df_rand_X.shape, AAPL2_df_rand_y.shape)\n",
    "print(AAPL2_df_X.shape, AAPL2_df_y.shape)"
   ]
  },
  {
   "cell_type": "code",
   "execution_count": 181,
   "metadata": {},
   "outputs": [],
   "source": [
    "AAPL2_perf = dict()"
   ]
  },
  {
   "cell_type": "code",
   "execution_count": 182,
   "metadata": {},
   "outputs": [
    {
     "name": "stdout",
     "output_type": "stream",
     "text": [
      "Error: 0.00664758317532428% of mean\n"
     ]
    }
   ],
   "source": [
    "error = mean_squared_error(aapl_0_model.predict(AAPL2_df_rand_X), AAPL2_df_rand_y['Adj Close 1day']) / np.mean(AAPL2_df_rand_y['Adj Close 1day'])\n",
    "\n",
    "print('Error: {}% of mean'.format(error * 100))\n",
    "\n",
    "AAPL2_perf['Adj Close 1day'] = error"
   ]
  },
  {
   "cell_type": "code",
   "execution_count": 183,
   "metadata": {},
   "outputs": [
    {
     "name": "stdout",
     "output_type": "stream",
     "text": [
      "Error: 0.02403585177153832% of mean\n"
     ]
    }
   ],
   "source": [
    "error = mean_squared_error(aapl_1_model.predict(AAPL2_df_rand_X), AAPL2_df_rand_y['Adj Close 5day']) / np.mean(AAPL2_df_rand_y['Adj Close 5day'])\n",
    "\n",
    "print('Error: {}% of mean'.format(error * 100))\n",
    "\n",
    "AAPL2_perf['Adj Close 5day'] = error"
   ]
  },
  {
   "cell_type": "code",
   "execution_count": 184,
   "metadata": {},
   "outputs": [],
   "source": [
    "def window_transform_series(X, y, window_size):\n",
    "    # containers for input/output pairs\n",
    "    X_result = []\n",
    "    y_result = []\n",
    "    #print(series)\n",
    "    #print(window_size)\n",
    "    for i in range(len(y) - window_size):\n",
    "        X_result.append(X[i: i + window_size])\n",
    "        y_result.append(y[i + window_size])\n",
    "        #print(i)\n",
    "        #print(series[i: i + window_size])\n",
    "        #print(series[i + window_size])\n",
    "    # reshape each\n",
    "\n",
    "    X_result = np.asarray(X_result)\n",
    "    X_result.shape = (np.shape(X_result)[0:3])\n",
    "\n",
    "    y_result = np.asarray(y_result)\n",
    "    y_result.shape = (len(y_result), 1)\n",
    "\n",
    "    return X_result, y_result"
   ]
  },
  {
   "cell_type": "code",
   "execution_count": 185,
   "metadata": {},
   "outputs": [
    {
     "name": "stdout",
     "output_type": "stream",
     "text": [
      "Error: 56.57366989646386% of mean\n"
     ]
    }
   ],
   "source": [
    "target_variable = 2\n",
    "window_size = 5\n",
    "batch_size = 500\n",
    "\n",
    "AAPL2_X_LSTM, AAPL2_y_LSTM = window_transform_series(np.array(AAPL2_df_X), np.array(AAPL2_df_y['Adj Close 1day pct_change']), window_size = window_size)\n",
    "\n",
    "good_size_train = AAPL2_X_LSTM.shape[0] - AAPL2_X_LSTM.shape[0] % batch_size\n",
    "AAPL2_X_LSTM = AAPL2_X_LSTM[-good_size_train:]\n",
    "AAPL2_y_LSTM = AAPL2_y_LSTM[-good_size_train:]\n",
    "\n",
    "error = mean_squared_error(aapl_2_model.predict(AAPL2_X_LSTM, batch_size = batch_size), np.array(AAPL2_y_LSTM)) / np.mean(AAPL2_y_LSTM)\n",
    "\n",
    "print('Error: {}% of mean'.format(error * 100))\n",
    "\n",
    "AAPL2_perf['Adj Close 1day pct_change'] = error"
   ]
  },
  {
   "cell_type": "code",
   "execution_count": 186,
   "metadata": {},
   "outputs": [
    {
     "name": "stdout",
     "output_type": "stream",
     "text": [
      "Error: 21.65289785536967% of mean\n"
     ]
    }
   ],
   "source": [
    "error = mean_squared_error(aapl_3_model.predict(AAPL2_PCA_rand_X), AAPL2_PCA_rand_y['Adj Close 5day pct_change']) / np.mean(AAPL2_PCA_rand_y['Adj Close 5day pct_change'])\n",
    "\n",
    "print('Error: {}% of mean'.format(error * 100))\n",
    "\n",
    "AAPL2_perf['Adj Close 5day pct_change'] = error"
   ]
  },
  {
   "cell_type": "code",
   "execution_count": 187,
   "metadata": {},
   "outputs": [
    {
     "name": "stdout",
     "output_type": "stream",
     "text": [
      "Error: 54.099722991689745% of mean\n"
     ]
    },
    {
     "name": "stderr",
     "output_type": "stream",
     "text": [
      "c:\\users\\inves\\appdata\\local\\programs\\python\\python35\\lib\\site-packages\\sklearn\\preprocessing\\label.py:171: DeprecationWarning: The truth value of an empty array is ambiguous. Returning False, but in future this will result in an error. Use `array.size > 0` to check that an array is not empty.\n",
      "  if diff:\n"
     ]
    }
   ],
   "source": [
    "error = accuracy_score(aapl_4_model.predict(AAPL2_PCA_rand_X), AAPL2_PCA_rand_y['Adj Close 1day pct_change cls'])\n",
    "\n",
    "print('Error: {}% of mean'.format(error * 100))\n",
    "\n",
    "AAPL2_perf['Adj Close 1day pct_change cls'] = error"
   ]
  },
  {
   "cell_type": "code",
   "execution_count": 188,
   "metadata": {},
   "outputs": [
    {
     "name": "stdout",
     "output_type": "stream",
     "text": [
      "Error: 90.803324099723% of mean\n"
     ]
    },
    {
     "name": "stderr",
     "output_type": "stream",
     "text": [
      "c:\\users\\inves\\appdata\\local\\programs\\python\\python35\\lib\\site-packages\\sklearn\\preprocessing\\label.py:171: DeprecationWarning: The truth value of an empty array is ambiguous. Returning False, but in future this will result in an error. Use `array.size > 0` to check that an array is not empty.\n",
      "  if diff:\n"
     ]
    }
   ],
   "source": [
    "error = accuracy_score(aapl_5_model.predict(np.array(AAPL2_df_X)), AAPL2_df_y['Adj Close 5day pct_change cls'])\n",
    "\n",
    "print('Error: {}% of mean'.format(error * 100))\n",
    "\n",
    "AAPL2_perf['Adj Close 5day pct_change cls'] = error"
   ]
  },
  {
   "cell_type": "code",
   "execution_count": 189,
   "metadata": {},
   "outputs": [
    {
     "data": {
      "text/plain": [
       "{'Adj Close 1day': 6.64758317532428e-05,\n",
       " 'Adj Close 1day pct_change': 0.5657366989646386,\n",
       " 'Adj Close 1day pct_change cls': 0.5409972299168975,\n",
       " 'Adj Close 5day': 0.0002403585177153832,\n",
       " 'Adj Close 5day pct_change': 0.2165289785536967,\n",
       " 'Adj Close 5day pct_change cls': 0.9080332409972299}"
      ]
     },
     "execution_count": 189,
     "metadata": {},
     "output_type": "execute_result"
    }
   ],
   "source": [
    "AAPL2_perf"
   ]
  },
  {
   "cell_type": "markdown",
   "metadata": {},
   "source": [
    "|MSE and ACC|Adj Close 1day|Adj Close 5day|Adj Close 1day pct_change|Adj Close 5day pct_change|Adj Close 1day pct_change cls|Adj Close 5day pct_change cls|\n",
    "|-|-|-|-|-|-||\n",
    "|AAPL train|0.000037|0.000125|0.654767|0.110388|0.545234|1.000000|\n",
    "|AAPL test |0.000196|0.000755|0.221360|0.594891|0.521830|0.541927|\n",
    "|AALP2     |6.64e-05|0.000240|0.608699|0.216528|0.540997|0.908033|"
   ]
  },
  {
   "cell_type": "markdown",
   "metadata": {},
   "source": [
    "### Horizontal Testing with Updated Data"
   ]
  },
  {
   "cell_type": "markdown",
   "metadata": {},
   "source": [
    "#### Trying SPY"
   ]
  },
  {
   "cell_type": "code",
   "execution_count": 190,
   "metadata": {},
   "outputs": [
    {
     "name": "stderr",
     "output_type": "stream",
     "text": [
      "c:\\users\\inves\\appdata\\local\\programs\\python\\python35\\lib\\site-packages\\sklearn\\preprocessing\\data.py:586: DeprecationWarning: Passing 1d arrays as data is deprecated in 0.17 and will raise ValueError in 0.19. Reshape your data either using X.reshape(-1, 1) if your data has a single feature or X.reshape(1, -1) if it contains a single sample.\n",
      "  warnings.warn(DEPRECATION_MSG_1D, DeprecationWarning)\n",
      "c:\\users\\inves\\appdata\\local\\programs\\python\\python35\\lib\\site-packages\\sklearn\\preprocessing\\data.py:649: DeprecationWarning: Passing 1d arrays as data is deprecated in 0.17 and will raise ValueError in 0.19. Reshape your data either using X.reshape(-1, 1) if your data has a single feature or X.reshape(1, -1) if it contains a single sample.\n",
      "  warnings.warn(DEPRECATION_MSG_1D, DeprecationWarning)\n",
      "c:\\users\\inves\\appdata\\local\\programs\\python\\python35\\lib\\site-packages\\sklearn\\preprocessing\\data.py:321: DeprecationWarning: Passing 1d arrays as data is deprecated in 0.17 and will raise ValueError in 0.19. Reshape your data either using X.reshape(-1, 1) if your data has a single feature or X.reshape(1, -1) if it contains a single sample.\n",
      "  warnings.warn(DEPRECATION_MSG_1D, DeprecationWarning)\n",
      "c:\\users\\inves\\appdata\\local\\programs\\python\\python35\\lib\\site-packages\\sklearn\\preprocessing\\data.py:356: DeprecationWarning: Passing 1d arrays as data is deprecated in 0.17 and will raise ValueError in 0.19. Reshape your data either using X.reshape(-1, 1) if your data has a single feature or X.reshape(1, -1) if it contains a single sample.\n",
      "  warnings.warn(DEPRECATION_MSG_1D, DeprecationWarning)\n"
     ]
    }
   ],
   "source": [
    "_, SPY_PCA_df, SPY_df = extract_data('SPY', aapl_PCA_model)\n",
    "SPY_PCA_df_rand = shuffle(SPY_PCA_df, random_state = 0)\n",
    "SPY_df_rand = shuffle(SPY_df, random_state = 0)"
   ]
  },
  {
   "cell_type": "code",
   "execution_count": 191,
   "metadata": {},
   "outputs": [],
   "source": [
    "SPY_PCA_rand_X = SPY_PCA_df_rand[['Dimension 1', 'Dimension 2', 'Dimension 3', 'Dimension 4',\n",
    "                                  'Dimension 5', 'Dimension 6', 'Dimension 7']]\n",
    "SPY_PCA_rand_y = SPY_PCA_df_rand[['Adj Close 1day', 'Adj Close 5day',\n",
    "                                  'Adj Close 1day pct_change', 'Adj Close 5day pct_change',\n",
    "                                  'Adj Close 1day pct_change cls', 'Adj Close 5day pct_change cls']]\n",
    "SPY_PCA_X = SPY_PCA_df[['Dimension 1', 'Dimension 2', 'Dimension 3', 'Dimension 4',\n",
    "                        'Dimension 5', 'Dimension 6', 'Dimension 7']]\n",
    "SPY_PCA_y = SPY_PCA_df[['Adj Close 1day', 'Adj Close 5day',\n",
    "                        'Adj Close 1day pct_change', 'Adj Close 5day pct_change',\n",
    "                        'Adj Close 1day pct_change cls', 'Adj Close 5day pct_change cls']]\n",
    "\n",
    "SPY_df_rand_X = SPY_df_rand[['Open', 'High', 'Low', 'Adj Close', 'Volume', 'Range', 'MA5 Adj Close', 'MA5 Volume',\n",
    "                             'MA5 Adj Close pct_change', 'MA5 Volume pct_change']]\n",
    "SPY_df_rand_y = SPY_df_rand[['Adj Close 1day', 'Adj Close 5day', 'Adj Close 1day pct_change',\n",
    "                             'Adj Close 5day pct_change', 'Adj Close 1day pct_change cls',\n",
    "                             'Adj Close 5day pct_change cls']]\n",
    "\n",
    "SPY_df_X = SPY_df[['Open', 'High', 'Low', 'Adj Close', 'Volume', 'Range', 'MA5 Adj Close', 'MA5 Volume',\n",
    "                   'MA5 Adj Close pct_change', 'MA5 Volume pct_change']]\n",
    "SPY_df_y = SPY_df[['Adj Close 1day', 'Adj Close 5day', 'Adj Close 1day pct_change',\n",
    "                   'Adj Close 5day pct_change', 'Adj Close 1day pct_change cls',\n",
    "                   'Adj Close 5day pct_change cls']]"
   ]
  },
  {
   "cell_type": "code",
   "execution_count": 192,
   "metadata": {},
   "outputs": [
    {
     "name": "stdout",
     "output_type": "stream",
     "text": [
      "(6434, 7) (6434, 6)\n",
      "(6434, 7) (6434, 6)\n",
      "(6434, 10) (6434, 6)\n",
      "(6434, 10) (6434, 6)\n"
     ]
    }
   ],
   "source": [
    "print(SPY_PCA_rand_X.shape, SPY_PCA_rand_y.shape)\n",
    "print(SPY_PCA_X.shape, SPY_PCA_y.shape)\n",
    "\n",
    "print(SPY_df_rand_X.shape, SPY_df_rand_y.shape)\n",
    "print(SPY_df_X.shape, SPY_df_y.shape)"
   ]
  },
  {
   "cell_type": "code",
   "execution_count": 193,
   "metadata": {},
   "outputs": [],
   "source": [
    "SPY_perf = dict()"
   ]
  },
  {
   "cell_type": "code",
   "execution_count": 194,
   "metadata": {},
   "outputs": [
    {
     "name": "stdout",
     "output_type": "stream",
     "text": [
      "Error: 0.05267990202614801% of mean\n"
     ]
    }
   ],
   "source": [
    "error = mean_squared_error(aapl_0_model.predict(SPY_df_rand_X), SPY_df_rand_y['Adj Close 1day']) / np.mean(SPY_df_rand_y['Adj Close 1day'])\n",
    "\n",
    "print('Error: {}% of mean'.format(error * 100))\n",
    "\n",
    "SPY_perf['Adj Close 1day'] = error"
   ]
  },
  {
   "cell_type": "code",
   "execution_count": 195,
   "metadata": {},
   "outputs": [
    {
     "name": "stdout",
     "output_type": "stream",
     "text": [
      "Error: 0.06936597400936317% of mean\n"
     ]
    }
   ],
   "source": [
    "error = mean_squared_error(aapl_1_model.predict(SPY_df_rand_X), SPY_df_rand_y['Adj Close 5day']) / np.mean(SPY_df_rand_y['Adj Close 5day'])\n",
    "\n",
    "print('Error: {}% of mean'.format(error * 100))\n",
    "\n",
    "SPY_perf['Adj Close 5day'] = error"
   ]
  },
  {
   "cell_type": "code",
   "execution_count": 196,
   "metadata": {},
   "outputs": [
    {
     "name": "stdout",
     "output_type": "stream",
     "text": [
      "Error: 42.1153307025107% of mean\n"
     ]
    }
   ],
   "source": [
    "target_variable = 2\n",
    "window_size = 5\n",
    "batch_size = 500\n",
    "\n",
    "SPY_X_LSTM, SPY_y_LSTM = window_transform_series(np.array(SPY_df_X), np.array(SPY_df_y['Adj Close 1day pct_change']), window_size = window_size)\n",
    "\n",
    "good_size_train = SPY_X_LSTM.shape[0] - SPY_X_LSTM.shape[0] % batch_size\n",
    "SPY_X_LSTM = SPY_X_LSTM[-good_size_train:]\n",
    "SPY_y_LSTM = SPY_y_LSTM[-good_size_train:]\n",
    "\n",
    "error = mean_squared_error(aapl_2_model.predict(SPY_X_LSTM, batch_size = batch_size), np.array(SPY_y_LSTM)) / np.mean(SPY_y_LSTM)\n",
    "\n",
    "print('Error: {}% of mean'.format(error * 100))\n",
    "\n",
    "SPY_perf['Adj Close 1day pct_change'] = error"
   ]
  },
  {
   "cell_type": "code",
   "execution_count": 197,
   "metadata": {},
   "outputs": [
    {
     "name": "stdout",
     "output_type": "stream",
     "text": [
      "Error: 45.66914214140355% of mean\n"
     ]
    }
   ],
   "source": [
    "error = mean_squared_error(aapl_3_model.predict(SPY_PCA_rand_X), SPY_PCA_rand_y['Adj Close 5day pct_change']) / np.mean(SPY_PCA_rand_y['Adj Close 5day pct_change'])\n",
    "\n",
    "print('Error: {}% of mean'.format(error * 100))\n",
    "\n",
    "SPY_perf['Adj Close 5day pct_change'] = error"
   ]
  },
  {
   "cell_type": "code",
   "execution_count": 198,
   "metadata": {},
   "outputs": [
    {
     "name": "stdout",
     "output_type": "stream",
     "text": [
      "Error: 54.35188063413118% of mean\n"
     ]
    },
    {
     "name": "stderr",
     "output_type": "stream",
     "text": [
      "c:\\users\\inves\\appdata\\local\\programs\\python\\python35\\lib\\site-packages\\sklearn\\preprocessing\\label.py:171: DeprecationWarning: The truth value of an empty array is ambiguous. Returning False, but in future this will result in an error. Use `array.size > 0` to check that an array is not empty.\n",
      "  if diff:\n"
     ]
    }
   ],
   "source": [
    "error = accuracy_score(aapl_4_model.predict(SPY_PCA_rand_X), SPY_PCA_rand_y['Adj Close 1day pct_change cls'])\n",
    "\n",
    "print('Error: {}% of mean'.format(error * 100))\n",
    "\n",
    "SPY_perf['Adj Close 1day pct_change cls'] = error"
   ]
  },
  {
   "cell_type": "code",
   "execution_count": 199,
   "metadata": {},
   "outputs": [
    {
     "name": "stdout",
     "output_type": "stream",
     "text": [
      "Error: 49.79794839912962% of mean\n"
     ]
    },
    {
     "name": "stderr",
     "output_type": "stream",
     "text": [
      "c:\\users\\inves\\appdata\\local\\programs\\python\\python35\\lib\\site-packages\\sklearn\\preprocessing\\label.py:171: DeprecationWarning: The truth value of an empty array is ambiguous. Returning False, but in future this will result in an error. Use `array.size > 0` to check that an array is not empty.\n",
      "  if diff:\n"
     ]
    }
   ],
   "source": [
    "error = accuracy_score(aapl_5_model.predict(np.array(SPY_df_X)), SPY_df_y['Adj Close 5day pct_change cls'])\n",
    "\n",
    "print('Error: {}% of mean'.format(error * 100))\n",
    "\n",
    "SPY_perf['Adj Close 5day pct_change cls'] = error"
   ]
  },
  {
   "cell_type": "code",
   "execution_count": 200,
   "metadata": {},
   "outputs": [
    {
     "data": {
      "text/plain": [
       "{'Adj Close 1day': 0.0005267990202614801,\n",
       " 'Adj Close 1day pct_change': 0.42115330702510695,\n",
       " 'Adj Close 1day pct_change cls': 0.5435188063413118,\n",
       " 'Adj Close 5day': 0.0006936597400936318,\n",
       " 'Adj Close 5day pct_change': 0.45669142141403546,\n",
       " 'Adj Close 5day pct_change cls': 0.4979794839912962}"
      ]
     },
     "execution_count": 200,
     "metadata": {},
     "output_type": "execute_result"
    }
   ],
   "source": [
    "SPY_perf"
   ]
  },
  {
   "cell_type": "markdown",
   "metadata": {},
   "source": [
    "|MSE and ACC|Adj Close 1day|Adj Close 5day|Adj Close 1day pct_change|Adj Close 5day pct_change|Adj Close 1day pct_change cls|Adj Close 5day pct_change cls|\n",
    "|-|-|-|-|-|-||\n",
    "|AAPL train|0.000037|0.000125|0.654767|0.110388|0.545234|1.000000|\n",
    "|AAPL test |0.000196|0.000755|0.221360|0.594891|0.521830|0.541927|\n",
    "|AALP2     |6.64e-05|0.000240|0.608699|0.216528|0.540997|0.908033|\n",
    "|SPY       |0.000526|0.000693|0.411881|0.456691|0.543518|0.497979|"
   ]
  },
  {
   "cell_type": "code",
   "execution_count": null,
   "metadata": {},
   "outputs": [],
   "source": []
  },
  {
   "cell_type": "code",
   "execution_count": null,
   "metadata": {},
   "outputs": [],
   "source": []
  },
  {
   "cell_type": "markdown",
   "metadata": {},
   "source": [
    "Had some problems with BTC as some values turned out to be NaN or inf. So trying other equities instead\n",
    "\n",
    "#### Trying HD"
   ]
  },
  {
   "cell_type": "code",
   "execution_count": 201,
   "metadata": {},
   "outputs": [
    {
     "name": "stderr",
     "output_type": "stream",
     "text": [
      "c:\\users\\inves\\appdata\\local\\programs\\python\\python35\\lib\\site-packages\\sklearn\\preprocessing\\data.py:586: DeprecationWarning: Passing 1d arrays as data is deprecated in 0.17 and will raise ValueError in 0.19. Reshape your data either using X.reshape(-1, 1) if your data has a single feature or X.reshape(1, -1) if it contains a single sample.\n",
      "  warnings.warn(DEPRECATION_MSG_1D, DeprecationWarning)\n",
      "c:\\users\\inves\\appdata\\local\\programs\\python\\python35\\lib\\site-packages\\sklearn\\preprocessing\\data.py:649: DeprecationWarning: Passing 1d arrays as data is deprecated in 0.17 and will raise ValueError in 0.19. Reshape your data either using X.reshape(-1, 1) if your data has a single feature or X.reshape(1, -1) if it contains a single sample.\n",
      "  warnings.warn(DEPRECATION_MSG_1D, DeprecationWarning)\n",
      "c:\\users\\inves\\appdata\\local\\programs\\python\\python35\\lib\\site-packages\\sklearn\\preprocessing\\data.py:321: DeprecationWarning: Passing 1d arrays as data is deprecated in 0.17 and will raise ValueError in 0.19. Reshape your data either using X.reshape(-1, 1) if your data has a single feature or X.reshape(1, -1) if it contains a single sample.\n",
      "  warnings.warn(DEPRECATION_MSG_1D, DeprecationWarning)\n",
      "c:\\users\\inves\\appdata\\local\\programs\\python\\python35\\lib\\site-packages\\sklearn\\preprocessing\\data.py:356: DeprecationWarning: Passing 1d arrays as data is deprecated in 0.17 and will raise ValueError in 0.19. Reshape your data either using X.reshape(-1, 1) if your data has a single feature or X.reshape(1, -1) if it contains a single sample.\n",
      "  warnings.warn(DEPRECATION_MSG_1D, DeprecationWarning)\n"
     ]
    }
   ],
   "source": [
    "_, HD_PCA_df, HD_df = extract_data('HD', aapl_PCA_model)\n",
    "HD_PCA_df_rand = shuffle(HD_PCA_df, random_state = 0)\n",
    "HD_df_rand = shuffle(HD_df, random_state = 0)"
   ]
  },
  {
   "cell_type": "code",
   "execution_count": 202,
   "metadata": {},
   "outputs": [],
   "source": [
    "HD_PCA_rand_X = HD_PCA_df_rand[['Dimension 1', 'Dimension 2', 'Dimension 3', 'Dimension 4',\n",
    "                                'Dimension 5', 'Dimension 6', 'Dimension 7']]\n",
    "HD_PCA_rand_y = HD_PCA_df_rand[['Adj Close 1day', 'Adj Close 5day',\n",
    "                                'Adj Close 1day pct_change', 'Adj Close 5day pct_change',\n",
    "                                'Adj Close 1day pct_change cls', 'Adj Close 5day pct_change cls']]\n",
    "\n",
    "HD_PCA_X = HD_PCA_df[['Dimension 1', 'Dimension 2', 'Dimension 3', 'Dimension 4',\n",
    "                      'Dimension 5', 'Dimension 6', 'Dimension 7']]\n",
    "HD_PCA_y = HD_PCA_df[['Adj Close 1day', 'Adj Close 5day',\n",
    "                      'Adj Close 1day pct_change', 'Adj Close 5day pct_change',\n",
    "                      'Adj Close 1day pct_change cls', 'Adj Close 5day pct_change cls']]\n",
    "\n",
    "HD_df_rand_X = HD_df_rand[['Open', 'High', 'Low', 'Adj Close', 'Volume', 'Range', 'MA5 Adj Close', 'MA5 Volume',\n",
    "                           'MA5 Adj Close pct_change', 'MA5 Volume pct_change']]\n",
    "HD_df_rand_y = HD_df_rand[['Adj Close 1day', 'Adj Close 5day', 'Adj Close 1day pct_change',\n",
    "                           'Adj Close 5day pct_change', 'Adj Close 1day pct_change cls',\n",
    "                           'Adj Close 5day pct_change cls']]\n",
    "\n",
    "HD_df_X = HD_df[['Open', 'High', 'Low', 'Adj Close', 'Volume', 'Range', 'MA5 Adj Close', 'MA5 Volume',\n",
    "                 'MA5 Adj Close pct_change', 'MA5 Volume pct_change']]\n",
    "HD_df_y = HD_df[['Adj Close 1day', 'Adj Close 5day', 'Adj Close 1day pct_change',\n",
    "                 'Adj Close 5day pct_change', 'Adj Close 1day pct_change cls',\n",
    "                 'Adj Close 5day pct_change cls']]"
   ]
  },
  {
   "cell_type": "code",
   "execution_count": 203,
   "metadata": {},
   "outputs": [
    {
     "name": "stdout",
     "output_type": "stream",
     "text": [
      "(7213, 7) (7213, 6)\n",
      "(7213, 7) (7213, 6)\n",
      "(7213, 10) (7213, 6)\n",
      "(7213, 10) (7213, 6)\n"
     ]
    }
   ],
   "source": [
    "print(HD_PCA_rand_X.shape, HD_PCA_rand_y.shape)\n",
    "print(HD_PCA_X.shape, HD_PCA_y.shape)\n",
    "\n",
    "print(HD_df_rand_X.shape, HD_df_rand_y.shape)\n",
    "print(HD_df_X.shape, HD_df_y.shape)"
   ]
  },
  {
   "cell_type": "code",
   "execution_count": 204,
   "metadata": {},
   "outputs": [],
   "source": [
    "HD_perf = dict()"
   ]
  },
  {
   "cell_type": "code",
   "execution_count": 205,
   "metadata": {},
   "outputs": [
    {
     "name": "stdout",
     "output_type": "stream",
     "text": [
      "Error: 0.01746526433412856% of mean\n"
     ]
    }
   ],
   "source": [
    "error = mean_squared_error(aapl_0_model.predict(HD_df_rand_X), HD_df_rand_y['Adj Close 1day']) / np.mean(HD_df_rand_y['Adj Close 1day'])\n",
    "\n",
    "print('Error: {}% of mean'.format(error * 100))\n",
    "\n",
    "HD_perf['Adj Close 1day'] = error"
   ]
  },
  {
   "cell_type": "code",
   "execution_count": 206,
   "metadata": {},
   "outputs": [
    {
     "name": "stdout",
     "output_type": "stream",
     "text": [
      "Error: 0.09112008410272147% of mean\n"
     ]
    }
   ],
   "source": [
    "error = mean_squared_error(aapl_1_model.predict(HD_df_rand_X), HD_df_rand_y['Adj Close 5day']) / np.mean(HD_df_rand_y['Adj Close 5day'])\n",
    "\n",
    "print('Error: {}% of mean'.format(error * 100))\n",
    "\n",
    "HD_perf['Adj Close 5day'] = error"
   ]
  },
  {
   "cell_type": "code",
   "execution_count": 207,
   "metadata": {},
   "outputs": [
    {
     "name": "stdout",
     "output_type": "stream",
     "text": [
      "Error: 46.43251321996854% of mean\n"
     ]
    }
   ],
   "source": [
    "target_variable = 2\n",
    "window_size = 5\n",
    "batch_size = 500\n",
    "\n",
    "HD_X_LSTM, HD_y_LSTM = window_transform_series(np.array(HD_df_X), np.array(HD_df_y['Adj Close 1day pct_change']), window_size = window_size)\n",
    "\n",
    "good_size_train = HD_X_LSTM.shape[0] - HD_X_LSTM.shape[0] % batch_size\n",
    "HD_X_LSTM = HD_X_LSTM[-good_size_train:]\n",
    "HD_y_LSTM = HD_y_LSTM[-good_size_train:]\n",
    "\n",
    "error = mean_squared_error(aapl_2_model.predict(HD_X_LSTM, batch_size = batch_size), np.array(HD_y_LSTM)) / np.mean(HD_y_LSTM)\n",
    "\n",
    "print('Error: {}% of mean'.format(error * 100))\n",
    "\n",
    "HD_perf['Adj Close 1day pct_change'] = error"
   ]
  },
  {
   "cell_type": "code",
   "execution_count": 208,
   "metadata": {},
   "outputs": [
    {
     "name": "stdout",
     "output_type": "stream",
     "text": [
      "Error: 56.714993547759576% of mean\n"
     ]
    }
   ],
   "source": [
    "error = mean_squared_error(aapl_3_model.predict(HD_PCA_rand_X), HD_PCA_rand_y['Adj Close 5day pct_change']) / np.mean(HD_PCA_rand_y['Adj Close 5day pct_change'])\n",
    "\n",
    "print('Error: {}% of mean'.format(error * 100))\n",
    "\n",
    "HD_perf['Adj Close 5day pct_change'] = error"
   ]
  },
  {
   "cell_type": "code",
   "execution_count": 209,
   "metadata": {},
   "outputs": [
    {
     "name": "stdout",
     "output_type": "stream",
     "text": [
      "Error: 53.140163593511716% of mean\n"
     ]
    },
    {
     "name": "stderr",
     "output_type": "stream",
     "text": [
      "c:\\users\\inves\\appdata\\local\\programs\\python\\python35\\lib\\site-packages\\sklearn\\preprocessing\\label.py:171: DeprecationWarning: The truth value of an empty array is ambiguous. Returning False, but in future this will result in an error. Use `array.size > 0` to check that an array is not empty.\n",
      "  if diff:\n"
     ]
    }
   ],
   "source": [
    "error = accuracy_score(aapl_4_model.predict(HD_PCA_rand_X), HD_PCA_rand_y['Adj Close 1day pct_change cls'])\n",
    "\n",
    "print('Error: {}% of mean'.format(error * 100))\n",
    "\n",
    "HD_perf['Adj Close 1day pct_change cls'] = error"
   ]
  },
  {
   "cell_type": "code",
   "execution_count": 210,
   "metadata": {},
   "outputs": [
    {
     "name": "stdout",
     "output_type": "stream",
     "text": [
      "Error: 50.464439206987386% of mean\n"
     ]
    },
    {
     "name": "stderr",
     "output_type": "stream",
     "text": [
      "c:\\users\\inves\\appdata\\local\\programs\\python\\python35\\lib\\site-packages\\sklearn\\preprocessing\\label.py:171: DeprecationWarning: The truth value of an empty array is ambiguous. Returning False, but in future this will result in an error. Use `array.size > 0` to check that an array is not empty.\n",
      "  if diff:\n"
     ]
    }
   ],
   "source": [
    "error = accuracy_score(aapl_5_model.predict(np.array(HD_df_X)), HD_df_y['Adj Close 5day pct_change cls'])\n",
    "\n",
    "print('Error: {}% of mean'.format(error * 100))\n",
    "\n",
    "HD_perf['Adj Close 5day pct_change cls'] = error"
   ]
  },
  {
   "cell_type": "code",
   "execution_count": 211,
   "metadata": {},
   "outputs": [
    {
     "data": {
      "text/plain": [
       "{'Adj Close 1day': 0.0001746526433412856,\n",
       " 'Adj Close 1day pct_change': 0.4643251321996854,\n",
       " 'Adj Close 1day pct_change cls': 0.5314016359351171,\n",
       " 'Adj Close 5day': 0.0009112008410272148,\n",
       " 'Adj Close 5day pct_change': 0.5671499354775957,\n",
       " 'Adj Close 5day pct_change cls': 0.5046443920698739}"
      ]
     },
     "execution_count": 211,
     "metadata": {},
     "output_type": "execute_result"
    }
   ],
   "source": [
    "HD_perf"
   ]
  },
  {
   "cell_type": "markdown",
   "metadata": {},
   "source": [
    "|MSE and ACC|Adj Close 1day|Adj Close 5day|Adj Close 1day pct_change|Adj Close 5day pct_change|Adj Close 1day pct_change cls|Adj Close 5day pct_change cls|\n",
    "|-|-|-|-|-|-||\n",
    "|AAPL train|0.000037|0.000125|0.654767|0.110388|0.545234|1.000000|\n",
    "|AAPL test |0.000196|0.000755|0.221360|0.594891|0.521830|0.541927|\n",
    "|AALP2     |6.64e-05|0.000240|0.608699|0.216528|0.540997|0.908033|\n",
    "|SPY       |0.000526|0.000693|0.411881|0.456691|0.543518|0.497979|\n",
    "|HD        |0.000174|0.000911|0.457377|0.567149|0.531401|0.504644|"
   ]
  },
  {
   "cell_type": "markdown",
   "metadata": {},
   "source": [
    "#### Trying VXX"
   ]
  },
  {
   "cell_type": "code",
   "execution_count": 212,
   "metadata": {},
   "outputs": [
    {
     "name": "stderr",
     "output_type": "stream",
     "text": [
      "c:\\users\\inves\\appdata\\local\\programs\\python\\python35\\lib\\site-packages\\sklearn\\preprocessing\\data.py:586: DeprecationWarning: Passing 1d arrays as data is deprecated in 0.17 and will raise ValueError in 0.19. Reshape your data either using X.reshape(-1, 1) if your data has a single feature or X.reshape(1, -1) if it contains a single sample.\n",
      "  warnings.warn(DEPRECATION_MSG_1D, DeprecationWarning)\n",
      "c:\\users\\inves\\appdata\\local\\programs\\python\\python35\\lib\\site-packages\\sklearn\\preprocessing\\data.py:649: DeprecationWarning: Passing 1d arrays as data is deprecated in 0.17 and will raise ValueError in 0.19. Reshape your data either using X.reshape(-1, 1) if your data has a single feature or X.reshape(1, -1) if it contains a single sample.\n",
      "  warnings.warn(DEPRECATION_MSG_1D, DeprecationWarning)\n",
      "c:\\users\\inves\\appdata\\local\\programs\\python\\python35\\lib\\site-packages\\sklearn\\preprocessing\\data.py:321: DeprecationWarning: Passing 1d arrays as data is deprecated in 0.17 and will raise ValueError in 0.19. Reshape your data either using X.reshape(-1, 1) if your data has a single feature or X.reshape(1, -1) if it contains a single sample.\n",
      "  warnings.warn(DEPRECATION_MSG_1D, DeprecationWarning)\n",
      "c:\\users\\inves\\appdata\\local\\programs\\python\\python35\\lib\\site-packages\\sklearn\\preprocessing\\data.py:356: DeprecationWarning: Passing 1d arrays as data is deprecated in 0.17 and will raise ValueError in 0.19. Reshape your data either using X.reshape(-1, 1) if your data has a single feature or X.reshape(1, -1) if it contains a single sample.\n",
      "  warnings.warn(DEPRECATION_MSG_1D, DeprecationWarning)\n"
     ]
    }
   ],
   "source": [
    "_, VXX_PCA_df, VXX_df = extract_data('VXX', aapl_PCA_model)\n",
    "VXX_PCA_df_rand = shuffle(VXX_PCA_df, random_state = 0)\n",
    "VXX_df_rand = shuffle(VXX_df, random_state = 0)"
   ]
  },
  {
   "cell_type": "code",
   "execution_count": 213,
   "metadata": {},
   "outputs": [],
   "source": [
    "VXX_PCA_rand_X = VXX_PCA_df_rand[['Dimension 1', 'Dimension 2', 'Dimension 3', 'Dimension 4',\n",
    "                                  'Dimension 5', 'Dimension 6', 'Dimension 7']]\n",
    "VXX_PCA_rand_y = VXX_PCA_df_rand[['Adj Close 1day', 'Adj Close 5day',\n",
    "                                  'Adj Close 1day pct_change', 'Adj Close 5day pct_change',\n",
    "                                  'Adj Close 1day pct_change cls', 'Adj Close 5day pct_change cls']]\n",
    "\n",
    "VXX_PCA_X = VXX_PCA_df[['Dimension 1', 'Dimension 2', 'Dimension 3', 'Dimension 4',\n",
    "                        'Dimension 5', 'Dimension 6', 'Dimension 7']]\n",
    "VXX_PCA_y = VXX_PCA_df[['Adj Close 1day', 'Adj Close 5day',\n",
    "                        'Adj Close 1day pct_change', 'Adj Close 5day pct_change',\n",
    "                        'Adj Close 1day pct_change cls', 'Adj Close 5day pct_change cls']]\n",
    "\n",
    "VXX_df_rand_X = VXX_df_rand[['Open', 'High', 'Low', 'Adj Close', 'Volume', 'Range', 'MA5 Adj Close', 'MA5 Volume',\n",
    "                             'MA5 Adj Close pct_change', 'MA5 Volume pct_change']]\n",
    "VXX_df_rand_y = VXX_df_rand[['Adj Close 1day', 'Adj Close 5day', 'Adj Close 1day pct_change',\n",
    "                             'Adj Close 5day pct_change', 'Adj Close 1day pct_change cls',\n",
    "                             'Adj Close 5day pct_change cls']]\n",
    "\n",
    "VXX_df_X = VXX_df[['Open', 'High', 'Low', 'Adj Close', 'Volume', 'Range', 'MA5 Adj Close', 'MA5 Volume',\n",
    "                   'MA5 Adj Close pct_change', 'MA5 Volume pct_change']]\n",
    "VXX_df_y = VXX_df[['Adj Close 1day', 'Adj Close 5day', 'Adj Close 1day pct_change',\n",
    "                   'Adj Close 5day pct_change', 'Adj Close 1day pct_change cls',\n",
    "                   'Adj Close 5day pct_change cls']]"
   ]
  },
  {
   "cell_type": "code",
   "execution_count": 214,
   "metadata": {},
   "outputs": [
    {
     "name": "stdout",
     "output_type": "stream",
     "text": [
      "(2403, 7) (2403, 6)\n",
      "(2403, 7) (2403, 6)\n",
      "(2403, 10) (2403, 6)\n",
      "(2403, 10) (2403, 6)\n"
     ]
    }
   ],
   "source": [
    "print(VXX_PCA_rand_X.shape, VXX_PCA_rand_y.shape)\n",
    "print(VXX_PCA_X.shape, VXX_PCA_y.shape)\n",
    "\n",
    "print(VXX_df_rand_X.shape, VXX_df_rand_y.shape)\n",
    "print(VXX_df_X.shape, VXX_df_y.shape)"
   ]
  },
  {
   "cell_type": "code",
   "execution_count": 215,
   "metadata": {},
   "outputs": [],
   "source": [
    "VXX_perf = dict()"
   ]
  },
  {
   "cell_type": "code",
   "execution_count": 216,
   "metadata": {},
   "outputs": [
    {
     "name": "stdout",
     "output_type": "stream",
     "text": [
      "Error: 112.87181184373117% of mean\n"
     ]
    }
   ],
   "source": [
    "error = mean_squared_error(aapl_0_model.predict(VXX_df_rand_X), VXX_df_rand_y['Adj Close 1day']) / np.mean(VXX_df_rand_y['Adj Close 1day'])\n",
    "\n",
    "print('Error: {}% of mean'.format(error * 100))\n",
    "\n",
    "VXX_perf['Adj Close 1day'] = error"
   ]
  },
  {
   "cell_type": "code",
   "execution_count": 217,
   "metadata": {},
   "outputs": [
    {
     "name": "stdout",
     "output_type": "stream",
     "text": [
      "Error: 111.01988407412603% of mean\n"
     ]
    }
   ],
   "source": [
    "error = mean_squared_error(aapl_1_model.predict(VXX_df_rand_X), VXX_df_rand_y['Adj Close 5day']) / np.mean(VXX_df_rand_y['Adj Close 5day'])\n",
    "\n",
    "print('Error: {}% of mean'.format(error * 100))\n",
    "\n",
    "VXX_perf['Adj Close 5day'] = error"
   ]
  },
  {
   "cell_type": "code",
   "execution_count": 218,
   "metadata": {},
   "outputs": [
    {
     "name": "stdout",
     "output_type": "stream",
     "text": [
      "Error: -437.9095644124994% of mean\n"
     ]
    }
   ],
   "source": [
    "target_variable = 2\n",
    "window_size = 5\n",
    "batch_size = 500\n",
    "\n",
    "VXX_X_LSTM, VXX_y_LSTM = window_transform_series(np.array(VXX_df_X), np.array(VXX_df_y['Adj Close 1day pct_change']), window_size = window_size)\n",
    "\n",
    "good_size_train = VXX_X_LSTM.shape[0] - VXX_X_LSTM.shape[0] % batch_size\n",
    "VXX_X_LSTM = VXX_X_LSTM[-good_size_train:]\n",
    "VXX_y_LSTM = VXX_y_LSTM[-good_size_train:]\n",
    "\n",
    "error = mean_squared_error(aapl_2_model.predict(VXX_X_LSTM, batch_size = batch_size), np.array(VXX_y_LSTM)) / np.mean(VXX_y_LSTM)\n",
    "\n",
    "print('Error: {}% of mean'.format(error * 100))\n",
    "\n",
    "VXX_perf['Adj Close 1day pct_change'] = error"
   ]
  },
  {
   "cell_type": "code",
   "execution_count": 219,
   "metadata": {},
   "outputs": [
    {
     "name": "stdout",
     "output_type": "stream",
     "text": [
      "Error: -95.26061997273327% of mean\n"
     ]
    }
   ],
   "source": [
    "error = mean_squared_error(aapl_3_model.predict(VXX_PCA_rand_X), VXX_PCA_rand_y['Adj Close 5day pct_change']) / np.mean(VXX_PCA_rand_y['Adj Close 5day pct_change'])\n",
    "\n",
    "print('Error: {}% of mean'.format(error * 100))\n",
    "\n",
    "VXX_perf['Adj Close 5day pct_change'] = error"
   ]
  },
  {
   "cell_type": "code",
   "execution_count": 220,
   "metadata": {},
   "outputs": [
    {
     "name": "stdout",
     "output_type": "stream",
     "text": [
      "Error: 44.77736163129421% of mean\n"
     ]
    },
    {
     "name": "stderr",
     "output_type": "stream",
     "text": [
      "c:\\users\\inves\\appdata\\local\\programs\\python\\python35\\lib\\site-packages\\sklearn\\preprocessing\\label.py:171: DeprecationWarning: The truth value of an empty array is ambiguous. Returning False, but in future this will result in an error. Use `array.size > 0` to check that an array is not empty.\n",
      "  if diff:\n"
     ]
    }
   ],
   "source": [
    "error = accuracy_score(aapl_4_model.predict(VXX_PCA_rand_X), VXX_PCA_rand_y['Adj Close 1day pct_change cls'])\n",
    "\n",
    "print('Error: {}% of mean'.format(error * 100))\n",
    "\n",
    "VXX_perf['Adj Close 1day pct_change cls'] = error"
   ]
  },
  {
   "cell_type": "code",
   "execution_count": 221,
   "metadata": {},
   "outputs": [
    {
     "name": "stdout",
     "output_type": "stream",
     "text": [
      "Error: 54.43196004993758% of mean\n"
     ]
    },
    {
     "name": "stderr",
     "output_type": "stream",
     "text": [
      "c:\\users\\inves\\appdata\\local\\programs\\python\\python35\\lib\\site-packages\\sklearn\\preprocessing\\label.py:171: DeprecationWarning: The truth value of an empty array is ambiguous. Returning False, but in future this will result in an error. Use `array.size > 0` to check that an array is not empty.\n",
      "  if diff:\n"
     ]
    }
   ],
   "source": [
    "error = accuracy_score(aapl_5_model.predict(np.array(VXX_df_X)), VXX_df_y['Adj Close 5day pct_change cls'])\n",
    "\n",
    "print('Error: {}% of mean'.format(error * 100))\n",
    "\n",
    "VXX_perf['Adj Close 5day pct_change cls'] = error"
   ]
  },
  {
   "cell_type": "code",
   "execution_count": 222,
   "metadata": {},
   "outputs": [
    {
     "data": {
      "text/plain": [
       "{'Adj Close 1day': 1.1287181184373116,\n",
       " 'Adj Close 1day pct_change': -4.379095644124994,\n",
       " 'Adj Close 1day pct_change cls': 0.44777361631294216,\n",
       " 'Adj Close 5day': 1.1101988407412602,\n",
       " 'Adj Close 5day pct_change': -0.9526061997273326,\n",
       " 'Adj Close 5day pct_change cls': 0.5443196004993758}"
      ]
     },
     "execution_count": 222,
     "metadata": {},
     "output_type": "execute_result"
    }
   ],
   "source": [
    "VXX_perf"
   ]
  },
  {
   "cell_type": "markdown",
   "metadata": {},
   "source": [
    "|MSE and ACC|Adj Close 1day|Adj Close 5day|Adj Close 1day pct_change|Adj Close 5day pct_change|Adj Close 1day pct_change cls|Adj Close 5day pct_change cls|\n",
    "|-|-|-|-|-|-||\n",
    "|AAPL train|0.000037|0.000125|0.654767|0.110388|0.545234|1.000000|\n",
    "|AAPL test |0.000196|0.000755|0.221360|0.594891|0.521830|0.541927|\n",
    "|AALP2     |6.64e-05|0.000240|0.608699|0.216528|0.540997|0.908033|\n",
    "|SPY       |0.000526|0.000693|0.411881|0.456691|0.543518|0.497979|\n",
    "|HD        |0.000174|0.000911|0.457377|0.567149|0.531401|0.504644|\n",
    "|VXX       |1.128718|1.110198|-4.374290|-0.952606|0.447773|0.544319|"
   ]
  },
  {
   "cell_type": "markdown",
   "metadata": {},
   "source": [
    "Seems like the model only fit AAPL train, as it has the lowest MSE and highest accuarcy. The second place is AAPL2. "
   ]
  },
  {
   "cell_type": "code",
   "execution_count": null,
   "metadata": {},
   "outputs": [],
   "source": []
  }
 ],
 "metadata": {
  "kernelspec": {
   "display_name": "Python 3",
   "language": "python",
   "name": "python3"
  },
  "language_info": {
   "codemirror_mode": {
    "name": "ipython",
    "version": 3
   },
   "file_extension": ".py",
   "mimetype": "text/x-python",
   "name": "python",
   "nbconvert_exporter": "python",
   "pygments_lexer": "ipython3",
   "version": "3.5.3"
  }
 },
 "nbformat": 4,
 "nbformat_minor": 2
}
