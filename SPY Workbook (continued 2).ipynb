{
 "cells": [
  {
   "cell_type": "markdown",
   "metadata": {},
   "source": [
    "The goal of this notebook is to summarize the best models from each algo, and save to evalute other datasets"
   ]
  },
  {
   "cell_type": "code",
   "execution_count": 1,
   "metadata": {},
   "outputs": [
    {
     "name": "stderr",
     "output_type": "stream",
     "text": [
      "c:\\users\\inves\\appdata\\local\\programs\\python\\python35\\lib\\site-packages\\sklearn\\cross_validation.py:44: DeprecationWarning: This module was deprecated in version 0.18 in favor of the model_selection module into which all the refactored classes and functions are moved. Also note that the interface of the new CV iterators are different from that of this module. This module will be removed in 0.20.\n",
      "  \"This module will be removed in 0.20.\", DeprecationWarning)\n",
      "c:\\users\\inves\\appdata\\local\\programs\\python\\python35\\lib\\site-packages\\h5py\\__init__.py:36: FutureWarning: Conversion of the second argument of issubdtype from `float` to `np.floating` is deprecated. In future, it will be treated as `np.float64 == np.dtype(float).type`.\n",
      "  from ._conv import register_converters as _register_converters\n",
      "Using TensorFlow backend.\n"
     ]
    }
   ],
   "source": [
    "import numpy as np\n",
    "import pandas as pd\n",
    "from time import gmtime, strftime, time\n",
    "import pickle\n",
    "\n",
    "from sklearn.utils import shuffle\n",
    "from sklearn.model_selection import train_test_split, ShuffleSplit, GridSearchCV\n",
    "from sklearn.pipeline import make_pipeline\n",
    "from sklearn.preprocessing import RobustScaler\n",
    "\n",
    "\n",
    "from sklearn.metrics import make_scorer, mean_squared_error, accuracy_score \n",
    "\n",
    "from sklearn.linear_model import Lasso\n",
    "from sklearn.ensemble import RandomForestRegressor\n",
    "import xgboost as xgb\n",
    "\n",
    "import keras\n",
    "from keras import models\n",
    "from keras.utils.np_utils import to_categorical\n",
    "from keras.models import Sequential\n",
    "from keras.layers import Dense\n",
    "from keras.layers import LSTM\n",
    "from keras.layers import Activation\n",
    "from keras.wrappers.scikit_learn import KerasRegressor\n",
    "\n",
    "import matplotlib.pyplot as plt\n",
    "import seaborn as sns\n",
    "\n",
    "from Extract_Data import extract_data"
   ]
  },
  {
   "cell_type": "markdown",
   "metadata": {},
   "source": [
    "Before running the extract_data function, don't forget to update the data with the latest at finance.yahoo.com"
   ]
  },
  {
   "cell_type": "code",
   "execution_count": 2,
   "metadata": {},
   "outputs": [
    {
     "name": "stderr",
     "output_type": "stream",
     "text": [
      "c:\\users\\inves\\appdata\\local\\programs\\python\\python35\\lib\\site-packages\\sklearn\\preprocessing\\data.py:586: DeprecationWarning: Passing 1d arrays as data is deprecated in 0.17 and will raise ValueError in 0.19. Reshape your data either using X.reshape(-1, 1) if your data has a single feature or X.reshape(1, -1) if it contains a single sample.\n",
      "  warnings.warn(DEPRECATION_MSG_1D, DeprecationWarning)\n",
      "c:\\users\\inves\\appdata\\local\\programs\\python\\python35\\lib\\site-packages\\sklearn\\preprocessing\\data.py:649: DeprecationWarning: Passing 1d arrays as data is deprecated in 0.17 and will raise ValueError in 0.19. Reshape your data either using X.reshape(-1, 1) if your data has a single feature or X.reshape(1, -1) if it contains a single sample.\n",
      "  warnings.warn(DEPRECATION_MSG_1D, DeprecationWarning)\n",
      "c:\\users\\inves\\appdata\\local\\programs\\python\\python35\\lib\\site-packages\\sklearn\\preprocessing\\data.py:321: DeprecationWarning: Passing 1d arrays as data is deprecated in 0.17 and will raise ValueError in 0.19. Reshape your data either using X.reshape(-1, 1) if your data has a single feature or X.reshape(1, -1) if it contains a single sample.\n",
      "  warnings.warn(DEPRECATION_MSG_1D, DeprecationWarning)\n",
      "c:\\users\\inves\\appdata\\local\\programs\\python\\python35\\lib\\site-packages\\sklearn\\preprocessing\\data.py:356: DeprecationWarning: Passing 1d arrays as data is deprecated in 0.17 and will raise ValueError in 0.19. Reshape your data either using X.reshape(-1, 1) if your data has a single feature or X.reshape(1, -1) if it contains a single sample.\n",
      "  warnings.warn(DEPRECATION_MSG_1D, DeprecationWarning)\n"
     ]
    }
   ],
   "source": [
    "SPY_pca, SPY_PCA_df, SPY_df = extract_data('SPY', None)\n",
    "SPY_PCA_df_rand = shuffle(SPY_PCA_df, random_state = 0)\n",
    "SPY_df_rand = shuffle(SPY_df, random_state = 0)"
   ]
  },
  {
   "cell_type": "code",
   "execution_count": 36,
   "metadata": {},
   "outputs": [],
   "source": [
    "SPY_PCA_model_pkl_filename = 'Models/SPY_PCA_model.pkl'\n",
    "with open(SPY_PCA_model_pkl_filename, 'wb') as file:  \n",
    "    pickle.dump(SPY_pca, file)"
   ]
  },
  {
   "cell_type": "markdown",
   "metadata": {},
   "source": [
    "Getting the datasets ready, separating out the features and labels. Please note that we have 4 datasets:\n",
    "1. PCA\n",
    "2. PCA with random order\n",
    "3. regular dataframe\n",
    "4. regular dataframe with random order"
   ]
  },
  {
   "cell_type": "code",
   "execution_count": 4,
   "metadata": {},
   "outputs": [],
   "source": [
    "SPY_PCA_rand_X = SPY_PCA_df_rand[['Dimension 1', 'Dimension 2', 'Dimension 3', 'Dimension 4',\n",
    "                                  'Dimension 5', 'Dimension 6', 'Dimension 7']]\n",
    "SPY_PCA_rand_y = SPY_PCA_df_rand[['Adj Close 1day', 'Adj Close 5day',\n",
    "                                  'Adj Close 1day pct_change', 'Adj Close 5day pct_change',\n",
    "                                  'Adj Close 1day pct_change cls', 'Adj Close 5day pct_change cls']]\n",
    "\n",
    "SPY_PCA_X = SPY_PCA_df[['Dimension 1', 'Dimension 2', 'Dimension 3', 'Dimension 4',\n",
    "                        'Dimension 5', 'Dimension 6', 'Dimension 7']]\n",
    "SPY_PCA_y = SPY_PCA_df[['Adj Close 1day', 'Adj Close 5day',\n",
    "                        'Adj Close 1day pct_change', 'Adj Close 5day pct_change',\n",
    "                        'Adj Close 1day pct_change cls', 'Adj Close 5day pct_change cls']]\n",
    "\n",
    "SPY_df_rand_X = SPY_df_rand[['Open', 'High', 'Low', 'Adj Close', 'Volume', 'Range', 'MA5 Adj Close', 'MA5 Volume',\n",
    "                             'MA5 Adj Close pct_change', 'MA5 Volume pct_change']]\n",
    "SPY_df_rand_y = SPY_df_rand[['Adj Close 1day', 'Adj Close 5day', 'Adj Close 1day pct_change',\n",
    "                             'Adj Close 5day pct_change', 'Adj Close 1day pct_change cls',\n",
    "                             'Adj Close 5day pct_change cls']]\n",
    "\n",
    "SPY_df_X = SPY_df[['Open', 'High', 'Low', 'Adj Close', 'Volume', 'Range', 'MA5 Adj Close', 'MA5 Volume',\n",
    "                   'MA5 Adj Close pct_change', 'MA5 Volume pct_change']]\n",
    "SPY_df_y = SPY_df[['Adj Close 1day', 'Adj Close 5day', 'Adj Close 1day pct_change',\n",
    "                   'Adj Close 5day pct_change', 'Adj Close 1day pct_change cls',\n",
    "                   'Adj Close 5day pct_change cls']]"
   ]
  },
  {
   "cell_type": "markdown",
   "metadata": {},
   "source": [
    "Let's take a quick look of the datasets"
   ]
  },
  {
   "cell_type": "code",
   "execution_count": 6,
   "metadata": {},
   "outputs": [],
   "source": [
    "#split into train, test, validation sets\n",
    "SPY_PCA_rand_Xtrain, SPY_PCA_rand_Xtest, SPY_PCA_rand_ytrain, SPY_PCA_rand_ytest = train_test_split(SPY_PCA_rand_X, SPY_PCA_rand_y, test_size = 0.2)\n",
    "\n",
    "n_split = int(len(SPY_df_y) * 0.8)\n",
    "SPY_PCA_Xtrain, SPY_PCA_ytrain = np.array(SPY_PCA_X)[:n_split, :], np.array(SPY_PCA_y)[:n_split] \n",
    "SPY_PCA_Xtest, SPY_PCA_ytest = np.array(SPY_PCA_X)[n_split:, :], np.array(SPY_PCA_y)[n_split:]\n",
    "\n",
    "SPY_df_rand_Xtrain, SPY_df_rand_Xtest, SPY_df_rand_ytrain, SPY_df_rand_ytest = train_test_split(SPY_df_rand_X, SPY_df_rand_y, test_size = 0.2)\n",
    "\n",
    "SPY_df_Xtrain, SPY_df_ytrain = np.array(SPY_df_X)[:n_split, :], np.array(SPY_df_y)[:n_split] \n",
    "SPY_df_Xtest, SPY_df_ytest = np.array(SPY_df_X)[n_split:, :], np.array(SPY_df_y)[n_split:]"
   ]
  },
  {
   "cell_type": "code",
   "execution_count": 7,
   "metadata": {},
   "outputs": [
    {
     "name": "stdout",
     "output_type": "stream",
     "text": [
      "(5147, 7) (1287, 7) (5147, 6) (1287, 6)\n",
      "(5147, 7) (1287, 7) (5147, 6) (1287, 6)\n",
      "(5147, 10) (1287, 10) (5147, 6) (1287, 6)\n",
      "(5147, 10) (1287, 10) (5147, 6) (1287, 6)\n"
     ]
    }
   ],
   "source": [
    "print(SPY_PCA_rand_Xtrain.shape, SPY_PCA_rand_Xtest.shape, SPY_PCA_rand_ytrain.shape, SPY_PCA_rand_ytest.shape)\n",
    "print(SPY_PCA_Xtrain.shape, SPY_PCA_Xtest.shape, SPY_PCA_ytrain.shape, SPY_PCA_ytest.shape)\n",
    "\n",
    "print(SPY_df_rand_Xtrain.shape, SPY_df_rand_Xtest.shape, SPY_df_rand_ytrain.shape, SPY_df_rand_ytest.shape)\n",
    "print(SPY_df_Xtrain.shape, SPY_df_Xtest.shape, SPY_df_ytrain.shape, SPY_df_ytest.shape)"
   ]
  },
  {
   "cell_type": "markdown",
   "metadata": {},
   "source": [
    "My target variables:\n",
    "- 0: 'Adj Close 1day'\n",
    "- 1: 'Adj Close 5day'\n",
    "- 2: 'Adj Close 1day pct_change'\n",
    "- 3: 'Adj Close 5day pct_change'\n",
    "- 4: 'Adj Close 1day pct_change cls'\n",
    "- 5: 'Adj Close 5day pct_change cls'"
   ]
  },
  {
   "cell_type": "markdown",
   "metadata": {},
   "source": [
    "### Best performing:\n",
    "#### Adj Close 1day: RandomForestRegressor Default with Original Randomized (Same as AAPL)\n",
    "\n",
    "#### Adj Close 5day: RandomForestRegressor Default with Original Randomized (Same as AAPL)\n",
    "\n",
    "#### Adj Close 1day pct_change: LSTM Optimized with Original\n",
    "layer1 = 1024, layer2 = 256, epochs = 100, batch_size = 500\n",
    "\n",
    "#### Adj Close 5day pct_change: RandomForestRegressor Default with Original Randomized\n",
    "\n",
    "#### Adj Close 1day pct_change cls: XGBoost Optimized with Original\n",
    "XGBClassifier(base_score=0.5, colsample_bylevel=1, colsample_bytree=1,\n",
    "        gamma=0, learning_rate=0.01, max_delta_step=0, max_depth=6,\n",
    "        min_child_weight=1, missing=None, n_estimators=1100, nthread=-1,\n",
    "        objective='binary:logistic', reg_alpha=0.0001, reg_lambda=1,\n",
    "        scale_pos_weight=1, seed=0, silent=True, subsample=1)\n",
    "\n",
    "#### Adj Close 5day pct_change cls: XGBoost Optimized with Original\n",
    "XGBClassifier(base_score=0.5, colsample_bylevel=1, colsample_bytree=1,\n",
    "        gamma=0, learning_rate=0.01, max_delta_step=0, max_depth=8,\n",
    "        min_child_weight=1, missing=None, n_estimators=1300, nthread=-1,\n",
    "        objective='binary:logistic', reg_alpha=1e-05, reg_lambda=1,\n",
    "        scale_pos_weight=1, seed=0, silent=True, subsample=1"
   ]
  },
  {
   "cell_type": "markdown",
   "metadata": {},
   "source": [
    "Train Model and Save\n",
    "#### Adj Close 1day: RandomForestRegressor Default with Original Randomized"
   ]
  },
  {
   "cell_type": "code",
   "execution_count": 9,
   "metadata": {},
   "outputs": [],
   "source": [
    "original_perf = dict()"
   ]
  },
  {
   "cell_type": "code",
   "execution_count": 12,
   "metadata": {},
   "outputs": [
    {
     "name": "stdout",
     "output_type": "stream",
     "text": [
      "Train error: 0.0006150283370063454% of mean\n",
      "Test error: 0.002844558195920166% of mean\n"
     ]
    }
   ],
   "source": [
    "SPY_0_model = RandomForestRegressor()\n",
    "SPY_0_model.fit(SPY_df_rand_Xtrain, SPY_df_rand_ytrain['Adj Close 1day'])\n",
    "\n",
    "train_error = mean_squared_error(SPY_0_model.predict(SPY_df_rand_Xtrain), SPY_df_rand_ytrain['Adj Close 1day'])/ np.mean(SPY_df_rand_ytest['Adj Close 1day'])\n",
    "test_error = mean_squared_error(SPY_0_model.predict(SPY_df_rand_Xtest), SPY_df_rand_ytest['Adj Close 1day'])/ np.mean(SPY_df_rand_ytest['Adj Close 1day'])\n",
    "\n",
    "print('Train error: {}% of mean'.format(train_error * 100))\n",
    "print('Test error: {}% of mean'.format(test_error * 100))\n",
    "\n",
    "original_perf['Adj Close 1day'] = [train_error, test_error]"
   ]
  },
  {
   "cell_type": "code",
   "execution_count": 13,
   "metadata": {},
   "outputs": [],
   "source": [
    "SPY_0_model_pkl_filename = 'Models/SPY_0_model.pkl'\n",
    "with open(SPY_0_model_pkl_filename, 'wb') as file:  \n",
    "    pickle.dump(SPY_0_model, file)"
   ]
  },
  {
   "cell_type": "markdown",
   "metadata": {},
   "source": [
    "#### Adj Close 5day: RandomForestRegressor Default with Original Randomized"
   ]
  },
  {
   "cell_type": "code",
   "execution_count": 15,
   "metadata": {},
   "outputs": [
    {
     "name": "stdout",
     "output_type": "stream",
     "text": [
      "Train error: 0.0020762954066527667% of mean\n",
      "Test error: 0.010555953793320328% of mean\n"
     ]
    }
   ],
   "source": [
    "SPY_1_model = RandomForestRegressor()\n",
    "SPY_1_model.fit(SPY_df_rand_Xtrain, SPY_df_rand_ytrain['Adj Close 5day'])\n",
    "\n",
    "train_error = mean_squared_error(SPY_1_model.predict(SPY_df_rand_Xtrain), SPY_df_rand_ytrain['Adj Close 5day']) / np.mean(SPY_df_rand_ytrain['Adj Close 5day'])\n",
    "test_error = mean_squared_error(SPY_1_model.predict(SPY_df_rand_Xtest), SPY_df_rand_ytest['Adj Close 5day']) / np.mean(SPY_df_rand_ytest['Adj Close 5day'])\n",
    "\n",
    "print('Train error: {}% of mean'.format(train_error * 100))\n",
    "print('Test error: {}% of mean'.format(test_error * 100))\n",
    "\n",
    "original_perf['Adj Close 5day'] = [train_error, test_error]"
   ]
  },
  {
   "cell_type": "code",
   "execution_count": 16,
   "metadata": {},
   "outputs": [],
   "source": [
    "SPY_1_model_pkl_filename = 'Models/SPY_1_model.pkl'\n",
    "with open(SPY_1_model_pkl_filename, 'wb') as file:  \n",
    "    pickle.dump(SPY_1_model, file)"
   ]
  },
  {
   "cell_type": "markdown",
   "metadata": {},
   "source": [
    "#### Adj Close 1day pct_change: LSTM Optimized with Original\n",
    "layer1 = 1024, layer2 = 256, epochs = 100, batch_size = 500"
   ]
  },
  {
   "cell_type": "code",
   "execution_count": 20,
   "metadata": {},
   "outputs": [],
   "source": [
    "def window_transform_series(X, y, window_size):\n",
    "    # containers for input/output pairs\n",
    "    X_result = []\n",
    "    y_result = []\n",
    "    #print(series)\n",
    "    #print(window_size)\n",
    "    for i in range(len(y) - window_size):\n",
    "        X_result.append(X[i: i + window_size])\n",
    "        y_result.append(y[i + window_size])\n",
    "        #print(i)\n",
    "        #print(series[i: i + window_size])\n",
    "        #print(series[i + window_size])\n",
    "    # reshape each\n",
    "\n",
    "    #print(X_result[:3])\n",
    "    #print(np.asarray(X_result)[:3])\n",
    "    #wait = input('wait')\n",
    "\n",
    "    X_result = np.asarray(X_result)\n",
    "    X_result.shape = (np.shape(X_result)[0:3])\n",
    "\n",
    "    y_result = np.asarray(y_result)\n",
    "    y_result.shape = (len(y_result), 1)\n",
    "\n",
    "    return X_result, y_result"
   ]
  },
  {
   "cell_type": "code",
   "execution_count": 19,
   "metadata": {
    "scrolled": true
   },
   "outputs": [
    {
     "name": "stdout",
     "output_type": "stream",
     "text": [
      "[array([[-6.95555556e-04, -9.00363165e-01, -5.55942244e-03,\n",
      "         3.36351317e+00,  1.31150320e+01, -4.86066678e+00,\n",
      "         3.35271907e+00,  1.32249206e+01,  1.12424828e-02,\n",
      "        -2.69444276e+00],\n",
      "       [ 0.00000000e+00, -4.97537154e-01, -1.38985561e-03,\n",
      "         3.36351317e+00,  1.33070114e+01, -5.30521983e+00,\n",
      "         3.35718597e+00,  1.30186936e+01,  6.57424539e-03,\n",
      "        -2.29032608e+00],\n",
      "       [-3.47352714e-03, -2.26479718e+00, -5.57880056e-03,\n",
      "         3.35677999e+00,  1.17194658e+01, -5.17101524e+00,\n",
      "         3.36028753e+00,  1.30691931e+01, -3.62621229e-03,\n",
      "        -3.98214478e+00],\n",
      "       [ 0.00000000e+00, -8.95167006e-01, -2.79916339e-03,\n",
      "         3.35813035e+00,  1.28551316e+01, -5.29838625e+00,\n",
      "         3.36163301e+00,  1.30348712e+01, -3.62101201e-03,\n",
      "        -2.76562823e+00],\n",
      "       [ 1.39762560e-03,  1.96803104e-01,  0.00000000e+00,\n",
      "         3.36284343e+00,  9.88310159e+00, -4.85654233e+00,\n",
      "         3.36122930e+00,  1.29665506e+01,  1.67296642e-03,\n",
      "        -6.11692024e+00]]), array([[ 0.00000000e+00, -4.97537154e-01, -1.38985561e-03,\n",
      "         3.36351317e+00,  1.33070114e+01, -5.30521983e+00,\n",
      "         3.35718597e+00,  1.30186936e+01,  6.57424539e-03,\n",
      "        -2.29032608e+00],\n",
      "       [-3.47352714e-03, -2.26479718e+00, -5.57880056e-03,\n",
      "         3.35677999e+00,  1.17194658e+01, -5.17101524e+00,\n",
      "         3.36028753e+00,  1.30691931e+01, -3.62621229e-03,\n",
      "        -3.98214478e+00],\n",
      "       [ 0.00000000e+00, -8.95167006e-01, -2.79916339e-03,\n",
      "         3.35813035e+00,  1.28551316e+01, -5.29838625e+00,\n",
      "         3.36163301e+00,  1.30348712e+01, -3.62101201e-03,\n",
      "        -2.76562823e+00],\n",
      "       [ 1.39762560e-03,  1.96803104e-01,  0.00000000e+00,\n",
      "         3.36284343e+00,  9.88310159e+00, -4.85654233e+00,\n",
      "         3.36122930e+00,  1.29665506e+01,  1.67296642e-03,\n",
      "        -6.11692024e+00],\n",
      "       [-1.39082058e-03, -2.26479718e+00, -6.26852368e-03,\n",
      "         3.35542781e+00,  1.06629638e+01, -5.05638760e+00,\n",
      "         3.36096022e+00,  1.26899822e+01, -5.71367923e-03,\n",
      "        -4.73019900e+00]]), array([[-3.47352714e-03, -2.26479718e+00, -5.57880056e-03,\n",
      "         3.35677999e+00,  1.17194658e+01, -5.17101524e+00,\n",
      "         3.36028753e+00,  1.30691931e+01, -3.62621229e-03,\n",
      "        -3.98214478e+00],\n",
      "       [ 0.00000000e+00, -8.95167006e-01, -2.79916339e-03,\n",
      "         3.35813035e+00,  1.28551316e+01, -5.29838625e+00,\n",
      "         3.36163301e+00,  1.30348712e+01, -3.62101201e-03,\n",
      "        -2.76562823e+00],\n",
      "       [ 1.39762560e-03,  1.96803104e-01,  0.00000000e+00,\n",
      "         3.36284343e+00,  9.88310159e+00, -4.85654233e+00,\n",
      "         3.36122930e+00,  1.29665506e+01,  1.67296642e-03,\n",
      "        -6.11692024e+00],\n",
      "       [-1.39082058e-03, -2.26479718e+00, -6.26852368e-03,\n",
      "         3.35542781e+00,  1.06629638e+01, -5.05638760e+00,\n",
      "         3.36096022e+00,  1.26899822e+01, -5.71367923e-03,\n",
      "        -4.73019900e+00],\n",
      "       [-2.80308653e-03, -2.26479718e+00, -2.38932103e-02,\n",
      "         3.33077083e+00,  1.28423898e+01, -3.72998439e+00,\n",
      "         3.35934425e+00,  1.23619591e+01, -2.91743926e-02,\n",
      "        -2.09614791e+00]])]\n",
      "[[[-6.95555556e-04 -9.00363165e-01 -5.55942244e-03  3.36351317e+00\n",
      "    1.31150320e+01 -4.86066678e+00  3.35271907e+00  1.32249206e+01\n",
      "    1.12424828e-02 -2.69444276e+00]\n",
      "  [ 0.00000000e+00 -4.97537154e-01 -1.38985561e-03  3.36351317e+00\n",
      "    1.33070114e+01 -5.30521983e+00  3.35718597e+00  1.30186936e+01\n",
      "    6.57424539e-03 -2.29032608e+00]\n",
      "  [-3.47352714e-03 -2.26479718e+00 -5.57880056e-03  3.35677999e+00\n",
      "    1.17194658e+01 -5.17101524e+00  3.36028753e+00  1.30691931e+01\n",
      "   -3.62621229e-03 -3.98214478e+00]\n",
      "  [ 0.00000000e+00 -8.95167006e-01 -2.79916339e-03  3.35813035e+00\n",
      "    1.28551316e+01 -5.29838625e+00  3.36163301e+00  1.30348712e+01\n",
      "   -3.62101201e-03 -2.76562823e+00]\n",
      "  [ 1.39762560e-03  1.96803104e-01  0.00000000e+00  3.36284343e+00\n",
      "    9.88310159e+00 -4.85654233e+00  3.36122930e+00  1.29665506e+01\n",
      "    1.67296642e-03 -6.11692024e+00]]\n",
      "\n",
      " [[ 0.00000000e+00 -4.97537154e-01 -1.38985561e-03  3.36351317e+00\n",
      "    1.33070114e+01 -5.30521983e+00  3.35718597e+00  1.30186936e+01\n",
      "    6.57424539e-03 -2.29032608e+00]\n",
      "  [-3.47352714e-03 -2.26479718e+00 -5.57880056e-03  3.35677999e+00\n",
      "    1.17194658e+01 -5.17101524e+00  3.36028753e+00  1.30691931e+01\n",
      "   -3.62621229e-03 -3.98214478e+00]\n",
      "  [ 0.00000000e+00 -8.95167006e-01 -2.79916339e-03  3.35813035e+00\n",
      "    1.28551316e+01 -5.29838625e+00  3.36163301e+00  1.30348712e+01\n",
      "   -3.62101201e-03 -2.76562823e+00]\n",
      "  [ 1.39762560e-03  1.96803104e-01  0.00000000e+00  3.36284343e+00\n",
      "    9.88310159e+00 -4.85654233e+00  3.36122930e+00  1.29665506e+01\n",
      "    1.67296642e-03 -6.11692024e+00]\n",
      "  [-1.39082058e-03 -2.26479718e+00 -6.26852368e-03  3.35542781e+00\n",
      "    1.06629638e+01 -5.05638760e+00  3.36096022e+00  1.26899822e+01\n",
      "   -5.71367923e-03 -4.73019900e+00]]\n",
      "\n",
      " [[-3.47352714e-03 -2.26479718e+00 -5.57880056e-03  3.35677999e+00\n",
      "    1.17194658e+01 -5.17101524e+00  3.36028753e+00  1.30691931e+01\n",
      "   -3.62621229e-03 -3.98214478e+00]\n",
      "  [ 0.00000000e+00 -8.95167006e-01 -2.79916339e-03  3.35813035e+00\n",
      "    1.28551316e+01 -5.29838625e+00  3.36163301e+00  1.30348712e+01\n",
      "   -3.62101201e-03 -2.76562823e+00]\n",
      "  [ 1.39762560e-03  1.96803104e-01  0.00000000e+00  3.36284343e+00\n",
      "    9.88310159e+00 -4.85654233e+00  3.36122930e+00  1.29665506e+01\n",
      "    1.67296642e-03 -6.11692024e+00]\n",
      "  [-1.39082058e-03 -2.26479718e+00 -6.26852368e-03  3.35542781e+00\n",
      "    1.06629638e+01 -5.05638760e+00  3.36096022e+00  1.26899822e+01\n",
      "   -5.71367923e-03 -4.73019900e+00]\n",
      "  [-2.80308653e-03 -2.26479718e+00 -2.38932103e-02  3.33077083e+00\n",
      "    1.28423898e+01 -3.72998439e+00  3.35934425e+00  1.23619591e+01\n",
      "   -2.91743926e-02 -2.09614791e+00]]]\n",
      "wait\n",
      "[array([[ 6.54183788e-04, -1.66037352e+00, -7.07231686e-03,\n",
      "         5.02990393e+00,  1.83175503e+01, -4.85791367e+00,\n",
      "         5.02493120e+00,  1.85330773e+01,  5.01560891e-03,\n",
      "        -2.80201742e+00],\n",
      "       [ 3.82043926e-03, -9.67904495e-01, -2.55713600e-03,\n",
      "         5.03245187e+00,  1.83635937e+01, -5.39042433e+00,\n",
      "         5.02777747e+00,  1.84757314e+01,  4.71391264e-03,\n",
      "        -2.69667305e+00],\n",
      "       [ 2.14350108e-03, -7.12591660e-02, -6.53561888e-04,\n",
      "         5.03788197e+00,  1.84732840e+01, -5.04253494e+00,\n",
      "         5.03105423e+00,  1.84191159e+01,  6.89271732e-03,\n",
      "        -2.52766260e+00],\n",
      "       [-2.07254699e-03, -3.35495999e-01, -1.24617847e-03,\n",
      "         5.03964608e+00,  1.84753278e+01, -5.19228656e+00,\n",
      "         5.03274780e+00,  1.83516351e+01,  6.96409844e-03,\n",
      "        -2.45715009e+00],\n",
      "       [ 1.41872674e-03, -9.50852241e-01, -2.36118878e-03,\n",
      "         5.04158325e+00,  1.82069236e+01, -5.42407753e+00,\n",
      "         5.03471014e+00,  1.83508029e+01,  6.93851231e-03,\n",
      "        -2.72899308e+00]]), array([[ 3.82043926e-03, -9.67904495e-01, -2.55713600e-03,\n",
      "         5.03245187e+00,  1.83635937e+01, -5.39042433e+00,\n",
      "         5.02777747e+00,  1.84757314e+01,  4.71391264e-03,\n",
      "        -2.69667305e+00],\n",
      "       [ 2.14350108e-03, -7.12591660e-02, -6.53561888e-04,\n",
      "         5.03788197e+00,  1.84732840e+01, -5.04253494e+00,\n",
      "         5.03105423e+00,  1.84191159e+01,  6.89271732e-03,\n",
      "        -2.52766260e+00],\n",
      "       [-2.07254699e-03, -3.35495999e-01, -1.24617847e-03,\n",
      "         5.03964608e+00,  1.84753278e+01, -5.19228656e+00,\n",
      "         5.03274780e+00,  1.83516351e+01,  6.96409844e-03,\n",
      "        -2.45715009e+00],\n",
      "       [ 1.41872674e-03, -9.50852241e-01, -2.36118878e-03,\n",
      "         5.04158325e+00,  1.82069236e+01, -5.42407753e+00,\n",
      "         5.03471014e+00,  1.83508029e+01,  6.93851231e-03,\n",
      "        -2.72899308e+00],\n",
      "       [ 1.76992920e-03, -2.04423092e+00, -4.41696105e-03,\n",
      "         5.03946976e+00,  1.82244414e+01, -5.36154824e+00,\n",
      "         5.03630314e+00,  1.83723723e+01,  3.19079085e-03,\n",
      "        -2.73311947e+00]]), array([[ 2.14350108e-03, -7.12591660e-02, -6.53561888e-04,\n",
      "         5.03788197e+00,  1.84732840e+01, -5.04253494e+00,\n",
      "         5.03105423e+00,  1.84191159e+01,  6.89271732e-03,\n",
      "        -2.52766260e+00],\n",
      "       [-2.07254699e-03, -3.35495999e-01, -1.24617847e-03,\n",
      "         5.03964608e+00,  1.84753278e+01, -5.19228656e+00,\n",
      "         5.03274780e+00,  1.83516351e+01,  6.96409844e-03,\n",
      "        -2.45715009e+00],\n",
      "       [ 1.41872674e-03, -9.50852241e-01, -2.36118878e-03,\n",
      "         5.04158325e+00,  1.82069236e+01, -5.42407753e+00,\n",
      "         5.03471014e+00,  1.83508029e+01,  6.93851231e-03,\n",
      "        -2.72899308e+00],\n",
      "       [ 1.76992920e-03, -2.04423092e+00, -4.41696105e-03,\n",
      "         5.03946976e+00,  1.82244414e+01, -5.36154824e+00,\n",
      "         5.03630314e+00,  1.83723723e+01,  3.19079085e-03,\n",
      "        -2.73311947e+00],\n",
      "       [ 3.84293487e-03, -1.80994711e+00, -9.48230206e-03,\n",
      "         5.03581946e+00,  1.85593382e+01, -4.60570801e+00,\n",
      "         5.03821141e+00,  1.83553933e+01, -2.40349465e-03,\n",
      "        -2.37585282e+00]])]\n",
      "[[[ 6.54183788e-04 -1.66037352e+00 -7.07231686e-03  5.02990393e+00\n",
      "    1.83175503e+01 -4.85791367e+00  5.02493120e+00  1.85330773e+01\n",
      "    5.01560891e-03 -2.80201742e+00]\n",
      "  [ 3.82043926e-03 -9.67904495e-01 -2.55713600e-03  5.03245187e+00\n",
      "    1.83635937e+01 -5.39042433e+00  5.02777747e+00  1.84757314e+01\n",
      "    4.71391264e-03 -2.69667305e+00]\n",
      "  [ 2.14350108e-03 -7.12591660e-02 -6.53561888e-04  5.03788197e+00\n",
      "    1.84732840e+01 -5.04253494e+00  5.03105423e+00  1.84191159e+01\n",
      "    6.89271732e-03 -2.52766260e+00]\n",
      "  [-2.07254699e-03 -3.35495999e-01 -1.24617847e-03  5.03964608e+00\n",
      "    1.84753278e+01 -5.19228656e+00  5.03274780e+00  1.83516351e+01\n",
      "    6.96409844e-03 -2.45715009e+00]\n",
      "  [ 1.41872674e-03 -9.50852241e-01 -2.36118878e-03  5.04158325e+00\n",
      "    1.82069236e+01 -5.42407753e+00  5.03471014e+00  1.83508029e+01\n",
      "    6.93851231e-03 -2.72899308e+00]]\n",
      "\n",
      " [[ 3.82043926e-03 -9.67904495e-01 -2.55713600e-03  5.03245187e+00\n",
      "    1.83635937e+01 -5.39042433e+00  5.02777747e+00  1.84757314e+01\n",
      "    4.71391264e-03 -2.69667305e+00]\n",
      "  [ 2.14350108e-03 -7.12591660e-02 -6.53561888e-04  5.03788197e+00\n",
      "    1.84732840e+01 -5.04253494e+00  5.03105423e+00  1.84191159e+01\n",
      "    6.89271732e-03 -2.52766260e+00]\n",
      "  [-2.07254699e-03 -3.35495999e-01 -1.24617847e-03  5.03964608e+00\n",
      "    1.84753278e+01 -5.19228656e+00  5.03274780e+00  1.83516351e+01\n",
      "    6.96409844e-03 -2.45715009e+00]\n",
      "  [ 1.41872674e-03 -9.50852241e-01 -2.36118878e-03  5.04158325e+00\n",
      "    1.82069236e+01 -5.42407753e+00  5.03471014e+00  1.83508029e+01\n",
      "    6.93851231e-03 -2.72899308e+00]\n",
      "  [ 1.76992920e-03 -2.04423092e+00 -4.41696105e-03  5.03946976e+00\n",
      "    1.82244414e+01 -5.36154824e+00  5.03630314e+00  1.83723723e+01\n",
      "    3.19079085e-03 -2.73311947e+00]]\n",
      "\n",
      " [[ 2.14350108e-03 -7.12591660e-02 -6.53561888e-04  5.03788197e+00\n",
      "    1.84732840e+01 -5.04253494e+00  5.03105423e+00  1.84191159e+01\n",
      "    6.89271732e-03 -2.52766260e+00]\n",
      "  [-2.07254699e-03 -3.35495999e-01 -1.24617847e-03  5.03964608e+00\n",
      "    1.84753278e+01 -5.19228656e+00  5.03274780e+00  1.83516351e+01\n",
      "    6.96409844e-03 -2.45715009e+00]\n",
      "  [ 1.41872674e-03 -9.50852241e-01 -2.36118878e-03  5.04158325e+00\n",
      "    1.82069236e+01 -5.42407753e+00  5.03471014e+00  1.83508029e+01\n",
      "    6.93851231e-03 -2.72899308e+00]\n",
      "  [ 1.76992920e-03 -2.04423092e+00 -4.41696105e-03  5.03946976e+00\n",
      "    1.82244414e+01 -5.36154824e+00  5.03630314e+00  1.83723723e+01\n",
      "    3.19079085e-03 -2.73311947e+00]\n",
      "  [ 3.84293487e-03 -1.80994711e+00 -9.48230206e-03  5.03581946e+00\n",
      "    1.85593382e+01 -4.60570801e+00  5.03821141e+00  1.83553933e+01\n",
      "   -2.40349465e-03 -2.37585282e+00]]]\n"
     ]
    },
    {
     "name": "stdout",
     "output_type": "stream",
     "text": [
      "wait\n",
      "WARNING:tensorflow:From c:\\users\\inves\\appdata\\local\\programs\\python\\python35\\lib\\site-packages\\keras\\backend\\tensorflow_backend.py:1188: calling reduce_sum (from tensorflow.python.ops.math_ops) with keep_dims is deprecated and will be removed in a future version.\n",
      "Instructions for updating:\n",
      "keep_dims is deprecated, use keepdims instead\n",
      "WARNING:tensorflow:From c:\\users\\inves\\appdata\\local\\programs\\python\\python35\\lib\\site-packages\\keras\\backend\\tensorflow_backend.py:1290: calling reduce_mean (from tensorflow.python.ops.math_ops) with keep_dims is deprecated and will be removed in a future version.\n",
      "Instructions for updating:\n",
      "keep_dims is deprecated, use keepdims instead\n",
      "Epoch 1/100\n",
      "5000/5000 [==============================] - 16s - loss: 4.1112    \n",
      "Epoch 2/100\n",
      "5000/5000 [==============================] - 14s - loss: 0.1074    \n",
      "Epoch 3/100\n",
      "5000/5000 [==============================] - 14s - loss: 0.0171    \n",
      "Epoch 4/100\n",
      "5000/5000 [==============================] - 14s - loss: 0.0077    \n",
      "Epoch 5/100\n",
      "5000/5000 [==============================] - 14s - loss: 0.0033    \n",
      "Epoch 6/100\n",
      "5000/5000 [==============================] - 14s - loss: 0.0011    \n",
      "Epoch 7/100\n",
      "5000/5000 [==============================] - 14s - loss: 4.3017e-04    \n",
      "Epoch 8/100\n",
      "5000/5000 [==============================] - 14s - loss: 2.1094e-04    \n",
      "Epoch 9/100\n",
      "5000/5000 [==============================] - 14s - loss: 2.0907e-04    \n",
      "Epoch 10/100\n",
      "5000/5000 [==============================] - 14s - loss: 1.6042e-04    \n",
      "Epoch 11/100\n",
      "5000/5000 [==============================] - 14s - loss: 1.6826e-04    \n",
      "Epoch 12/100\n",
      "5000/5000 [==============================] - 14s - loss: 1.5552e-04    \n",
      "Epoch 13/100\n",
      "5000/5000 [==============================] - 14s - loss: 1.5919e-04    \n",
      "Epoch 14/100\n",
      "5000/5000 [==============================] - 14s - loss: 1.5570e-04    \n",
      "Epoch 15/100\n",
      "5000/5000 [==============================] - 14s - loss: 1.5718e-04    \n",
      "Epoch 16/100\n",
      "5000/5000 [==============================] - 14s - loss: 1.5592e-04    \n",
      "Epoch 17/100\n",
      "5000/5000 [==============================] - 14s - loss: 1.5649e-04    \n",
      "Epoch 18/100\n",
      "5000/5000 [==============================] - 14s - loss: 1.5594e-04    \n",
      "Epoch 19/100\n",
      "5000/5000 [==============================] - 14s - loss: 1.5609e-04    \n",
      "Epoch 20/100\n",
      "5000/5000 [==============================] - 13s - loss: 1.5584e-04    \n",
      "Epoch 21/100\n",
      "5000/5000 [==============================] - 13s - loss: 1.5580e-04    \n",
      "Epoch 22/100\n",
      "5000/5000 [==============================] - 14s - loss: 1.5568e-04    \n",
      "Epoch 23/100\n",
      "5000/5000 [==============================] - 14s - loss: 1.5558e-04    \n",
      "Epoch 24/100\n",
      "5000/5000 [==============================] - 14s - loss: 1.5549e-04    \n",
      "Epoch 25/100\n",
      "5000/5000 [==============================] - 14s - loss: 1.5539e-04    \n",
      "Epoch 26/100\n",
      "5000/5000 [==============================] - 14s - loss: 1.5531e-04    \n",
      "Epoch 27/100\n",
      "5000/5000 [==============================] - 14s - loss: 1.5523e-04    \n",
      "Epoch 28/100\n",
      "5000/5000 [==============================] - 14s - loss: 1.5515e-04    \n",
      "Epoch 29/100\n",
      "5000/5000 [==============================] - 14s - loss: 1.5508e-04    \n",
      "Epoch 30/100\n",
      "5000/5000 [==============================] - 14s - loss: 1.5501e-04    \n",
      "Epoch 31/100\n",
      "5000/5000 [==============================] - 14s - loss: 1.5494e-04    \n",
      "Epoch 32/100\n",
      "5000/5000 [==============================] - 13s - loss: 1.5488e-04    \n",
      "Epoch 33/100\n",
      "5000/5000 [==============================] - 13s - loss: 1.5483e-04    \n",
      "Epoch 34/100\n",
      "5000/5000 [==============================] - 13s - loss: 1.5478e-04    \n",
      "Epoch 35/100\n",
      "5000/5000 [==============================] - 13s - loss: 1.5473e-04    \n",
      "Epoch 36/100\n",
      "5000/5000 [==============================] - 13s - loss: 1.5468e-04    \n",
      "Epoch 37/100\n",
      "5000/5000 [==============================] - 13s - loss: 1.5464e-04    \n",
      "Epoch 38/100\n",
      "5000/5000 [==============================] - 13s - loss: 1.5461e-04    \n",
      "Epoch 39/100\n",
      "5000/5000 [==============================] - 13s - loss: 1.5457e-04    \n",
      "Epoch 40/100\n",
      "5000/5000 [==============================] - 13s - loss: 1.5454e-04    \n",
      "Epoch 41/100\n",
      "5000/5000 [==============================] - 13s - loss: 1.5452e-04    \n",
      "Epoch 42/100\n",
      "5000/5000 [==============================] - 13s - loss: 1.5449e-04    \n",
      "Epoch 43/100\n",
      "5000/5000 [==============================] - 13s - loss: 1.5447e-04    \n",
      "Epoch 44/100\n",
      "5000/5000 [==============================] - 13s - loss: 1.5445e-04    \n",
      "Epoch 45/100\n",
      "5000/5000 [==============================] - 13s - loss: 1.5444e-04    \n",
      "Epoch 46/100\n",
      "5000/5000 [==============================] - 13s - loss: 1.5442e-04    \n",
      "Epoch 47/100\n",
      "5000/5000 [==============================] - 13s - loss: 1.5441e-04    \n",
      "Epoch 48/100\n",
      "5000/5000 [==============================] - 13s - loss: 1.5440e-04    \n",
      "Epoch 49/100\n",
      "5000/5000 [==============================] - 13s - loss: 1.5439e-04    \n",
      "Epoch 50/100\n",
      "5000/5000 [==============================] - 13s - loss: 1.5439e-04    \n",
      "Epoch 51/100\n",
      "5000/5000 [==============================] - 13s - loss: 1.5438e-04    \n",
      "Epoch 52/100\n",
      "5000/5000 [==============================] - 13s - loss: 1.5438e-04    \n",
      "Epoch 53/100\n",
      "5000/5000 [==============================] - 13s - loss: 1.5437e-04    \n",
      "Epoch 54/100\n",
      "5000/5000 [==============================] - 13s - loss: 1.5437e-04    \n",
      "Epoch 55/100\n",
      "5000/5000 [==============================] - 13s - loss: 1.5437e-04    \n",
      "Epoch 56/100\n",
      "5000/5000 [==============================] - 13s - loss: 1.5437e-04    \n",
      "Epoch 57/100\n",
      "5000/5000 [==============================] - 13s - loss: 1.5437e-04    \n",
      "Epoch 58/100\n",
      "5000/5000 [==============================] - 13s - loss: 1.5437e-04    \n",
      "Epoch 59/100\n",
      "5000/5000 [==============================] - 13s - loss: 1.5437e-04    \n",
      "Epoch 60/100\n",
      "5000/5000 [==============================] - 13s - loss: 1.5437e-04    \n",
      "Epoch 61/100\n",
      "5000/5000 [==============================] - 13s - loss: 1.5438e-04    \n",
      "Epoch 62/100\n",
      "5000/5000 [==============================] - 13s - loss: 1.5438e-04    \n",
      "Epoch 63/100\n",
      "5000/5000 [==============================] - 13s - loss: 1.5438e-04    \n",
      "Epoch 64/100\n",
      "5000/5000 [==============================] - 13s - loss: 1.5439e-04    \n",
      "Epoch 65/100\n",
      "5000/5000 [==============================] - 13s - loss: 1.5439e-04    \n",
      "Epoch 66/100\n",
      "5000/5000 [==============================] - 13s - loss: 1.5440e-04    \n",
      "Epoch 67/100\n",
      "5000/5000 [==============================] - 13s - loss: 1.5440e-04    \n",
      "Epoch 68/100\n",
      "5000/5000 [==============================] - 13s - loss: 1.5440e-04    \n",
      "Epoch 69/100\n",
      "5000/5000 [==============================] - 13s - loss: 1.5441e-04    \n",
      "Epoch 70/100\n",
      "5000/5000 [==============================] - 13s - loss: 1.5441e-04    \n",
      "Epoch 71/100\n",
      "5000/5000 [==============================] - 13s - loss: 1.5442e-04    \n",
      "Epoch 72/100\n",
      "5000/5000 [==============================] - 13s - loss: 1.5443e-04    \n",
      "Epoch 73/100\n",
      "5000/5000 [==============================] - 13s - loss: 1.5443e-04    \n",
      "Epoch 74/100\n",
      "5000/5000 [==============================] - 13s - loss: 1.5444e-04    \n",
      "Epoch 75/100\n",
      "5000/5000 [==============================] - 13s - loss: 1.5444e-04    \n",
      "Epoch 76/100\n",
      "5000/5000 [==============================] - 13s - loss: 1.5445e-04    \n",
      "Epoch 77/100\n",
      "5000/5000 [==============================] - 13s - loss: 1.5446e-04    \n",
      "Epoch 78/100\n",
      "5000/5000 [==============================] - 13s - loss: 1.5446e-04    \n",
      "Epoch 79/100\n",
      "5000/5000 [==============================] - 13s - loss: 1.5447e-04    \n",
      "Epoch 80/100\n",
      "5000/5000 [==============================] - 13s - loss: 1.5448e-04    \n",
      "Epoch 81/100\n",
      "5000/5000 [==============================] - 13s - loss: 1.5448e-04    \n",
      "Epoch 82/100\n",
      "5000/5000 [==============================] - 13s - loss: 1.5449e-04    \n",
      "Epoch 83/100\n",
      "5000/5000 [==============================] - 13s - loss: 1.5450e-04    \n",
      "Epoch 84/100\n",
      "5000/5000 [==============================] - 13s - loss: 1.5451e-04    \n",
      "Epoch 85/100\n",
      "5000/5000 [==============================] - 13s - loss: 1.5452e-04    \n",
      "Epoch 86/100\n",
      "5000/5000 [==============================] - 13s - loss: 1.5454e-04    \n",
      "Epoch 87/100\n",
      "5000/5000 [==============================] - 13s - loss: 1.5455e-04    \n",
      "Epoch 88/100\n",
      "5000/5000 [==============================] - 13s - loss: 1.5456e-04    \n",
      "Epoch 89/100\n"
     ]
    },
    {
     "name": "stdout",
     "output_type": "stream",
     "text": [
      "5000/5000 [==============================] - 13s - loss: 1.5458e-04    \n",
      "Epoch 90/100\n",
      "5000/5000 [==============================] - 13s - loss: 1.5459e-04    \n",
      "Epoch 91/100\n",
      "5000/5000 [==============================] - 13s - loss: 1.5460e-04    \n",
      "Epoch 92/100\n",
      "5000/5000 [==============================] - 13s - loss: 1.5462e-04    \n",
      "Epoch 93/100\n",
      "5000/5000 [==============================] - 13s - loss: 1.5464e-04    \n",
      "Epoch 94/100\n",
      "5000/5000 [==============================] - 13s - loss: 1.5466e-04    \n",
      "Epoch 95/100\n",
      "5000/5000 [==============================] - 13s - loss: 1.5468e-04    \n",
      "Epoch 96/100\n",
      "5000/5000 [==============================] - 13s - loss: 1.5470e-04    \n",
      "Epoch 97/100\n",
      "5000/5000 [==============================] - 13s - loss: 1.5473e-04    \n",
      "Epoch 98/100\n",
      "5000/5000 [==============================] - 13s - loss: 1.5476e-04    \n",
      "Epoch 99/100\n",
      "5000/5000 [==============================] - 13s - loss: 1.5479e-04    \n",
      "Epoch 100/100\n",
      "5000/5000 [==============================] - 13s - loss: 1.5483e-04    \n"
     ]
    },
    {
     "data": {
      "text/plain": [
       "<keras.callbacks.History at 0x23d3ba93390>"
      ]
     },
     "execution_count": 19,
     "metadata": {},
     "output_type": "execute_result"
    }
   ],
   "source": [
    "target_variable = 2\n",
    "window_size = 5\n",
    "batch_size = 500\n",
    "\n",
    "Xtrain_LSTM, ytrain_LSTM = window_transform_series(SPY_df_Xtrain, SPY_df_ytrain[:, target_variable], window_size = window_size)\n",
    "Xtest_LSTM, ytest_LSTM = window_transform_series(SPY_df_Xtest, SPY_df_ytest[:, target_variable], window_size = window_size)\n",
    "\n",
    "\n",
    "good_size_train = Xtrain_LSTM.shape[0] - Xtrain_LSTM.shape[0] % batch_size\n",
    "Xtrain_LSTM = Xtrain_LSTM[-good_size_train:]\n",
    "ytrain_LSTM = ytrain_LSTM[-good_size_train:]\n",
    "\n",
    "good_size_test = Xtest_LSTM.shape[0] - Xtest_LSTM.shape[0] % batch_size\n",
    "Xtest_LSTM = Xtest_LSTM[-good_size_test:]\n",
    "ytest_LSTM  = ytest_LSTM [-good_size_test:]\n",
    "\n",
    "\n",
    "SPY_2_model = Sequential()\n",
    "SPY_2_model.add(LSTM(1024, batch_input_shape = (batch_size, Xtrain_LSTM.shape[1], Xtrain_LSTM.shape[2]),\n",
    "               stateful = True, return_sequences = True))\n",
    "SPY_2_model.add(LSTM(256))\n",
    "SPY_2_model.add(Dense(1))\n",
    "SPY_2_model.compile(loss = 'mean_squared_error', optimizer = 'adam')\n",
    "SPY_2_model.fit(Xtrain_LSTM, ytrain_LSTM, epochs = 100, batch_size = batch_size, verbose = 1, shuffle = False)"
   ]
  },
  {
   "cell_type": "code",
   "execution_count": 21,
   "metadata": {},
   "outputs": [
    {
     "name": "stdout",
     "output_type": "stream",
     "text": [
      "Train error: 37.81070729071859% of mean\n",
      "Test error: 14.055182927957716% of mean\n"
     ]
    }
   ],
   "source": [
    "train_error = mean_squared_error(SPY_2_model.predict(Xtrain_LSTM, batch_size = batch_size), ytrain_LSTM) / np.mean(ytrain_LSTM)\n",
    "test_error = mean_squared_error(SPY_2_model.predict(Xtest_LSTM, batch_size = batch_size), ytest_LSTM) / np.mean(ytest_LSTM)\n",
    "\n",
    "print('Train error: {}% of mean'.format(train_error * 100))\n",
    "print('Test error: {}% of mean'.format(test_error * 100))\n",
    "\n",
    "original_perf['Adj Close 1day pct_change'] = [train_error, test_error]"
   ]
  },
  {
   "cell_type": "code",
   "execution_count": 22,
   "metadata": {},
   "outputs": [],
   "source": [
    "SPY_2_model_pkl_filename = 'Models/SPY_2_model.h5'\n",
    "SPY_2_model.save(SPY_2_model_pkl_filename)"
   ]
  },
  {
   "cell_type": "markdown",
   "metadata": {},
   "source": [
    "#### Adj Close 5day pct_change: RandomForestRegressor Default with Original Randomized"
   ]
  },
  {
   "cell_type": "code",
   "execution_count": 24,
   "metadata": {},
   "outputs": [
    {
     "name": "stdout",
     "output_type": "stream",
     "text": [
      "Train error: 4.963662841871456% of mean\n",
      "Test error: 19.68931580372066% of mean\n"
     ]
    }
   ],
   "source": [
    "SPY_3_model = RandomForestRegressor()\n",
    "SPY_3_model.fit(SPY_df_rand_Xtrain, SPY_df_rand_ytrain['Adj Close 5day pct_change'])\n",
    "\n",
    "train_error = mean_squared_error(SPY_3_model.predict(SPY_df_rand_Xtrain), SPY_df_rand_ytrain['Adj Close 5day pct_change']) / np.mean(SPY_df_rand_ytrain['Adj Close 5day pct_change'])\n",
    "test_error = mean_squared_error(SPY_3_model.predict(SPY_df_rand_Xtest), SPY_df_rand_ytest['Adj Close 5day pct_change']) / np.mean(SPY_df_rand_ytest['Adj Close 5day pct_change'])\n",
    "\n",
    "print('Train error: {}% of mean'.format(train_error * 100))\n",
    "print('Test error: {}% of mean'.format(test_error * 100))\n",
    "\n",
    "original_perf['Adj Close 5day pct_change'] = [train_error, test_error]"
   ]
  },
  {
   "cell_type": "code",
   "execution_count": 25,
   "metadata": {},
   "outputs": [],
   "source": [
    "SPY_3_model_pkl_filename = 'Models/SPY_3_model.pkl'\n",
    "with open(SPY_3_model_pkl_filename, 'wb') as file:  \n",
    "    pickle.dump(SPY_3_model, file)"
   ]
  },
  {
   "cell_type": "markdown",
   "metadata": {},
   "source": [
    "#### Adj Close 1day pct_change cls: XGBoost Optimized with PCA Randomized\n",
    "XGBClassifier(base_score=0.5, colsample_bylevel=1, colsample_bytree=1,\n",
    "        gamma=0, learning_rate=0.001, max_delta_step=0, max_depth=3,\n",
    "        min_child_weight=1, missing=None, n_estimators=700, nthread=-1,\n",
    "        objective='binary:logistic', reg_alpha=0.1, reg_lambda=1,\n",
    "        scale_pos_weight=1, seed=0, silent=True, subsample=1)"
   ]
  },
  {
   "cell_type": "code",
   "execution_count": 29,
   "metadata": {},
   "outputs": [
    {
     "name": "stdout",
     "output_type": "stream",
     "text": [
      "Train accuracy: 84.9232562657859%\n",
      "Test accuracy: 45.84304584304584%\n"
     ]
    },
    {
     "name": "stderr",
     "output_type": "stream",
     "text": [
      "c:\\users\\inves\\appdata\\local\\programs\\python\\python35\\lib\\site-packages\\sklearn\\preprocessing\\label.py:171: DeprecationWarning: The truth value of an empty array is ambiguous. Returning False, but in future this will result in an error. Use `array.size > 0` to check that an array is not empty.\n",
      "  if diff:\n",
      "c:\\users\\inves\\appdata\\local\\programs\\python\\python35\\lib\\site-packages\\sklearn\\preprocessing\\label.py:171: DeprecationWarning: The truth value of an empty array is ambiguous. Returning False, but in future this will result in an error. Use `array.size > 0` to check that an array is not empty.\n",
      "  if diff:\n"
     ]
    }
   ],
   "source": [
    "target_variable = 4\n",
    "SPY_4_model = xgb.XGBClassifier(base_score=0.5, colsample_bylevel=1, colsample_bytree=1,\n",
    "                                gamma=0, learning_rate=0.01, max_delta_step=0, max_depth=6,\n",
    "                                min_child_weight=1, missing=None, n_estimators=1100, nthread=-1,\n",
    "                                objective='binary:logistic', reg_alpha=0.0001, reg_lambda=1,\n",
    "                                scale_pos_weight=1, seed=0, silent=True, subsample=1)\n",
    "SPY_4_model.fit(SPY_df_Xtrain, SPY_df_ytrain[:, target_variable])\n",
    "train_error = accuracy_score(SPY_4_model.predict(SPY_df_Xtrain), SPY_df_ytrain[:, target_variable])\n",
    "test_error = accuracy_score(SPY_4_model.predict(SPY_df_Xtest), SPY_df_ytest[:, target_variable])\n",
    "\n",
    "print('Train accuracy: {}%'.format(train_error * 100))\n",
    "print('Test accuracy: {}%'.format(test_error * 100))\n",
    "\n",
    "original_perf['Adj Close 1day pct_change cls'] = [train_error, test_error]"
   ]
  },
  {
   "cell_type": "code",
   "execution_count": 30,
   "metadata": {},
   "outputs": [],
   "source": [
    "SPY_4_model_pkl_filename = 'Models/SPY_4_model.pkl'\n",
    "with open(SPY_4_model_pkl_filename, 'wb') as file:  \n",
    "    pickle.dump(SPY_4_model, file)"
   ]
  },
  {
   "cell_type": "markdown",
   "metadata": {},
   "source": [
    "#### Adj Close 5day pct_change cls: XGBoost Optimized with Original\n",
    "XGBClassifier(base_score=0.5, colsample_bylevel=1, colsample_bytree=1,\n",
    "        gamma=0, learning_rate=0.1, max_delta_step=0, max_depth=8,\n",
    "        min_child_weight=1, missing=None, n_estimators=600, nthread=-1,\n",
    "        objective='binary:logistic', reg_alpha=0.01, reg_lambda=1,\n",
    "        scale_pos_weight=1, seed=0, silent=True, subsample=1)"
   ]
  },
  {
   "cell_type": "code",
   "execution_count": 32,
   "metadata": {},
   "outputs": [
    {
     "name": "stdout",
     "output_type": "stream",
     "text": [
      "Train accuracy: 94.4239362735574%\n",
      "Test accuracy: 48.717948717948715%\n"
     ]
    },
    {
     "name": "stderr",
     "output_type": "stream",
     "text": [
      "c:\\users\\inves\\appdata\\local\\programs\\python\\python35\\lib\\site-packages\\sklearn\\preprocessing\\label.py:171: DeprecationWarning: The truth value of an empty array is ambiguous. Returning False, but in future this will result in an error. Use `array.size > 0` to check that an array is not empty.\n",
      "  if diff:\n",
      "c:\\users\\inves\\appdata\\local\\programs\\python\\python35\\lib\\site-packages\\sklearn\\preprocessing\\label.py:171: DeprecationWarning: The truth value of an empty array is ambiguous. Returning False, but in future this will result in an error. Use `array.size > 0` to check that an array is not empty.\n",
      "  if diff:\n"
     ]
    }
   ],
   "source": [
    "target_variable = 5\n",
    "\n",
    "SPY_5_model = xgb.XGBClassifier(base_score=0.5, colsample_bylevel=1, colsample_bytree=1,\n",
    "                                gamma=0, learning_rate=0.01, max_delta_step=0, max_depth=8,\n",
    "                                min_child_weight=1, missing=None, n_estimators=1300, nthread=-1,\n",
    "                                objective='binary:logistic', reg_alpha=1e-05, reg_lambda=1,\n",
    "                                scale_pos_weight=1, seed=0, silent=True, subsample=1)\n",
    "SPY_5_model.fit(SPY_df_Xtrain, SPY_df_ytrain[:, target_variable])\n",
    "\n",
    "train_error = accuracy_score(SPY_5_model.predict(SPY_df_Xtrain), SPY_df_ytrain[:, target_variable])\n",
    "test_error = accuracy_score(SPY_5_model.predict(SPY_df_Xtest), SPY_df_ytest[:, target_variable])\n",
    "\n",
    "print('Train accuracy: {}%'.format(train_error * 100))\n",
    "print('Test accuracy: {}%'.format(test_error * 100))\n",
    "\n",
    "original_perf['Adj Close 5day pct_change cls'] = [train_error, test_error]"
   ]
  },
  {
   "cell_type": "code",
   "execution_count": 33,
   "metadata": {},
   "outputs": [],
   "source": [
    "SPY_5_model_pkl_filename = 'Models/SPY_5_model.pkl'\n",
    "with open(SPY_5_model_pkl_filename, 'wb') as file:  \n",
    "    pickle.dump(SPY_5_model, file)"
   ]
  },
  {
   "cell_type": "code",
   "execution_count": 35,
   "metadata": {},
   "outputs": [],
   "source": []
  },
  {
   "cell_type": "code",
   "execution_count": 34,
   "metadata": {},
   "outputs": [
    {
     "data": {
      "text/html": [
       "<div>\n",
       "<table border=\"1\" class=\"dataframe\">\n",
       "  <thead>\n",
       "    <tr style=\"text-align: right;\">\n",
       "      <th></th>\n",
       "      <th>Adj Close 1day</th>\n",
       "      <th>Adj Close 5day</th>\n",
       "      <th>Adj Close 1day pct_change</th>\n",
       "      <th>Adj Close 5day pct_change</th>\n",
       "      <th>Adj Close 1day pct_change cls</th>\n",
       "      <th>Adj Close 5day pct_change cls</th>\n",
       "    </tr>\n",
       "  </thead>\n",
       "  <tbody>\n",
       "    <tr>\n",
       "      <th>0</th>\n",
       "      <td>0.000006</td>\n",
       "      <td>0.000021</td>\n",
       "      <td>0.378107</td>\n",
       "      <td>0.049637</td>\n",
       "      <td>0.849233</td>\n",
       "      <td>0.944239</td>\n",
       "    </tr>\n",
       "    <tr>\n",
       "      <th>1</th>\n",
       "      <td>0.000028</td>\n",
       "      <td>0.000106</td>\n",
       "      <td>0.140552</td>\n",
       "      <td>0.196893</td>\n",
       "      <td>0.458430</td>\n",
       "      <td>0.487179</td>\n",
       "    </tr>\n",
       "  </tbody>\n",
       "</table>\n",
       "</div>"
      ],
      "text/plain": [
       "   Adj Close 1day  Adj Close 5day  Adj Close 1day pct_change  \\\n",
       "0        0.000006        0.000021                   0.378107   \n",
       "1        0.000028        0.000106                   0.140552   \n",
       "\n",
       "   Adj Close 5day pct_change  Adj Close 1day pct_change cls  \\\n",
       "0                   0.049637                       0.849233   \n",
       "1                   0.196893                       0.458430   \n",
       "\n",
       "   Adj Close 5day pct_change cls  \n",
       "0                       0.944239  \n",
       "1                       0.487179  "
      ]
     },
     "execution_count": 34,
     "metadata": {},
     "output_type": "execute_result"
    }
   ],
   "source": [
    "pd.DataFrame(original_perf)[['Adj Close 1day','Adj Close 5day','Adj Close 1day pct_change','Adj Close 5day pct_change',\n",
    "                             'Adj Close 1day pct_change cls','Adj Close 5day pct_change cls']]"
   ]
  },
  {
   "cell_type": "markdown",
   "metadata": {},
   "source": [
    "I'm going to try to test my model in two directions:\n",
    "1. Vertical - This involves in testing the model of the same equity, but with more recent data. Using the original PCA\n",
    "2. Horizontal - This involves in testing the model of different equity. Using the original PCA."
   ]
  },
  {
   "cell_type": "markdown",
   "metadata": {},
   "source": [
    "### Vertical Testing with Updated Data"
   ]
  },
  {
   "cell_type": "code",
   "execution_count": 39,
   "metadata": {},
   "outputs": [],
   "source": [
    "#loading PCA\n",
    "SPY_PCA_model_pkl_filename = 'Models/SPY_PCA_model.pkl'\n",
    "with open(SPY_PCA_model_pkl_filename, 'rb') as file:\n",
    "    SPY_PCA_model = pickle.load(file)\n",
    "    \n",
    "SPY_0_model_pkl_filename = 'Models/SPY_0_model.pkl'\n",
    "with open(SPY_0_model_pkl_filename, 'rb') as file:  \n",
    "    SPY_0_model = pickle.load(file)\n",
    "    \n",
    "SPY_1_model_pkl_filename = 'Models/SPY_1_model.pkl'\n",
    "with open(SPY_1_model_pkl_filename, 'rb') as file:  \n",
    "    SPY_1_model = pickle.load(file)\n",
    "    \n",
    "SPY_2_model_pkl_filename = 'Models/SPY_2_model.h5'\n",
    "SPY_2_model = models.load_model(SPY_2_model_pkl_filename)\n",
    "\n",
    "SPY_3_model_pkl_filename = 'Models/SPY_3_model.pkl'\n",
    "with open(SPY_3_model_pkl_filename, 'rb') as file:  \n",
    "    SPY_3_model = pickle.load(file)\n",
    "    \n",
    "SPY_4_model_pkl_filename = 'Models/SPY_4_model.pkl'\n",
    "with open(SPY_4_model_pkl_filename, 'rb') as file:  \n",
    "    SPY_4_model = pickle.load(file)\n",
    "    \n",
    "SPY_5_model_pkl_filename = 'Models/SPY_5_model.pkl'\n",
    "with open(SPY_5_model_pkl_filename, 'rb') as file:  \n",
    "    SPY_5_model = pickle.load(file)"
   ]
  },
  {
   "cell_type": "markdown",
   "metadata": {},
   "source": [
    "try it on the updated SPY dataset"
   ]
  },
  {
   "cell_type": "code",
   "execution_count": 44,
   "metadata": {},
   "outputs": [
    {
     "name": "stderr",
     "output_type": "stream",
     "text": [
      "c:\\users\\inves\\appdata\\local\\programs\\python\\python35\\lib\\site-packages\\sklearn\\preprocessing\\data.py:586: DeprecationWarning: Passing 1d arrays as data is deprecated in 0.17 and will raise ValueError in 0.19. Reshape your data either using X.reshape(-1, 1) if your data has a single feature or X.reshape(1, -1) if it contains a single sample.\n",
      "  warnings.warn(DEPRECATION_MSG_1D, DeprecationWarning)\n",
      "c:\\users\\inves\\appdata\\local\\programs\\python\\python35\\lib\\site-packages\\sklearn\\preprocessing\\data.py:649: DeprecationWarning: Passing 1d arrays as data is deprecated in 0.17 and will raise ValueError in 0.19. Reshape your data either using X.reshape(-1, 1) if your data has a single feature or X.reshape(1, -1) if it contains a single sample.\n",
      "  warnings.warn(DEPRECATION_MSG_1D, DeprecationWarning)\n",
      "c:\\users\\inves\\appdata\\local\\programs\\python\\python35\\lib\\site-packages\\sklearn\\preprocessing\\data.py:321: DeprecationWarning: Passing 1d arrays as data is deprecated in 0.17 and will raise ValueError in 0.19. Reshape your data either using X.reshape(-1, 1) if your data has a single feature or X.reshape(1, -1) if it contains a single sample.\n",
      "  warnings.warn(DEPRECATION_MSG_1D, DeprecationWarning)\n",
      "c:\\users\\inves\\appdata\\local\\programs\\python\\python35\\lib\\site-packages\\sklearn\\preprocessing\\data.py:356: DeprecationWarning: Passing 1d arrays as data is deprecated in 0.17 and will raise ValueError in 0.19. Reshape your data either using X.reshape(-1, 1) if your data has a single feature or X.reshape(1, -1) if it contains a single sample.\n",
      "  warnings.warn(DEPRECATION_MSG_1D, DeprecationWarning)\n"
     ]
    }
   ],
   "source": [
    "_, SPY2_PCA_df, SPY2_df = extract_data('SPY2', SPY_PCA_model)\n",
    "SPY2_PCA_df_rand = shuffle(SPY2_PCA_df, random_state = 0)\n",
    "SPY2_df_rand = shuffle(SPY2_df, random_state = 0)"
   ]
  },
  {
   "cell_type": "code",
   "execution_count": 45,
   "metadata": {},
   "outputs": [],
   "source": [
    "SPY2_PCA_rand_X = SPY2_PCA_df_rand[['Dimension 1', 'Dimension 2', 'Dimension 3', 'Dimension 4',\n",
    "                                    'Dimension 5', 'Dimension 6', 'Dimension 7']]\n",
    "SPY2_PCA_rand_y = SPY2_PCA_df_rand[['Adj Close 1day', 'Adj Close 5day',\n",
    "                                    'Adj Close 1day pct_change', 'Adj Close 5day pct_change',\n",
    "                                    'Adj Close 1day pct_change cls', 'Adj Close 5day pct_change cls']]\n",
    "\n",
    "SPY2_PCA_X = SPY2_PCA_df[['Dimension 1', 'Dimension 2', 'Dimension 3', 'Dimension 4',\n",
    "                          'Dimension 5', 'Dimension 6', 'Dimension 7']]\n",
    "SPY2_PCA_y = SPY2_PCA_df[['Adj Close 1day', 'Adj Close 5day',\n",
    "                          'Adj Close 1day pct_change', 'Adj Close 5day pct_change',\n",
    "                          'Adj Close 1day pct_change cls', 'Adj Close 5day pct_change cls']]\n",
    "\n",
    "SPY2_df_rand_X = SPY2_df_rand[['Open', 'High', 'Low', 'Adj Close', 'Volume', 'Range', 'MA5 Adj Close', 'MA5 Volume',\n",
    "                               'MA5 Adj Close pct_change', 'MA5 Volume pct_change']]\n",
    "SPY2_df_rand_y = SPY2_df_rand[['Adj Close 1day', 'Adj Close 5day', 'Adj Close 1day pct_change',\n",
    "                               'Adj Close 5day pct_change', 'Adj Close 1day pct_change cls',\n",
    "                               'Adj Close 5day pct_change cls']]\n",
    "\n",
    "SPY2_df_X = SPY2_df[['Open', 'High', 'Low', 'Adj Close', 'Volume', 'Range', 'MA5 Adj Close', 'MA5 Volume',\n",
    "                     'MA5 Adj Close pct_change', 'MA5 Volume pct_change']]\n",
    "SPY2_df_y = SPY2_df[['Adj Close 1day', 'Adj Close 5day', 'Adj Close 1day pct_change',\n",
    "                     'Adj Close 5day pct_change', 'Adj Close 1day pct_change cls',\n",
    "                     'Adj Close 5day pct_change cls']]"
   ]
  },
  {
   "cell_type": "code",
   "execution_count": 46,
   "metadata": {},
   "outputs": [
    {
     "name": "stdout",
     "output_type": "stream",
     "text": [
      "(6449, 7) (6449, 6)\n",
      "(6449, 7) (6449, 6)\n",
      "(6449, 10) (6449, 6)\n",
      "(6449, 10) (6449, 6)\n"
     ]
    }
   ],
   "source": [
    "print(SPY2_PCA_rand_X.shape, SPY2_PCA_rand_y.shape)\n",
    "print(SPY2_PCA_X.shape, SPY2_PCA_y.shape)\n",
    "\n",
    "print(SPY2_df_rand_X.shape, SPY2_df_rand_y.shape)\n",
    "print(SPY2_df_X.shape, SPY2_df_y.shape)"
   ]
  },
  {
   "cell_type": "code",
   "execution_count": 47,
   "metadata": {},
   "outputs": [],
   "source": [
    "SPY2_perf = dict()"
   ]
  },
  {
   "cell_type": "markdown",
   "metadata": {},
   "source": [
    "#### Adj Close 1day: RandomForestRegressor Default with Original Randomized (Same as AAPL)"
   ]
  },
  {
   "cell_type": "code",
   "execution_count": 49,
   "metadata": {},
   "outputs": [
    {
     "name": "stdout",
     "output_type": "stream",
     "text": [
      "Error: 0.0010732753937476827% of mean\n"
     ]
    }
   ],
   "source": [
    "error = mean_squared_error(SPY_0_model.predict(SPY2_df_rand_X), SPY2_df_rand_y['Adj Close 1day']) / np.mean(SPY2_df_rand_y['Adj Close 1day'])\n",
    "\n",
    "print('Error: {}% of mean'.format(error * 100))\n",
    "\n",
    "SPY2_perf['Adj Close 1day'] = error"
   ]
  },
  {
   "cell_type": "markdown",
   "metadata": {},
   "source": [
    "#### Adj Close 5day: RandomForestRegressor Default with Original Randomized (Same as AAPL)"
   ]
  },
  {
   "cell_type": "code",
   "execution_count": 50,
   "metadata": {},
   "outputs": [
    {
     "name": "stdout",
     "output_type": "stream",
     "text": [
      "Error: 0.003767846190031942% of mean\n"
     ]
    }
   ],
   "source": [
    "error = mean_squared_error(SPY_1_model.predict(SPY2_df_rand_X), SPY2_df_rand_y['Adj Close 5day']) / np.mean(SPY2_df_rand_y['Adj Close 5day'])\n",
    "\n",
    "print('Error: {}% of mean'.format(error * 100))\n",
    "\n",
    "SPY2_perf['Adj Close 5day'] = error"
   ]
  },
  {
   "cell_type": "code",
   "execution_count": 51,
   "metadata": {},
   "outputs": [],
   "source": [
    "def window_transform_series(X, y, window_size):\n",
    "    # containers for input/output pairs\n",
    "    X_result = []\n",
    "    y_result = []\n",
    "    #print(series)\n",
    "    #print(window_size)\n",
    "    for i in range(len(y) - window_size):\n",
    "        X_result.append(X[i: i + window_size])\n",
    "        y_result.append(y[i + window_size])\n",
    "        #print(i)\n",
    "        #print(series[i: i + window_size])\n",
    "        #print(series[i + window_size])\n",
    "    # reshape each\n",
    "\n",
    "    X_result = np.asarray(X_result)\n",
    "    X_result.shape = (np.shape(X_result)[0:3])\n",
    "\n",
    "    y_result = np.asarray(y_result)\n",
    "    y_result.shape = (len(y_result), 1)\n",
    "\n",
    "    return X_result, y_result"
   ]
  },
  {
   "cell_type": "markdown",
   "metadata": {},
   "source": [
    "#### Adj Close 1day pct_change: LSTM Optimized with Original\n",
    "layer1 = 1024, layer2 = 256, epochs = 100, batch_size = 500"
   ]
  },
  {
   "cell_type": "code",
   "execution_count": 52,
   "metadata": {},
   "outputs": [
    {
     "name": "stdout",
     "output_type": "stream",
     "text": [
      "Error: 31.814899848662787% of mean\n"
     ]
    }
   ],
   "source": [
    "target_variable = 2\n",
    "window_size = 5\n",
    "batch_size = 500\n",
    "\n",
    "SPY2_X_LSTM, SPY2_y_LSTM = window_transform_series(np.array(SPY2_df_X), np.array(SPY2_df_y['Adj Close 1day pct_change']), window_size = window_size)\n",
    "\n",
    "good_size_train = SPY2_X_LSTM.shape[0] - SPY2_X_LSTM.shape[0] % batch_size\n",
    "SPY2_X_LSTM = SPY2_X_LSTM[-good_size_train:]\n",
    "SPY2_y_LSTM = SPY2_y_LSTM[-good_size_train:]\n",
    "\n",
    "error = mean_squared_error(SPY_2_model.predict(SPY2_X_LSTM, batch_size = batch_size), np.array(SPY2_y_LSTM)) / np.mean(SPY2_y_LSTM)\n",
    "\n",
    "print('Error: {}% of mean'.format(error * 100))\n",
    "\n",
    "SPY2_perf['Adj Close 1day pct_change'] = error"
   ]
  },
  {
   "cell_type": "markdown",
   "metadata": {},
   "source": [
    "#### Adj Close 5day pct_change: RandomForestRegressor Default with Original Randomized"
   ]
  },
  {
   "cell_type": "code",
   "execution_count": 54,
   "metadata": {},
   "outputs": [
    {
     "name": "stdout",
     "output_type": "stream",
     "text": [
      "Error: 8.545652512624786% of mean\n"
     ]
    }
   ],
   "source": [
    "error = mean_squared_error(SPY_3_model.predict(SPY2_df_rand_X), SPY2_df_rand_y['Adj Close 5day pct_change']) / np.mean(SPY2_df_rand_y['Adj Close 5day pct_change'])\n",
    "\n",
    "print('Error: {}% of mean'.format(error * 100))\n",
    "\n",
    "SPY2_perf['Adj Close 5day pct_change'] = error"
   ]
  },
  {
   "cell_type": "markdown",
   "metadata": {},
   "source": [
    "#### Adj Close 1day pct_change cls: XGBoost Optimized with Original\n",
    "XGBClassifier(base_score=0.5, colsample_bylevel=1, colsample_bytree=1,\n",
    "        gamma=0, learning_rate=0.01, max_delta_step=0, max_depth=6,\n",
    "        min_child_weight=1, missing=None, n_estimators=1100, nthread=-1,\n",
    "        objective='binary:logistic', reg_alpha=0.0001, reg_lambda=1,\n",
    "        scale_pos_weight=1, seed=0, silent=True, subsample=1)"
   ]
  },
  {
   "cell_type": "code",
   "execution_count": 75,
   "metadata": {},
   "outputs": [
    {
     "name": "stdout",
     "output_type": "stream",
     "text": [
      "Error: 76.83361761513413% of mean\n"
     ]
    },
    {
     "name": "stderr",
     "output_type": "stream",
     "text": [
      "c:\\users\\inves\\appdata\\local\\programs\\python\\python35\\lib\\site-packages\\sklearn\\preprocessing\\label.py:171: DeprecationWarning: The truth value of an empty array is ambiguous. Returning False, but in future this will result in an error. Use `array.size > 0` to check that an array is not empty.\n",
      "  if diff:\n"
     ]
    }
   ],
   "source": [
    "target_variable = 4\n",
    "error = accuracy_score(SPY_4_model.predict(np.array(SPY2_df_X)), SPY2_df_y['Adj Close 1day pct_change cls'])\n",
    "\n",
    "print('Error: {}% of mean'.format(error * 100))\n",
    "\n",
    "SPY2_perf['Adj Close 1day pct_change cls'] = error"
   ]
  },
  {
   "cell_type": "markdown",
   "metadata": {},
   "source": [
    "#### Adj Close 5day pct_change cls: XGBoost Optimized with Original\n",
    "XGBClassifier(base_score=0.5, colsample_bylevel=1, colsample_bytree=1,\n",
    "        gamma=0, learning_rate=0.01, max_delta_step=0, max_depth=8,\n",
    "        min_child_weight=1, missing=None, n_estimators=1300, nthread=-1,\n",
    "        objective='binary:logistic', reg_alpha=1e-05, reg_lambda=1,\n",
    "        scale_pos_weight=1, seed=0, silent=True, subsample=1"
   ]
  },
  {
   "cell_type": "code",
   "execution_count": 76,
   "metadata": {},
   "outputs": [
    {
     "name": "stdout",
     "output_type": "stream",
     "text": [
      "Error: 85.08295859823228% of mean\n"
     ]
    },
    {
     "name": "stderr",
     "output_type": "stream",
     "text": [
      "c:\\users\\inves\\appdata\\local\\programs\\python\\python35\\lib\\site-packages\\sklearn\\preprocessing\\label.py:171: DeprecationWarning: The truth value of an empty array is ambiguous. Returning False, but in future this will result in an error. Use `array.size > 0` to check that an array is not empty.\n",
      "  if diff:\n"
     ]
    }
   ],
   "source": [
    "error = accuracy_score(SPY_5_model.predict(np.array(SPY2_df_X)), SPY2_df_y['Adj Close 5day pct_change cls'])\n",
    "\n",
    "print('Error: {}% of mean'.format(error * 100))\n",
    "\n",
    "SPY2_perf['Adj Close 5day pct_change cls'] = error"
   ]
  },
  {
   "cell_type": "code",
   "execution_count": 77,
   "metadata": {},
   "outputs": [
    {
     "data": {
      "text/plain": [
       "{'Adj Close 1day': 1.0732753937476826e-05,\n",
       " 'Adj Close 1day pct_change': 0.31814899848662787,\n",
       " 'Adj Close 1day pct_change cls': 0.7683361761513413,\n",
       " 'Adj Close 5day': 3.767846190031942e-05,\n",
       " 'Adj Close 5day pct_change': 0.08545652512624785,\n",
       " 'Adj Close 5day pct_change cls': 0.8508295859823228}"
      ]
     },
     "execution_count": 77,
     "metadata": {},
     "output_type": "execute_result"
    }
   ],
   "source": [
    "SPY2_perf"
   ]
  },
  {
   "cell_type": "markdown",
   "metadata": {},
   "source": [
    "### SPY performance Comparison\n",
    "\n",
    "|MSE and ACC|Adj Close 1day|Adj Close 5day|Adj Close 1day pct_change|Adj Close 5day pct_change|Adj Close 1day pct_change cls|Adj Close 5day pct_change cls|\n",
    "|-|-|-|-|-|-||\n",
    "|SPY train  |0.000006|0.000021|0.378107|0.049637|0.849233|0.944239|\n",
    "|SPY test   |0.000028|0.000106|0.140552|0.196893|0.458430|0.487179|\n",
    "|SPY Updated|1.073274e-05|3.767846e-05|0.318148|0.318148|0.768336|0.850829|"
   ]
  },
  {
   "cell_type": "markdown",
   "metadata": {},
   "source": [
    "### Horizontal Testing with Updated Data"
   ]
  },
  {
   "cell_type": "markdown",
   "metadata": {},
   "source": [
    "#### Trying AAPL2"
   ]
  },
  {
   "cell_type": "code",
   "execution_count": 78,
   "metadata": {},
   "outputs": [
    {
     "name": "stderr",
     "output_type": "stream",
     "text": [
      "c:\\users\\inves\\appdata\\local\\programs\\python\\python35\\lib\\site-packages\\sklearn\\preprocessing\\data.py:586: DeprecationWarning: Passing 1d arrays as data is deprecated in 0.17 and will raise ValueError in 0.19. Reshape your data either using X.reshape(-1, 1) if your data has a single feature or X.reshape(1, -1) if it contains a single sample.\n",
      "  warnings.warn(DEPRECATION_MSG_1D, DeprecationWarning)\n",
      "c:\\users\\inves\\appdata\\local\\programs\\python\\python35\\lib\\site-packages\\sklearn\\preprocessing\\data.py:649: DeprecationWarning: Passing 1d arrays as data is deprecated in 0.17 and will raise ValueError in 0.19. Reshape your data either using X.reshape(-1, 1) if your data has a single feature or X.reshape(1, -1) if it contains a single sample.\n",
      "  warnings.warn(DEPRECATION_MSG_1D, DeprecationWarning)\n",
      "c:\\users\\inves\\appdata\\local\\programs\\python\\python35\\lib\\site-packages\\sklearn\\preprocessing\\data.py:321: DeprecationWarning: Passing 1d arrays as data is deprecated in 0.17 and will raise ValueError in 0.19. Reshape your data either using X.reshape(-1, 1) if your data has a single feature or X.reshape(1, -1) if it contains a single sample.\n",
      "  warnings.warn(DEPRECATION_MSG_1D, DeprecationWarning)\n",
      "c:\\users\\inves\\appdata\\local\\programs\\python\\python35\\lib\\site-packages\\sklearn\\preprocessing\\data.py:356: DeprecationWarning: Passing 1d arrays as data is deprecated in 0.17 and will raise ValueError in 0.19. Reshape your data either using X.reshape(-1, 1) if your data has a single feature or X.reshape(1, -1) if it contains a single sample.\n",
      "  warnings.warn(DEPRECATION_MSG_1D, DeprecationWarning)\n"
     ]
    }
   ],
   "source": [
    "_, AAPL2_PCA_df, SPY_df = extract_data('AAPL2', SPY_PCA_model)\n",
    "AAPL2_PCA_df_rand = shuffle(AAPL2_PCA_df, random_state = 0)\n",
    "AAPL2_df_rand = shuffle(AAPL2_df, random_state = 0)"
   ]
  },
  {
   "cell_type": "code",
   "execution_count": 80,
   "metadata": {},
   "outputs": [],
   "source": [
    "AAPL2_PCA_rand_X = AAPL2_PCA_df_rand[['Dimension 1', 'Dimension 2', 'Dimension 3', 'Dimension 4',\n",
    "                                      'Dimension 5', 'Dimension 6', 'Dimension 7']]\n",
    "AAPL2_PCA_rand_y = AAPL2_PCA_df_rand[['Adj Close 1day', 'Adj Close 5day',\n",
    "                                      'Adj Close 1day pct_change', 'Adj Close 5day pct_change',\n",
    "                                      'Adj Close 1day pct_change cls', 'Adj Close 5day pct_change cls']]\n",
    "AAPL2_PCA_X = AAPL2_PCA_df[['Dimension 1', 'Dimension 2', 'Dimension 3', 'Dimension 4',\n",
    "                            'Dimension 5', 'Dimension 6', 'Dimension 7']]\n",
    "AAPL2_PCA_y = AAPL2_PCA_df[['Adj Close 1day', 'Adj Close 5day',\n",
    "                            'Adj Close 1day pct_change', 'Adj Close 5day pct_change',\n",
    "                            'Adj Close 1day pct_change cls', 'Adj Close 5day pct_change cls']]\n",
    "\n",
    "AAPL2_df_rand_X = AAPL2_df_rand[['Open', 'High', 'Low', 'Adj Close', 'Volume', 'Range', 'MA5 Adj Close', 'MA5 Volume',\n",
    "                                 'MA5 Adj Close pct_change', 'MA5 Volume pct_change']]\n",
    "AAPL2_df_rand_y = AAPL2_df_rand[['Adj Close 1day', 'Adj Close 5day', 'Adj Close 1day pct_change',\n",
    "                                 'Adj Close 5day pct_change', 'Adj Close 1day pct_change cls',\n",
    "                                 'Adj Close 5day pct_change cls']]\n",
    "\n",
    "AAPL2_df_X = AAPL2_df[['Open', 'High', 'Low', 'Adj Close', 'Volume', 'Range', 'MA5 Adj Close', 'MA5 Volume',\n",
    "                       'MA5 Adj Close pct_change', 'MA5 Volume pct_change']]\n",
    "AAPL2_df_y = AAPL2_df[['Adj Close 1day', 'Adj Close 5day', 'Adj Close 1day pct_change',\n",
    "                       'Adj Close 5day pct_change', 'Adj Close 1day pct_change cls',\n",
    "                       'Adj Close 5day pct_change cls']]"
   ]
  },
  {
   "cell_type": "code",
   "execution_count": 81,
   "metadata": {},
   "outputs": [
    {
     "name": "stdout",
     "output_type": "stream",
     "text": [
      "(7220, 7) (7220, 6)\n",
      "(7220, 7) (7220, 6)\n",
      "(7220, 10) (7220, 6)\n",
      "(7220, 10) (7220, 6)\n"
     ]
    }
   ],
   "source": [
    "print(AAPL2_PCA_rand_X.shape, AAPL2_PCA_rand_y.shape)\n",
    "print(AAPL2_PCA_X.shape, AAPL2_PCA_y.shape)\n",
    "\n",
    "print(AAPL2_df_rand_X.shape, AAPL2_df_rand_y.shape)\n",
    "print(AAPL2_df_X.shape, AAPL2_df_y.shape)"
   ]
  },
  {
   "cell_type": "code",
   "execution_count": 82,
   "metadata": {},
   "outputs": [],
   "source": [
    "AAPL2_perf = dict()"
   ]
  },
  {
   "cell_type": "code",
   "execution_count": 83,
   "metadata": {},
   "outputs": [
    {
     "name": "stdout",
     "output_type": "stream",
     "text": [
      "Error: 216.61559473813355% of mean\n"
     ]
    }
   ],
   "source": [
    "error = mean_squared_error(SPY_0_model.predict(AAPL2_df_rand_X), AAPL2_df_rand_y['Adj Close 1day']) / np.mean(AAPL2_df_rand_y['Adj Close 1day'])\n",
    "\n",
    "print('Error: {}% of mean'.format(error * 100))\n",
    "\n",
    "AAPL2_perf['Adj Close 1day'] = error"
   ]
  },
  {
   "cell_type": "code",
   "execution_count": 84,
   "metadata": {},
   "outputs": [
    {
     "name": "stdout",
     "output_type": "stream",
     "text": [
      "Error: 218.05364708970703% of mean\n"
     ]
    }
   ],
   "source": [
    "error = mean_squared_error(SPY_1_model.predict(AAPL2_df_rand_X), AAPL2_df_rand_y['Adj Close 5day']) / np.mean(AAPL2_df_rand_y['Adj Close 5day'])\n",
    "\n",
    "print('Error: {}% of mean'.format(error * 100))\n",
    "\n",
    "AAPL2_perf['Adj Close 5day'] = error"
   ]
  },
  {
   "cell_type": "code",
   "execution_count": 85,
   "metadata": {},
   "outputs": [
    {
     "name": "stdout",
     "output_type": "stream",
     "text": [
      "Error: 56.4209137543583% of mean\n"
     ]
    }
   ],
   "source": [
    "target_variable = 2\n",
    "window_size = 5\n",
    "batch_size = 500\n",
    "\n",
    "AAPL2_X_LSTM, AAPL2_y_LSTM = window_transform_series(np.array(AAPL2_df_X), np.array(AAPL2_df_y['Adj Close 1day pct_change']), window_size = window_size)\n",
    "\n",
    "good_size_train = AAPL2_X_LSTM.shape[0] - AAPL2_X_LSTM.shape[0] % batch_size\n",
    "AAPL2_X_LSTM = AAPL2_X_LSTM[-good_size_train:]\n",
    "AAPL2_y_LSTM = AAPL2_y_LSTM[-good_size_train:]\n",
    "\n",
    "error = mean_squared_error(SPY_2_model.predict(AAPL2_X_LSTM, batch_size = batch_size), np.array(AAPL2_y_LSTM)) / np.mean(AAPL2_y_LSTM)\n",
    "\n",
    "print('Error: {}% of mean'.format(error * 100))\n",
    "\n",
    "AAPL2_perf['Adj Close 1day pct_change'] = error"
   ]
  },
  {
   "cell_type": "code",
   "execution_count": 86,
   "metadata": {},
   "outputs": [
    {
     "name": "stdout",
     "output_type": "stream",
     "text": [
      "Error: 62.833230362136426% of mean\n"
     ]
    }
   ],
   "source": [
    "error = mean_squared_error(SPY_3_model.predict(AAPL2_df_rand_X), AAPL2_df_rand_y['Adj Close 5day pct_change']) / np.mean(AAPL2_df_rand_y['Adj Close 5day pct_change'])\n",
    "\n",
    "print('Error: {}% of mean'.format(error * 100))\n",
    "\n",
    "AAPL2_perf['Adj Close 5day pct_change'] = error"
   ]
  },
  {
   "cell_type": "code",
   "execution_count": 87,
   "metadata": {},
   "outputs": [
    {
     "name": "stdout",
     "output_type": "stream",
     "text": [
      "Error: 52.5623268698061% of mean\n"
     ]
    },
    {
     "name": "stderr",
     "output_type": "stream",
     "text": [
      "c:\\users\\inves\\appdata\\local\\programs\\python\\python35\\lib\\site-packages\\sklearn\\preprocessing\\label.py:171: DeprecationWarning: The truth value of an empty array is ambiguous. Returning False, but in future this will result in an error. Use `array.size > 0` to check that an array is not empty.\n",
      "  if diff:\n"
     ]
    }
   ],
   "source": [
    "target_variable = 4\n",
    "error = accuracy_score(SPY_4_model.predict(np.array(AAPL2_df_X)), AAPL2_df_y['Adj Close 1day pct_change cls'])\n",
    "\n",
    "print('Error: {}% of mean'.format(error * 100))\n",
    "\n",
    "AAPL2_perf['Adj Close 1day pct_change cls'] = error"
   ]
  },
  {
   "cell_type": "code",
   "execution_count": 88,
   "metadata": {},
   "outputs": [
    {
     "name": "stdout",
     "output_type": "stream",
     "text": [
      "Error: 54.21052631578947% of mean\n"
     ]
    },
    {
     "name": "stderr",
     "output_type": "stream",
     "text": [
      "c:\\users\\inves\\appdata\\local\\programs\\python\\python35\\lib\\site-packages\\sklearn\\preprocessing\\label.py:171: DeprecationWarning: The truth value of an empty array is ambiguous. Returning False, but in future this will result in an error. Use `array.size > 0` to check that an array is not empty.\n",
      "  if diff:\n"
     ]
    }
   ],
   "source": [
    "error = accuracy_score(SPY_5_model.predict(np.array(AAPL2_df_X)), AAPL2_df_y['Adj Close 5day pct_change cls'])\n",
    "\n",
    "print('Error: {}% of mean'.format(error * 100))\n",
    "\n",
    "AAPL2_perf['Adj Close 5day pct_change cls'] = error"
   ]
  },
  {
   "cell_type": "code",
   "execution_count": 89,
   "metadata": {},
   "outputs": [
    {
     "data": {
      "text/plain": [
       "{'Adj Close 1day': 2.1661559473813354,\n",
       " 'Adj Close 1day pct_change': 0.564209137543583,\n",
       " 'Adj Close 1day pct_change cls': 0.525623268698061,\n",
       " 'Adj Close 5day': 2.1805364708970703,\n",
       " 'Adj Close 5day pct_change': 0.6283323036213643,\n",
       " 'Adj Close 5day pct_change cls': 0.5421052631578948}"
      ]
     },
     "execution_count": 89,
     "metadata": {},
     "output_type": "execute_result"
    }
   ],
   "source": [
    "AAPL2_perf"
   ]
  },
  {
   "cell_type": "markdown",
   "metadata": {},
   "source": [
    "|MSE and ACC|Adj Close 1day|Adj Close 5day|Adj Close 1day pct_change|Adj Close 5day pct_change|Adj Close 1day pct_change cls|Adj Close 5day pct_change cls|\n",
    "|-|-|-|-|-|-||\n",
    "|SPY train  |0.000006|0.000021|0.378107|0.049637|0.849233|0.944239|\n",
    "|SPY test   |0.000028|0.000106|0.140552|0.196893|0.458430|0.487179|\n",
    "|SPY Updated|1.073274e-05|3.767846e-05|0.318148|0.318148|0.768336|0.850829|\n",
    "|AAPL Updated|2.166155|2.180536|0.525623|0.628332|0.525623|0.542105|"
   ]
  },
  {
   "cell_type": "markdown",
   "metadata": {},
   "source": [
    "Let me actually built a pipeline like item to produce results for the individual stock"
   ]
  },
  {
   "cell_type": "code",
   "execution_count": 94,
   "metadata": {},
   "outputs": [],
   "source": [
    "#initalize what we need\n",
    "perf = dict()"
   ]
  },
  {
   "cell_type": "code",
   "execution_count": 90,
   "metadata": {},
   "outputs": [],
   "source": [
    "#loading models\n",
    "pca_model = SPY_PCA_model\n",
    "model0 = SPY_0_model\n",
    "model1 = SPY_1_model\n",
    "model2 = SPY_2_model\n",
    "model3 = SPY_3_model\n",
    "model4 = SPY_4_model\n",
    "model5 = SPY_5_model"
   ]
  },
  {
   "cell_type": "code",
   "execution_count": 91,
   "metadata": {},
   "outputs": [
    {
     "name": "stderr",
     "output_type": "stream",
     "text": [
      "c:\\users\\inves\\appdata\\local\\programs\\python\\python35\\lib\\site-packages\\sklearn\\preprocessing\\data.py:586: DeprecationWarning: Passing 1d arrays as data is deprecated in 0.17 and will raise ValueError in 0.19. Reshape your data either using X.reshape(-1, 1) if your data has a single feature or X.reshape(1, -1) if it contains a single sample.\n",
      "  warnings.warn(DEPRECATION_MSG_1D, DeprecationWarning)\n",
      "c:\\users\\inves\\appdata\\local\\programs\\python\\python35\\lib\\site-packages\\sklearn\\preprocessing\\data.py:649: DeprecationWarning: Passing 1d arrays as data is deprecated in 0.17 and will raise ValueError in 0.19. Reshape your data either using X.reshape(-1, 1) if your data has a single feature or X.reshape(1, -1) if it contains a single sample.\n",
      "  warnings.warn(DEPRECATION_MSG_1D, DeprecationWarning)\n",
      "c:\\users\\inves\\appdata\\local\\programs\\python\\python35\\lib\\site-packages\\sklearn\\preprocessing\\data.py:321: DeprecationWarning: Passing 1d arrays as data is deprecated in 0.17 and will raise ValueError in 0.19. Reshape your data either using X.reshape(-1, 1) if your data has a single feature or X.reshape(1, -1) if it contains a single sample.\n",
      "  warnings.warn(DEPRECATION_MSG_1D, DeprecationWarning)\n",
      "c:\\users\\inves\\appdata\\local\\programs\\python\\python35\\lib\\site-packages\\sklearn\\preprocessing\\data.py:356: DeprecationWarning: Passing 1d arrays as data is deprecated in 0.17 and will raise ValueError in 0.19. Reshape your data either using X.reshape(-1, 1) if your data has a single feature or X.reshape(1, -1) if it contains a single sample.\n",
      "  warnings.warn(DEPRECATION_MSG_1D, DeprecationWarning)\n"
     ]
    }
   ],
   "source": [
    "#extract data and implementing some methods to the data\n",
    "_, PCA_df, df = extract_data('HD', pca_model)\n",
    "PCA_df_rand = shuffle(PCA_df, random_state = 0)\n",
    "df_rand = shuffle(df, random_state = 0)"
   ]
  },
  {
   "cell_type": "code",
   "execution_count": 93,
   "metadata": {},
   "outputs": [],
   "source": [
    "#separate the targets from the features\n",
    "PCA_rand_X = PCA_df_rand[['Dimension 1', 'Dimension 2', 'Dimension 3', 'Dimension 4',\n",
    "                          'Dimension 5', 'Dimension 6', 'Dimension 7']]\n",
    "PCA_rand_y = PCA_df_rand[['Adj Close 1day', 'Adj Close 5day',\n",
    "                          'Adj Close 1day pct_change', 'Adj Close 5day pct_change',\n",
    "                          'Adj Close 1day pct_change cls', 'Adj Close 5day pct_change cls']]\n",
    "\n",
    "PCA_X = PCA_df[['Dimension 1', 'Dimension 2', 'Dimension 3', 'Dimension 4',\n",
    "                'Dimension 5', 'Dimension 6', 'Dimension 7']]\n",
    "PCA_y = PCA_df[['Adj Close 1day', 'Adj Close 5day',\n",
    "                'Adj Close 1day pct_change', 'Adj Close 5day pct_change',\n",
    "                'Adj Close 1day pct_change cls', 'Adj Close 5day pct_change cls']]\n",
    "\n",
    "df_rand_X = df_rand[['Open', 'High', 'Low', 'Adj Close', 'Volume', 'Range', 'MA5 Adj Close', 'MA5 Volume',\n",
    "                     'MA5 Adj Close pct_change', 'MA5 Volume pct_change']]\n",
    "df_rand_y = df_rand[['Adj Close 1day', 'Adj Close 5day', 'Adj Close 1day pct_change',\n",
    "                     'Adj Close 5day pct_change', 'Adj Close 1day pct_change cls',\n",
    "                     'Adj Close 5day pct_change cls']]\n",
    "\n",
    "df_X = df[['Open', 'High', 'Low', 'Adj Close', 'Volume', 'Range', 'MA5 Adj Close', 'MA5 Volume',\n",
    "           'MA5 Adj Close pct_change', 'MA5 Volume pct_change']]\n",
    "df_y = df[['Adj Close 1day', 'Adj Close 5day', 'Adj Close 1day pct_change',\n",
    "           'Adj Close 5day pct_change', 'Adj Close 1day pct_change cls',\n",
    "           'Adj Close 5day pct_change cls']]"
   ]
  },
  {
   "cell_type": "code",
   "execution_count": 100,
   "metadata": {},
   "outputs": [
    {
     "data": {
      "text/plain": [
       "'Adj Close 1day'"
      ]
     },
     "execution_count": 100,
     "metadata": {},
     "output_type": "execute_result"
    }
   ],
   "source": [
    "df_rand_y['Adj Close 1day'].name"
   ]
  },
  {
   "cell_type": "code",
   "execution_count": 109,
   "metadata": {},
   "outputs": [],
   "source": [
    "#this is what an user would pass in\n",
    "data_list = [(df_rand_X, df_rand_y['Adj Close 1day']),\n",
    "             (df_rand_X, df_rand_y['Adj Close 5day']),\n",
    "             (df_X, df_y['Adj Close 1day pct_change']),\n",
    "             (df_rand_X, df_rand_y['Adj Close 5day pct_change']),\n",
    "             (df_X, df_y['Adj Close 1day pct_change cls']),\n",
    "             (df_X, df_y['Adj Close 5day pct_change cls'])]"
   ]
  },
  {
   "cell_type": "code",
   "execution_count": 110,
   "metadata": {},
   "outputs": [
    {
     "name": "stdout",
     "output_type": "stream",
     "text": [
      "Error: 22.457426852774436% of mean\n"
     ]
    }
   ],
   "source": [
    "i = 0\n",
    "error = mean_squared_error(model0.predict(data_list[i][0]), data_list[i][1]) / np.mean(data_list[i][1])\n",
    "\n",
    "print('Error: {}% of mean'.format(error * 100))\n",
    "\n",
    "perf[data_list[i][1].name] = error"
   ]
  },
  {
   "cell_type": "code",
   "execution_count": 111,
   "metadata": {},
   "outputs": [
    {
     "name": "stdout",
     "output_type": "stream",
     "text": [
      "Error: 22.719214838362394% of mean\n"
     ]
    }
   ],
   "source": [
    "i = 1\n",
    "error = mean_squared_error(model1.predict(data_list[i][0]), data_list[i][1]) / np.mean(data_list[i][1])\n",
    "\n",
    "print('Error: {}% of mean'.format(error * 100))\n",
    "\n",
    "perf[data_list[i][1].name] = error"
   ]
  },
  {
   "cell_type": "code",
   "execution_count": 112,
   "metadata": {},
   "outputs": [
    {
     "name": "stdout",
     "output_type": "stream",
     "text": [
      "Error: 42.9825275261483% of mean\n"
     ]
    }
   ],
   "source": [
    "i = 2\n",
    "window_size = 5\n",
    "batch_size = 500\n",
    "\n",
    "X_LSTM, y_LSTM = window_transform_series(np.array(data_list[i][0]), np.array(data_list[i][1]), window_size = window_size)\n",
    "\n",
    "good_size_train = X_LSTM.shape[0] - X_LSTM.shape[0] % batch_size\n",
    "X_LSTM = X_LSTM[-good_size_train:]\n",
    "y_LSTM = y_LSTM[-good_size_train:]\n",
    "\n",
    "error = mean_squared_error(model2.predict(X_LSTM, batch_size = batch_size), np.array(y_LSTM)) / np.mean(y_LSTM)\n",
    "\n",
    "print('Error: {}% of mean'.format(error * 100))\n",
    "\n",
    "perf[data_list[i][1].name] = error"
   ]
  },
  {
   "cell_type": "code",
   "execution_count": 113,
   "metadata": {},
   "outputs": [
    {
     "name": "stdout",
     "output_type": "stream",
     "text": [
      "Error: 44.71636578327715% of mean\n"
     ]
    }
   ],
   "source": [
    "i = 3\n",
    "error = mean_squared_error(model3.predict(np.array(data_list[i][0])), data_list[i][1]) / np.mean(data_list[i][1])\n",
    "\n",
    "print('Error: {}% of mean'.format(error * 100))\n",
    "\n",
    "perf[data_list[i][1].name] = error"
   ]
  },
  {
   "cell_type": "code",
   "execution_count": 115,
   "metadata": {},
   "outputs": [
    {
     "name": "stdout",
     "output_type": "stream",
     "text": [
      "Error: 52.60099612617598% of mean\n"
     ]
    },
    {
     "name": "stderr",
     "output_type": "stream",
     "text": [
      "c:\\users\\inves\\appdata\\local\\programs\\python\\python35\\lib\\site-packages\\sklearn\\preprocessing\\label.py:171: DeprecationWarning: The truth value of an empty array is ambiguous. Returning False, but in future this will result in an error. Use `array.size > 0` to check that an array is not empty.\n",
      "  if diff:\n"
     ]
    }
   ],
   "source": [
    "i = 4\n",
    "error = accuracy_score(model4.predict(np.array(data_list[i][0])), data_list[i][1])\n",
    "\n",
    "print('Error: {}% of mean'.format(error * 100))\n",
    "\n",
    "perf[data_list[i][1].name] = error"
   ]
  },
  {
   "cell_type": "code",
   "execution_count": 116,
   "metadata": {},
   "outputs": [
    {
     "name": "stdout",
     "output_type": "stream",
     "text": [
      "Error: 54.12285556170448% of mean\n"
     ]
    },
    {
     "name": "stderr",
     "output_type": "stream",
     "text": [
      "c:\\users\\inves\\appdata\\local\\programs\\python\\python35\\lib\\site-packages\\sklearn\\preprocessing\\label.py:171: DeprecationWarning: The truth value of an empty array is ambiguous. Returning False, but in future this will result in an error. Use `array.size > 0` to check that an array is not empty.\n",
      "  if diff:\n"
     ]
    }
   ],
   "source": [
    "i = 5\n",
    "error = accuracy_score(model5.predict(np.array(data_list[i][0])), data_list[i][1])\n",
    "\n",
    "print('Error: {}% of mean'.format(error * 100))\n",
    "\n",
    "perf[data_list[i][1].name] = error"
   ]
  },
  {
   "cell_type": "code",
   "execution_count": 124,
   "metadata": {},
   "outputs": [
    {
     "data": {
      "text/plain": [
       "{'Adj Close 1day': 0.22457426852774437,\n",
       " 'Adj Close 1day pct_change': 0.42982527526148306,\n",
       " 'Adj Close 1day pct_change cls': 0.5260099612617598,\n",
       " 'Adj Close 5day': 0.22719214838362392,\n",
       " 'Adj Close 5day pct_change': 0.44716365783277146,\n",
       " 'Adj Close 5day pct_change cls': 0.5412285556170449}"
      ]
     },
     "execution_count": 124,
     "metadata": {},
     "output_type": "execute_result"
    }
   ],
   "source": [
    "perf"
   ]
  },
  {
   "cell_type": "markdown",
   "metadata": {},
   "source": [
    "|MSE and ACC|Adj Close 1day|Adj Close 5day|Adj Close 1day pct_change|Adj Close 5day pct_change|Adj Close 1day pct_change cls|Adj Close 5day pct_change cls|\n",
    "|-|-|-|-|-|-||\n",
    "|SPY train  |0.000006|0.000021|0.378107|0.049637|0.849233|0.944239|\n",
    "|SPY test   |0.000028|0.000106|0.140552|0.196893|0.458430|0.487179|\n",
    "|SPY Updated|1.073274e-05|3.767846e-05|0.318148|0.318148|0.768336|0.850829|\n",
    "|AAPL Updated|2.166155|2.180536|0.525623|0.628332|0.525623|0.542105|\n",
    "|HD Updated |0.224574|0.227192|0.429825|0.447163|0.526009|0.541228|"
   ]
  },
  {
   "cell_type": "markdown",
   "metadata": {},
   "source": [
    "Now let's 'pipeline' the process a little more"
   ]
  },
  {
   "cell_type": "code",
   "execution_count": 131,
   "metadata": {},
   "outputs": [],
   "source": [
    "def SPY_apply(symbol):\n",
    "    #initalize what we need\n",
    "    perf = dict()\n",
    "    \n",
    "    #loading models\n",
    "    pca_model = SPY_PCA_model\n",
    "    models = [SPY_0_model, SPY_1_model, SPY_2_model,\n",
    "              SPY_3_model, SPY_4_model, SPY_5_model]\n",
    "    \n",
    "    #extract data and implementing some methods to the data\n",
    "    _, PCA_df, df = extract_data(symbol, pca_model)\n",
    "    PCA_df_rand = shuffle(PCA_df, random_state = 0)\n",
    "    df_rand = shuffle(df, random_state = 0)\n",
    "    \n",
    "    #separate the targets from the features\n",
    "    PCA_rand_X = PCA_df_rand[['Dimension 1', 'Dimension 2', 'Dimension 3', 'Dimension 4',\n",
    "                              'Dimension 5', 'Dimension 6', 'Dimension 7']]\n",
    "    PCA_rand_y = PCA_df_rand[['Adj Close 1day', 'Adj Close 5day',\n",
    "                              'Adj Close 1day pct_change', 'Adj Close 5day pct_change',\n",
    "                              'Adj Close 1day pct_change cls', 'Adj Close 5day pct_change cls']]\n",
    "\n",
    "    PCA_X = PCA_df[['Dimension 1', 'Dimension 2', 'Dimension 3', 'Dimension 4',\n",
    "                    'Dimension 5', 'Dimension 6', 'Dimension 7']]\n",
    "    PCA_y = PCA_df[['Adj Close 1day', 'Adj Close 5day',\n",
    "                    'Adj Close 1day pct_change', 'Adj Close 5day pct_change',\n",
    "                    'Adj Close 1day pct_change cls', 'Adj Close 5day pct_change cls']]\n",
    "\n",
    "    df_rand_X = df_rand[['Open', 'High', 'Low', 'Adj Close', 'Volume', 'Range', 'MA5 Adj Close', 'MA5 Volume',\n",
    "                         'MA5 Adj Close pct_change', 'MA5 Volume pct_change']]\n",
    "    df_rand_y = df_rand[['Adj Close 1day', 'Adj Close 5day', 'Adj Close 1day pct_change',\n",
    "                         'Adj Close 5day pct_change', 'Adj Close 1day pct_change cls',\n",
    "                         'Adj Close 5day pct_change cls']]\n",
    "\n",
    "    df_X = df[['Open', 'High', 'Low', 'Adj Close', 'Volume', 'Range', 'MA5 Adj Close', 'MA5 Volume',\n",
    "               'MA5 Adj Close pct_change', 'MA5 Volume pct_change']]\n",
    "    df_y = df[['Adj Close 1day', 'Adj Close 5day', 'Adj Close 1day pct_change',\n",
    "               'Adj Close 5day pct_change', 'Adj Close 1day pct_change cls',\n",
    "               'Adj Close 5day pct_change cls']]\n",
    "    \n",
    "    #this is what an user would pass in\n",
    "    data_list = [(df_rand_X, df_rand_y['Adj Close 1day']),\n",
    "                 (df_rand_X, df_rand_y['Adj Close 5day']),\n",
    "                 (df_X, df_y['Adj Close 1day pct_change']),\n",
    "                 (df_rand_X, df_rand_y['Adj Close 5day pct_change']),\n",
    "                 (df_X, df_y['Adj Close 1day pct_change cls']),\n",
    "                 (df_X, df_y['Adj Close 5day pct_change cls'])]\n",
    "    \n",
    "    for i in range(2):\n",
    "        error = mean_squared_error(models[i].predict(data_list[i][0]), data_list[i][1]) / np.mean(data_list[i][1])\n",
    "        print('Error: {}% of mean'.format(error * 100))\n",
    "        perf[data_list[i][1].name] = error\n",
    "        \n",
    "    i = 2\n",
    "    window_size = 5\n",
    "    batch_size = 500\n",
    "\n",
    "    X_LSTM, y_LSTM = window_transform_series(np.array(data_list[i][0]), np.array(data_list[i][1]), window_size = window_size)\n",
    "\n",
    "    good_size_train = X_LSTM.shape[0] - X_LSTM.shape[0] % batch_size\n",
    "    X_LSTM = X_LSTM[-good_size_train:]\n",
    "    y_LSTM = y_LSTM[-good_size_train:]\n",
    "\n",
    "    error = mean_squared_error(models[i].predict(X_LSTM, batch_size = batch_size), np.array(y_LSTM)) / np.mean(y_LSTM)\n",
    "    print('Error: {}% of mean'.format(error * 100))\n",
    "    perf[data_list[i][1].name] = error\n",
    "    \n",
    "    i = 3\n",
    "    error = mean_squared_error(models[i].predict(data_list[i][0]), data_list[i][1]) / np.mean(data_list[i][1])\n",
    "    print('Error: {}% of mean'.format(error * 100))\n",
    "    perf[data_list[i][1].name] = error\n",
    "    \n",
    "    for i in range(4,6):\n",
    "        error = accuracy_score(models[i].predict(np.array(data_list[i][0])), data_list[i][1])\n",
    "        print('Error: {}% of mean'.format(error * 100))\n",
    "        perf[data_list[i][1].name] = error\n",
    "        \n",
    "    return perf"
   ]
  },
  {
   "cell_type": "code",
   "execution_count": 133,
   "metadata": {},
   "outputs": [
    {
     "name": "stderr",
     "output_type": "stream",
     "text": [
      "c:\\users\\inves\\appdata\\local\\programs\\python\\python35\\lib\\site-packages\\sklearn\\preprocessing\\data.py:586: DeprecationWarning: Passing 1d arrays as data is deprecated in 0.17 and will raise ValueError in 0.19. Reshape your data either using X.reshape(-1, 1) if your data has a single feature or X.reshape(1, -1) if it contains a single sample.\n",
      "  warnings.warn(DEPRECATION_MSG_1D, DeprecationWarning)\n",
      "c:\\users\\inves\\appdata\\local\\programs\\python\\python35\\lib\\site-packages\\sklearn\\preprocessing\\data.py:649: DeprecationWarning: Passing 1d arrays as data is deprecated in 0.17 and will raise ValueError in 0.19. Reshape your data either using X.reshape(-1, 1) if your data has a single feature or X.reshape(1, -1) if it contains a single sample.\n",
      "  warnings.warn(DEPRECATION_MSG_1D, DeprecationWarning)\n",
      "c:\\users\\inves\\appdata\\local\\programs\\python\\python35\\lib\\site-packages\\sklearn\\preprocessing\\data.py:321: DeprecationWarning: Passing 1d arrays as data is deprecated in 0.17 and will raise ValueError in 0.19. Reshape your data either using X.reshape(-1, 1) if your data has a single feature or X.reshape(1, -1) if it contains a single sample.\n",
      "  warnings.warn(DEPRECATION_MSG_1D, DeprecationWarning)\n",
      "c:\\users\\inves\\appdata\\local\\programs\\python\\python35\\lib\\site-packages\\sklearn\\preprocessing\\data.py:356: DeprecationWarning: Passing 1d arrays as data is deprecated in 0.17 and will raise ValueError in 0.19. Reshape your data either using X.reshape(-1, 1) if your data has a single feature or X.reshape(1, -1) if it contains a single sample.\n",
      "  warnings.warn(DEPRECATION_MSG_1D, DeprecationWarning)\n"
     ]
    },
    {
     "name": "stdout",
     "output_type": "stream",
     "text": [
      "Error: 0.09982693494705508% of mean\n",
      "Error: 0.1475675954928723% of mean\n",
      "Error: 29.711184438887038% of mean\n",
      "Error: 44.910184343552125% of mean\n",
      "Error: 49.87389659520807% of mean\n",
      "Error: 47.91929382093317% of mean\n"
     ]
    },
    {
     "name": "stderr",
     "output_type": "stream",
     "text": [
      "c:\\users\\inves\\appdata\\local\\programs\\python\\python35\\lib\\site-packages\\sklearn\\preprocessing\\label.py:171: DeprecationWarning: The truth value of an empty array is ambiguous. Returning False, but in future this will result in an error. Use `array.size > 0` to check that an array is not empty.\n",
      "  if diff:\n",
      "c:\\users\\inves\\appdata\\local\\programs\\python\\python35\\lib\\site-packages\\sklearn\\preprocessing\\label.py:171: DeprecationWarning: The truth value of an empty array is ambiguous. Returning False, but in future this will result in an error. Use `array.size > 0` to check that an array is not empty.\n",
      "  if diff:\n"
     ]
    },
    {
     "data": {
      "text/plain": [
       "{'Adj Close 1day': 0.0009982693494705508,\n",
       " 'Adj Close 1day pct_change': 0.2971118443888704,\n",
       " 'Adj Close 1day pct_change cls': 0.4987389659520807,\n",
       " 'Adj Close 5day': 0.001475675954928723,\n",
       " 'Adj Close 5day pct_change': 0.44910184343552123,\n",
       " 'Adj Close 5day pct_change cls': 0.4791929382093317}"
      ]
     },
     "execution_count": 133,
     "metadata": {},
     "output_type": "execute_result"
    }
   ],
   "source": [
    "SPY_apply('FB')"
   ]
  },
  {
   "cell_type": "markdown",
   "metadata": {},
   "source": [
    "|MSE and ACC|Adj Close 1day|Adj Close 5day|Adj Close 1day pct_change|Adj Close 5day pct_change|Adj Close 1day pct_change cls|Adj Close 5day pct_change cls|\n",
    "|-|-|-|-|-|-|-|\n",
    "|SPY train  |0.000006|0.000021|0.378107|0.049637|0.849233|0.944239|\n",
    "|SPY test   |0.000028|0.000106|0.140552|0.196893|0.458430|0.487179|\n",
    "|SPY Updated|1.073274e-05|3.767846e-05|0.318148|0.318148|0.768336|0.850829|\n",
    "|AAPL Updated|2.166155|2.180536|0.525623|0.628332|0.525623|0.542105|\n",
    "|HD Updated |0.224574|0.227192|0.429825|0.447163|0.526009|0.541228|\n",
    "|FB Updated |0.000998|0.001475|0.297111|0.449101|0.498738|0.479192|"
   ]
  },
  {
   "cell_type": "code",
   "execution_count": 135,
   "metadata": {},
   "outputs": [
    {
     "name": "stderr",
     "output_type": "stream",
     "text": [
      "c:\\users\\inves\\appdata\\local\\programs\\python\\python35\\lib\\site-packages\\sklearn\\preprocessing\\data.py:586: DeprecationWarning: Passing 1d arrays as data is deprecated in 0.17 and will raise ValueError in 0.19. Reshape your data either using X.reshape(-1, 1) if your data has a single feature or X.reshape(1, -1) if it contains a single sample.\n",
      "  warnings.warn(DEPRECATION_MSG_1D, DeprecationWarning)\n",
      "c:\\users\\inves\\appdata\\local\\programs\\python\\python35\\lib\\site-packages\\sklearn\\preprocessing\\data.py:649: DeprecationWarning: Passing 1d arrays as data is deprecated in 0.17 and will raise ValueError in 0.19. Reshape your data either using X.reshape(-1, 1) if your data has a single feature or X.reshape(1, -1) if it contains a single sample.\n",
      "  warnings.warn(DEPRECATION_MSG_1D, DeprecationWarning)\n",
      "c:\\users\\inves\\appdata\\local\\programs\\python\\python35\\lib\\site-packages\\sklearn\\preprocessing\\data.py:321: DeprecationWarning: Passing 1d arrays as data is deprecated in 0.17 and will raise ValueError in 0.19. Reshape your data either using X.reshape(-1, 1) if your data has a single feature or X.reshape(1, -1) if it contains a single sample.\n",
      "  warnings.warn(DEPRECATION_MSG_1D, DeprecationWarning)\n",
      "c:\\users\\inves\\appdata\\local\\programs\\python\\python35\\lib\\site-packages\\sklearn\\preprocessing\\data.py:356: DeprecationWarning: Passing 1d arrays as data is deprecated in 0.17 and will raise ValueError in 0.19. Reshape your data either using X.reshape(-1, 1) if your data has a single feature or X.reshape(1, -1) if it contains a single sample.\n",
      "  warnings.warn(DEPRECATION_MSG_1D, DeprecationWarning)\n"
     ]
    },
    {
     "name": "stdout",
     "output_type": "stream",
     "text": [
      "Error: 9.364985775812924% of mean\n",
      "Error: 9.377376385121924% of mean\n",
      "Error: 85.04026364569988% of mean\n",
      "Error: 76.61001176054467% of mean\n",
      "Error: 49.142431021625654% of mean\n",
      "Error: 51.043997017151376% of mean\n"
     ]
    },
    {
     "name": "stderr",
     "output_type": "stream",
     "text": [
      "c:\\users\\inves\\appdata\\local\\programs\\python\\python35\\lib\\site-packages\\sklearn\\preprocessing\\label.py:171: DeprecationWarning: The truth value of an empty array is ambiguous. Returning False, but in future this will result in an error. Use `array.size > 0` to check that an array is not empty.\n",
      "  if diff:\n",
      "c:\\users\\inves\\appdata\\local\\programs\\python\\python35\\lib\\site-packages\\sklearn\\preprocessing\\label.py:171: DeprecationWarning: The truth value of an empty array is ambiguous. Returning False, but in future this will result in an error. Use `array.size > 0` to check that an array is not empty.\n",
      "  if diff:\n"
     ]
    },
    {
     "data": {
      "text/plain": [
       "{'Adj Close 1day': 0.09364985775812924,\n",
       " 'Adj Close 1day pct_change': 0.8504026364569989,\n",
       " 'Adj Close 1day pct_change cls': 0.49142431021625654,\n",
       " 'Adj Close 5day': 0.09377376385121923,\n",
       " 'Adj Close 5day pct_change': 0.7661001176054467,\n",
       " 'Adj Close 5day pct_change cls': 0.5104399701715138}"
      ]
     },
     "execution_count": 135,
     "metadata": {},
     "output_type": "execute_result"
    }
   ],
   "source": [
    "SPY_apply('AMZN')"
   ]
  },
  {
   "cell_type": "markdown",
   "metadata": {},
   "source": [
    "|MSE and ACC|Adj Close 1day|Adj Close 5day|Adj Close 1day pct_change|Adj Close 5day pct_change|Adj Close 1day pct_change cls|Adj Close 5day pct_change cls|\n",
    "|-|-|-|-|-|-|-|\n",
    "|SPY train  |0.000006|0.000021|0.378107|0.049637|0.849233|0.944239|\n",
    "|SPY test   |0.000028|0.000106|0.140552|0.196893|0.458430|0.487179|\n",
    "|SPY Updated|1.073274e-05|3.767846e-05|0.318148|0.318148|0.768336|0.850829|\n",
    "|AAPL Updated|2.166155|2.180536|0.525623|0.628332|0.525623|0.542105|\n",
    "|HD Updated |0.224574|0.227192|0.429825|0.447163|0.526009|0.541228|\n",
    "|FB Updated |0.000998|0.001475|0.297111|0.449101|0.498738|0.479192|\n",
    "|AMZN Updated|0.093649|0.093773|0.850402|0.766100|0.491424|0.510439|"
   ]
  },
  {
   "cell_type": "code",
   "execution_count": 137,
   "metadata": {},
   "outputs": [
    {
     "name": "stderr",
     "output_type": "stream",
     "text": [
      "c:\\users\\inves\\appdata\\local\\programs\\python\\python35\\lib\\site-packages\\sklearn\\preprocessing\\data.py:586: DeprecationWarning: Passing 1d arrays as data is deprecated in 0.17 and will raise ValueError in 0.19. Reshape your data either using X.reshape(-1, 1) if your data has a single feature or X.reshape(1, -1) if it contains a single sample.\n",
      "  warnings.warn(DEPRECATION_MSG_1D, DeprecationWarning)\n",
      "c:\\users\\inves\\appdata\\local\\programs\\python\\python35\\lib\\site-packages\\sklearn\\preprocessing\\data.py:649: DeprecationWarning: Passing 1d arrays as data is deprecated in 0.17 and will raise ValueError in 0.19. Reshape your data either using X.reshape(-1, 1) if your data has a single feature or X.reshape(1, -1) if it contains a single sample.\n",
      "  warnings.warn(DEPRECATION_MSG_1D, DeprecationWarning)\n",
      "c:\\users\\inves\\appdata\\local\\programs\\python\\python35\\lib\\site-packages\\sklearn\\preprocessing\\data.py:321: DeprecationWarning: Passing 1d arrays as data is deprecated in 0.17 and will raise ValueError in 0.19. Reshape your data either using X.reshape(-1, 1) if your data has a single feature or X.reshape(1, -1) if it contains a single sample.\n",
      "  warnings.warn(DEPRECATION_MSG_1D, DeprecationWarning)\n",
      "c:\\users\\inves\\appdata\\local\\programs\\python\\python35\\lib\\site-packages\\sklearn\\preprocessing\\data.py:356: DeprecationWarning: Passing 1d arrays as data is deprecated in 0.17 and will raise ValueError in 0.19. Reshape your data either using X.reshape(-1, 1) if your data has a single feature or X.reshape(1, -1) if it contains a single sample.\n",
      "  warnings.warn(DEPRECATION_MSG_1D, DeprecationWarning)\n"
     ]
    },
    {
     "name": "stdout",
     "output_type": "stream",
     "text": [
      "Error: 97.05980223545964% of mean\n",
      "Error: 95.84183472825993% of mean\n",
      "Error: -420.70907146557295% of mean\n",
      "Error: -88.79930611683879% of mean\n",
      "Error: 54.96277915632754% of mean\n",
      "Error: 51.28205128205128% of mean\n"
     ]
    },
    {
     "name": "stderr",
     "output_type": "stream",
     "text": [
      "c:\\users\\inves\\appdata\\local\\programs\\python\\python35\\lib\\site-packages\\sklearn\\preprocessing\\label.py:171: DeprecationWarning: The truth value of an empty array is ambiguous. Returning False, but in future this will result in an error. Use `array.size > 0` to check that an array is not empty.\n",
      "  if diff:\n",
      "c:\\users\\inves\\appdata\\local\\programs\\python\\python35\\lib\\site-packages\\sklearn\\preprocessing\\label.py:171: DeprecationWarning: The truth value of an empty array is ambiguous. Returning False, but in future this will result in an error. Use `array.size > 0` to check that an array is not empty.\n",
      "  if diff:\n"
     ]
    },
    {
     "data": {
      "text/plain": [
       "{'Adj Close 1day': 0.9705980223545964,\n",
       " 'Adj Close 1day pct_change': -4.207090714655729,\n",
       " 'Adj Close 1day pct_change cls': 0.5496277915632755,\n",
       " 'Adj Close 5day': 0.9584183472825992,\n",
       " 'Adj Close 5day pct_change': -0.8879930611683879,\n",
       " 'Adj Close 5day pct_change cls': 0.5128205128205128}"
      ]
     },
     "execution_count": 137,
     "metadata": {},
     "output_type": "execute_result"
    }
   ],
   "source": [
    "SPY_apply('VXX')"
   ]
  },
  {
   "cell_type": "markdown",
   "metadata": {},
   "source": [
    "|MSE and ACC|Adj Close 1day|Adj Close 5day|Adj Close 1day pct_change|Adj Close 5day pct_change|Adj Close 1day pct_change cls|Adj Close 5day pct_change cls|\n",
    "|-|-|-|-|-|-|-|\n",
    "|SPY train  |0.000006|0.000021|0.378107|0.049637|0.849233|0.944239|\n",
    "|SPY test   |0.000028|0.000106|0.140552|0.196893|0.458430|0.487179|\n",
    "|SPY Updated|1.073274e-05|3.767846e-05|0.318148|0.318148|0.768336|0.850829|\n",
    "|AAPL Updated|2.166155|2.180536|0.525623|0.628332|0.525623|0.542105|\n",
    "|HD Updated |0.224574|0.227192|0.429825|0.447163|0.526009|0.541228|\n",
    "|FB Updated |0.000998|0.001475|0.297111|0.449101|0.498738|0.479192|\n",
    "|AMZN Updated|0.093649|0.093773|0.850402|0.766100|0.491424|0.510439|\n",
    "|VXX Updated|0.970598|0.958418|-4.207090|-0.887993|0.549627|0.512820|"
   ]
  },
  {
   "cell_type": "code",
   "execution_count": null,
   "metadata": {},
   "outputs": [],
   "source": []
  }
 ],
 "metadata": {
  "kernelspec": {
   "display_name": "Python 3",
   "language": "python",
   "name": "python3"
  },
  "language_info": {
   "codemirror_mode": {
    "name": "ipython",
    "version": 3
   },
   "file_extension": ".py",
   "mimetype": "text/x-python",
   "name": "python",
   "nbconvert_exporter": "python",
   "pygments_lexer": "ipython3",
   "version": "3.5.3"
  }
 },
 "nbformat": 4,
 "nbformat_minor": 2
}
